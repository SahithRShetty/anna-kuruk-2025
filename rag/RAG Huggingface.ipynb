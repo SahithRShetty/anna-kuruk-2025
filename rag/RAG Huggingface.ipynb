{
  "cells": [
    {
      "cell_type": "markdown",
      "metadata": {
        "id": "N65n1ALZyD9o"
      },
      "source": [
        "## RAG NOTEBOOK:\n",
        "This notebook contains the steps and code to demonstrate support of Retrieval Augumented Generation in watsonx.ai. It introduces commands for data retrieval, knowledge base building & querying, and model testing.\n",
        "\n",
        "Some familiarity with Python is helpful.\n",
        "\n",
        "### About Retrieval Augmented Generation\n",
        "Retrieval Augmented Generation (RAG) is a versatile pattern that can unlock a number of use cases requiring factual recall of information, such as querying a knowledge base in natural language.\n",
        "\n",
        "In its simplest form, RAG requires 3 steps:\n",
        "\n",
        "- Index knowledge base passages (once)\n",
        "- Retrieve relevant passage(s) from knowledge base (for every user query)\n",
        "- Generate a response by feeding retrieved passage into a large language model (for every user query)\n",
        "\n",
        "## Contents\n",
        "\n",
        "This notebook contains the following parts:\n",
        "\n",
        "- [Setup](#setup)\n",
        "- [Document data loading](#data)\n",
        "- [Build up knowledge base](#build_base)\n",
        "- [Foundation Models on watsonx](#models)\n",
        "- [Generate a retrieval-augmented response to a question](#predict)\n",
        "- [Summary and next steps](#summary)\n"
      ]
    },
    {
      "cell_type": "markdown",
      "metadata": {
        "id": "RUkG0gwwyE-R"
      },
      "source": []
    },
    {
      "cell_type": "markdown",
      "metadata": {
        "id": "7AmHaA3Qyprl"
      },
      "source": [
        "<a id=\"setup\"></a>\n",
        "##  Set up the environment"
      ]
    },
    {
      "cell_type": "code",
      "execution_count": null,
      "metadata": {
        "colab": {
          "base_uri": "https://localhost:8080/",
          "height": 1000
        },
        "id": "5EBl45xJrvbn",
        "outputId": "b754e8cf-33ec-44bc-af17-dd7271248402"
      },
      "outputs": [
        {
          "name": "stderr",
          "output_type": "stream",
          "text": [
            "huggingface/tokenizers: The current process just got forked, after parallelism has already been used. Disabling parallelism to avoid deadlocks...\n",
            "To disable this warning, you can either:\n",
            "\t- Avoid using `tokenizers` before the fork if possible\n",
            "\t- Explicitly set the environment variable TOKENIZERS_PARALLELISM=(true | false)\n"
          ]
        },
        {
          "name": "stdout",
          "output_type": "stream",
          "text": [
            "Requirement already satisfied: pypdf in /Users/suyashgupte/Documents/GitHub/opex-apis/opex/lib/python3.11/site-packages (5.3.0)\n",
            "\n",
            "\u001b[1m[\u001b[0m\u001b[34;49mnotice\u001b[0m\u001b[1;39;49m]\u001b[0m\u001b[39;49m A new release of pip is available: \u001b[0m\u001b[31;49m24.0\u001b[0m\u001b[39;49m -> \u001b[0m\u001b[32;49m25.0.1\u001b[0m\n",
            "\u001b[1m[\u001b[0m\u001b[34;49mnotice\u001b[0m\u001b[1;39;49m]\u001b[0m\u001b[39;49m To update, run: \u001b[0m\u001b[32;49mpip install --upgrade pip\u001b[0m\n"
          ]
        },
        {
          "name": "stderr",
          "output_type": "stream",
          "text": [
            "huggingface/tokenizers: The current process just got forked, after parallelism has already been used. Disabling parallelism to avoid deadlocks...\n",
            "To disable this warning, you can either:\n",
            "\t- Avoid using `tokenizers` before the fork if possible\n",
            "\t- Explicitly set the environment variable TOKENIZERS_PARALLELISM=(true | false)\n"
          ]
        },
        {
          "name": "stdout",
          "output_type": "stream",
          "text": [
            "Requirement already satisfied: langchain in /Users/suyashgupte/Documents/GitHub/opex-apis/opex/lib/python3.11/site-packages (0.3.18)\n",
            "Requirement already satisfied: langchain-core<1.0.0,>=0.3.34 in /Users/suyashgupte/Documents/GitHub/opex-apis/opex/lib/python3.11/site-packages (from langchain) (0.3.40)\n",
            "Requirement already satisfied: langchain-text-splitters<1.0.0,>=0.3.6 in /Users/suyashgupte/Documents/GitHub/opex-apis/opex/lib/python3.11/site-packages (from langchain) (0.3.6)\n",
            "Requirement already satisfied: langsmith<0.4,>=0.1.17 in /Users/suyashgupte/Documents/GitHub/opex-apis/opex/lib/python3.11/site-packages (from langchain) (0.1.133)\n",
            "Requirement already satisfied: pydantic<3.0.0,>=2.7.4 in /Users/suyashgupte/Documents/GitHub/opex-apis/opex/lib/python3.11/site-packages (from langchain) (2.9.2)\n",
            "Requirement already satisfied: SQLAlchemy<3,>=1.4 in /Users/suyashgupte/Documents/GitHub/opex-apis/opex/lib/python3.11/site-packages (from langchain) (2.0.35)\n",
            "Requirement already satisfied: requests<3,>=2 in /Users/suyashgupte/Documents/GitHub/opex-apis/opex/lib/python3.11/site-packages (from langchain) (2.32.2)\n",
            "Requirement already satisfied: PyYAML>=5.3 in /Users/suyashgupte/Documents/GitHub/opex-apis/opex/lib/python3.11/site-packages (from langchain) (6.0.2)\n",
            "Requirement already satisfied: aiohttp<4.0.0,>=3.8.3 in /Users/suyashgupte/Documents/GitHub/opex-apis/opex/lib/python3.11/site-packages (from langchain) (3.10.9)\n",
            "Requirement already satisfied: tenacity!=8.4.0,<10,>=8.1.0 in /Users/suyashgupte/Documents/GitHub/opex-apis/opex/lib/python3.11/site-packages (from langchain) (8.5.0)\n",
            "Requirement already satisfied: numpy<2,>=1.26.4 in /Users/suyashgupte/Documents/GitHub/opex-apis/opex/lib/python3.11/site-packages (from langchain) (1.26.4)\n",
            "Requirement already satisfied: aiohappyeyeballs>=2.3.0 in /Users/suyashgupte/Documents/GitHub/opex-apis/opex/lib/python3.11/site-packages (from aiohttp<4.0.0,>=3.8.3->langchain) (2.4.3)\n",
            "Requirement already satisfied: aiosignal>=1.1.2 in /Users/suyashgupte/Documents/GitHub/opex-apis/opex/lib/python3.11/site-packages (from aiohttp<4.0.0,>=3.8.3->langchain) (1.3.1)\n",
            "Requirement already satisfied: attrs>=17.3.0 in /Users/suyashgupte/Documents/GitHub/opex-apis/opex/lib/python3.11/site-packages (from aiohttp<4.0.0,>=3.8.3->langchain) (24.2.0)\n",
            "Requirement already satisfied: frozenlist>=1.1.1 in /Users/suyashgupte/Documents/GitHub/opex-apis/opex/lib/python3.11/site-packages (from aiohttp<4.0.0,>=3.8.3->langchain) (1.4.1)\n",
            "Requirement already satisfied: multidict<7.0,>=4.5 in /Users/suyashgupte/Documents/GitHub/opex-apis/opex/lib/python3.11/site-packages (from aiohttp<4.0.0,>=3.8.3->langchain) (6.1.0)\n",
            "Requirement already satisfied: yarl<2.0,>=1.12.0 in /Users/suyashgupte/Documents/GitHub/opex-apis/opex/lib/python3.11/site-packages (from aiohttp<4.0.0,>=3.8.3->langchain) (1.14.0)\n",
            "Requirement already satisfied: jsonpatch<2.0,>=1.33 in /Users/suyashgupte/Documents/GitHub/opex-apis/opex/lib/python3.11/site-packages (from langchain-core<1.0.0,>=0.3.34->langchain) (1.33)\n",
            "Requirement already satisfied: packaging<25,>=23.2 in /Users/suyashgupte/Documents/GitHub/opex-apis/opex/lib/python3.11/site-packages (from langchain-core<1.0.0,>=0.3.34->langchain) (24.1)\n",
            "Requirement already satisfied: typing-extensions>=4.7 in /Users/suyashgupte/Documents/GitHub/opex-apis/opex/lib/python3.11/site-packages (from langchain-core<1.0.0,>=0.3.34->langchain) (4.12.2)\n",
            "Requirement already satisfied: httpx<1,>=0.23.0 in /Users/suyashgupte/Documents/GitHub/opex-apis/opex/lib/python3.11/site-packages (from langsmith<0.4,>=0.1.17->langchain) (0.27.2)\n",
            "Requirement already satisfied: orjson<4.0.0,>=3.9.14 in /Users/suyashgupte/Documents/GitHub/opex-apis/opex/lib/python3.11/site-packages (from langsmith<0.4,>=0.1.17->langchain) (3.10.7)\n",
            "Requirement already satisfied: requests-toolbelt<2.0.0,>=1.0.0 in /Users/suyashgupte/Documents/GitHub/opex-apis/opex/lib/python3.11/site-packages (from langsmith<0.4,>=0.1.17->langchain) (1.0.0)\n",
            "Requirement already satisfied: annotated-types>=0.6.0 in /Users/suyashgupte/Documents/GitHub/opex-apis/opex/lib/python3.11/site-packages (from pydantic<3.0.0,>=2.7.4->langchain) (0.7.0)\n",
            "Requirement already satisfied: pydantic-core==2.23.4 in /Users/suyashgupte/Documents/GitHub/opex-apis/opex/lib/python3.11/site-packages (from pydantic<3.0.0,>=2.7.4->langchain) (2.23.4)\n",
            "Requirement already satisfied: charset-normalizer<4,>=2 in /Users/suyashgupte/Documents/GitHub/opex-apis/opex/lib/python3.11/site-packages (from requests<3,>=2->langchain) (3.4.0)\n",
            "Requirement already satisfied: idna<4,>=2.5 in /Users/suyashgupte/Documents/GitHub/opex-apis/opex/lib/python3.11/site-packages (from requests<3,>=2->langchain) (3.10)\n",
            "Requirement already satisfied: urllib3<3,>=1.21.1 in /Users/suyashgupte/Documents/GitHub/opex-apis/opex/lib/python3.11/site-packages (from requests<3,>=2->langchain) (2.2.3)\n",
            "Requirement already satisfied: certifi>=2017.4.17 in /Users/suyashgupte/Documents/GitHub/opex-apis/opex/lib/python3.11/site-packages (from requests<3,>=2->langchain) (2024.8.30)\n",
            "Requirement already satisfied: anyio in /Users/suyashgupte/Documents/GitHub/opex-apis/opex/lib/python3.11/site-packages (from httpx<1,>=0.23.0->langsmith<0.4,>=0.1.17->langchain) (4.6.0)\n",
            "Requirement already satisfied: httpcore==1.* in /Users/suyashgupte/Documents/GitHub/opex-apis/opex/lib/python3.11/site-packages (from httpx<1,>=0.23.0->langsmith<0.4,>=0.1.17->langchain) (1.0.6)\n",
            "Requirement already satisfied: sniffio in /Users/suyashgupte/Documents/GitHub/opex-apis/opex/lib/python3.11/site-packages (from httpx<1,>=0.23.0->langsmith<0.4,>=0.1.17->langchain) (1.3.1)\n",
            "Requirement already satisfied: h11<0.15,>=0.13 in /Users/suyashgupte/Documents/GitHub/opex-apis/opex/lib/python3.11/site-packages (from httpcore==1.*->httpx<1,>=0.23.0->langsmith<0.4,>=0.1.17->langchain) (0.14.0)\n",
            "Requirement already satisfied: jsonpointer>=1.9 in /Users/suyashgupte/Documents/GitHub/opex-apis/opex/lib/python3.11/site-packages (from jsonpatch<2.0,>=1.33->langchain-core<1.0.0,>=0.3.34->langchain) (3.0.0)\n",
            "Requirement already satisfied: propcache>=0.2.0 in /Users/suyashgupte/Documents/GitHub/opex-apis/opex/lib/python3.11/site-packages (from yarl<2.0,>=1.12.0->aiohttp<4.0.0,>=3.8.3->langchain) (0.2.0)\n",
            "\n",
            "\u001b[1m[\u001b[0m\u001b[34;49mnotice\u001b[0m\u001b[1;39;49m]\u001b[0m\u001b[39;49m A new release of pip is available: \u001b[0m\u001b[31;49m24.0\u001b[0m\u001b[39;49m -> \u001b[0m\u001b[32;49m25.0.1\u001b[0m\n",
            "\u001b[1m[\u001b[0m\u001b[34;49mnotice\u001b[0m\u001b[1;39;49m]\u001b[0m\u001b[39;49m To update, run: \u001b[0m\u001b[32;49mpip install --upgrade pip\u001b[0m\n"
          ]
        },
        {
          "name": "stderr",
          "output_type": "stream",
          "text": [
            "huggingface/tokenizers: The current process just got forked, after parallelism has already been used. Disabling parallelism to avoid deadlocks...\n",
            "To disable this warning, you can either:\n",
            "\t- Avoid using `tokenizers` before the fork if possible\n",
            "\t- Explicitly set the environment variable TOKENIZERS_PARALLELISM=(true | false)\n"
          ]
        },
        {
          "name": "stdout",
          "output_type": "stream",
          "text": [
            "Requirement already satisfied: chromadb in /Users/suyashgupte/Documents/GitHub/opex-apis/opex/lib/python3.11/site-packages (0.6.3)\n",
            "Requirement already satisfied: build>=1.0.3 in /Users/suyashgupte/Documents/GitHub/opex-apis/opex/lib/python3.11/site-packages (from chromadb) (1.2.2.post1)\n",
            "Requirement already satisfied: pydantic>=1.9 in /Users/suyashgupte/Documents/GitHub/opex-apis/opex/lib/python3.11/site-packages (from chromadb) (2.9.2)\n",
            "Requirement already satisfied: chroma-hnswlib==0.7.6 in /Users/suyashgupte/Documents/GitHub/opex-apis/opex/lib/python3.11/site-packages (from chromadb) (0.7.6)\n",
            "Requirement already satisfied: fastapi>=0.95.2 in /Users/suyashgupte/Documents/GitHub/opex-apis/opex/lib/python3.11/site-packages (from chromadb) (0.115.0)\n",
            "Requirement already satisfied: uvicorn>=0.18.3 in /Users/suyashgupte/Documents/GitHub/opex-apis/opex/lib/python3.11/site-packages (from uvicorn[standard]>=0.18.3->chromadb) (0.31.1)\n",
            "Requirement already satisfied: numpy>=1.22.5 in /Users/suyashgupte/Documents/GitHub/opex-apis/opex/lib/python3.11/site-packages (from chromadb) (1.26.4)\n",
            "Requirement already satisfied: posthog>=2.4.0 in /Users/suyashgupte/Documents/GitHub/opex-apis/opex/lib/python3.11/site-packages (from chromadb) (3.13.0)\n",
            "Requirement already satisfied: typing_extensions>=4.5.0 in /Users/suyashgupte/Documents/GitHub/opex-apis/opex/lib/python3.11/site-packages (from chromadb) (4.12.2)\n",
            "Requirement already satisfied: onnxruntime>=1.14.1 in /Users/suyashgupte/Documents/GitHub/opex-apis/opex/lib/python3.11/site-packages (from chromadb) (1.20.1)\n",
            "Requirement already satisfied: opentelemetry-api>=1.2.0 in /Users/suyashgupte/Documents/GitHub/opex-apis/opex/lib/python3.11/site-packages (from chromadb) (1.30.0)\n",
            "Requirement already satisfied: opentelemetry-exporter-otlp-proto-grpc>=1.2.0 in /Users/suyashgupte/Documents/GitHub/opex-apis/opex/lib/python3.11/site-packages (from chromadb) (1.30.0)\n",
            "Requirement already satisfied: opentelemetry-instrumentation-fastapi>=0.41b0 in /Users/suyashgupte/Documents/GitHub/opex-apis/opex/lib/python3.11/site-packages (from chromadb) (0.51b0)\n",
            "Requirement already satisfied: opentelemetry-sdk>=1.2.0 in /Users/suyashgupte/Documents/GitHub/opex-apis/opex/lib/python3.11/site-packages (from chromadb) (1.30.0)\n",
            "Requirement already satisfied: tokenizers>=0.13.2 in /Users/suyashgupte/Documents/GitHub/opex-apis/opex/lib/python3.11/site-packages (from chromadb) (0.21.0)\n",
            "Requirement already satisfied: pypika>=0.48.9 in /Users/suyashgupte/Documents/GitHub/opex-apis/opex/lib/python3.11/site-packages (from chromadb) (0.48.9)\n",
            "Requirement already satisfied: tqdm>=4.65.0 in /Users/suyashgupte/Documents/GitHub/opex-apis/opex/lib/python3.11/site-packages (from chromadb) (4.67.1)\n",
            "Requirement already satisfied: overrides>=7.3.1 in /Users/suyashgupte/Documents/GitHub/opex-apis/opex/lib/python3.11/site-packages (from chromadb) (7.7.0)\n",
            "Requirement already satisfied: importlib-resources in /Users/suyashgupte/Documents/GitHub/opex-apis/opex/lib/python3.11/site-packages (from chromadb) (6.5.2)\n",
            "Requirement already satisfied: grpcio>=1.58.0 in /Users/suyashgupte/Documents/GitHub/opex-apis/opex/lib/python3.11/site-packages (from chromadb) (1.70.0)\n",
            "Requirement already satisfied: bcrypt>=4.0.1 in /Users/suyashgupte/Documents/GitHub/opex-apis/opex/lib/python3.11/site-packages (from chromadb) (4.2.1)\n",
            "Requirement already satisfied: typer>=0.9.0 in /Users/suyashgupte/Documents/GitHub/opex-apis/opex/lib/python3.11/site-packages (from chromadb) (0.15.1)\n",
            "Requirement already satisfied: kubernetes>=28.1.0 in /Users/suyashgupte/Documents/GitHub/opex-apis/opex/lib/python3.11/site-packages (from chromadb) (32.0.0)\n",
            "Requirement already satisfied: tenacity>=8.2.3 in /Users/suyashgupte/Documents/GitHub/opex-apis/opex/lib/python3.11/site-packages (from chromadb) (8.5.0)\n",
            "Requirement already satisfied: PyYAML>=6.0.0 in /Users/suyashgupte/Documents/GitHub/opex-apis/opex/lib/python3.11/site-packages (from chromadb) (6.0.2)\n",
            "Requirement already satisfied: mmh3>=4.0.1 in /Users/suyashgupte/Documents/GitHub/opex-apis/opex/lib/python3.11/site-packages (from chromadb) (5.1.0)\n",
            "Requirement already satisfied: orjson>=3.9.12 in /Users/suyashgupte/Documents/GitHub/opex-apis/opex/lib/python3.11/site-packages (from chromadb) (3.10.7)\n",
            "Requirement already satisfied: httpx>=0.27.0 in /Users/suyashgupte/Documents/GitHub/opex-apis/opex/lib/python3.11/site-packages (from chromadb) (0.27.2)\n",
            "Requirement already satisfied: rich>=10.11.0 in /Users/suyashgupte/Documents/GitHub/opex-apis/opex/lib/python3.11/site-packages (from chromadb) (13.9.4)\n",
            "Requirement already satisfied: packaging>=19.1 in /Users/suyashgupte/Documents/GitHub/opex-apis/opex/lib/python3.11/site-packages (from build>=1.0.3->chromadb) (24.1)\n",
            "Requirement already satisfied: pyproject_hooks in /Users/suyashgupte/Documents/GitHub/opex-apis/opex/lib/python3.11/site-packages (from build>=1.0.3->chromadb) (1.2.0)\n",
            "Requirement already satisfied: starlette<0.39.0,>=0.37.2 in /Users/suyashgupte/Documents/GitHub/opex-apis/opex/lib/python3.11/site-packages (from fastapi>=0.95.2->chromadb) (0.38.6)\n",
            "Requirement already satisfied: anyio in /Users/suyashgupte/Documents/GitHub/opex-apis/opex/lib/python3.11/site-packages (from httpx>=0.27.0->chromadb) (4.6.0)\n",
            "Requirement already satisfied: certifi in /Users/suyashgupte/Documents/GitHub/opex-apis/opex/lib/python3.11/site-packages (from httpx>=0.27.0->chromadb) (2024.8.30)\n",
            "Requirement already satisfied: httpcore==1.* in /Users/suyashgupte/Documents/GitHub/opex-apis/opex/lib/python3.11/site-packages (from httpx>=0.27.0->chromadb) (1.0.6)\n",
            "Requirement already satisfied: idna in /Users/suyashgupte/Documents/GitHub/opex-apis/opex/lib/python3.11/site-packages (from httpx>=0.27.0->chromadb) (3.10)\n",
            "Requirement already satisfied: sniffio in /Users/suyashgupte/Documents/GitHub/opex-apis/opex/lib/python3.11/site-packages (from httpx>=0.27.0->chromadb) (1.3.1)\n",
            "Requirement already satisfied: h11<0.15,>=0.13 in /Users/suyashgupte/Documents/GitHub/opex-apis/opex/lib/python3.11/site-packages (from httpcore==1.*->httpx>=0.27.0->chromadb) (0.14.0)\n",
            "Requirement already satisfied: six>=1.9.0 in /Users/suyashgupte/Documents/GitHub/opex-apis/opex/lib/python3.11/site-packages (from kubernetes>=28.1.0->chromadb) (1.16.0)\n",
            "Requirement already satisfied: python-dateutil>=2.5.3 in /Users/suyashgupte/Documents/GitHub/opex-apis/opex/lib/python3.11/site-packages (from kubernetes>=28.1.0->chromadb) (2.9.0.post0)\n",
            "Requirement already satisfied: google-auth>=1.0.1 in /Users/suyashgupte/Documents/GitHub/opex-apis/opex/lib/python3.11/site-packages (from kubernetes>=28.1.0->chromadb) (2.38.0)\n",
            "Requirement already satisfied: websocket-client!=0.40.0,!=0.41.*,!=0.42.*,>=0.32.0 in /Users/suyashgupte/Documents/GitHub/opex-apis/opex/lib/python3.11/site-packages (from kubernetes>=28.1.0->chromadb) (1.8.0)\n",
            "Requirement already satisfied: requests in /Users/suyashgupte/Documents/GitHub/opex-apis/opex/lib/python3.11/site-packages (from kubernetes>=28.1.0->chromadb) (2.32.2)\n",
            "Requirement already satisfied: requests-oauthlib in /Users/suyashgupte/Documents/GitHub/opex-apis/opex/lib/python3.11/site-packages (from kubernetes>=28.1.0->chromadb) (2.0.0)\n",
            "Requirement already satisfied: oauthlib>=3.2.2 in /Users/suyashgupte/Documents/GitHub/opex-apis/opex/lib/python3.11/site-packages (from kubernetes>=28.1.0->chromadb) (3.2.2)\n",
            "Requirement already satisfied: urllib3>=1.24.2 in /Users/suyashgupte/Documents/GitHub/opex-apis/opex/lib/python3.11/site-packages (from kubernetes>=28.1.0->chromadb) (2.2.3)\n",
            "Requirement already satisfied: durationpy>=0.7 in /Users/suyashgupte/Documents/GitHub/opex-apis/opex/lib/python3.11/site-packages (from kubernetes>=28.1.0->chromadb) (0.9)\n",
            "Requirement already satisfied: coloredlogs in /Users/suyashgupte/Documents/GitHub/opex-apis/opex/lib/python3.11/site-packages (from onnxruntime>=1.14.1->chromadb) (15.0.1)\n",
            "Requirement already satisfied: flatbuffers in /Users/suyashgupte/Documents/GitHub/opex-apis/opex/lib/python3.11/site-packages (from onnxruntime>=1.14.1->chromadb) (25.2.10)\n",
            "Requirement already satisfied: protobuf in /Users/suyashgupte/Documents/GitHub/opex-apis/opex/lib/python3.11/site-packages (from onnxruntime>=1.14.1->chromadb) (5.29.3)\n",
            "Requirement already satisfied: sympy in /Users/suyashgupte/Documents/GitHub/opex-apis/opex/lib/python3.11/site-packages (from onnxruntime>=1.14.1->chromadb) (1.13.1)\n",
            "Requirement already satisfied: deprecated>=1.2.6 in /Users/suyashgupte/Documents/GitHub/opex-apis/opex/lib/python3.11/site-packages (from opentelemetry-api>=1.2.0->chromadb) (1.2.18)\n",
            "Requirement already satisfied: importlib-metadata<=8.5.0,>=6.0 in /Users/suyashgupte/Documents/GitHub/opex-apis/opex/lib/python3.11/site-packages (from opentelemetry-api>=1.2.0->chromadb) (8.5.0)\n",
            "Requirement already satisfied: googleapis-common-protos~=1.52 in /Users/suyashgupte/Documents/GitHub/opex-apis/opex/lib/python3.11/site-packages (from opentelemetry-exporter-otlp-proto-grpc>=1.2.0->chromadb) (1.66.0)\n",
            "Requirement already satisfied: opentelemetry-exporter-otlp-proto-common==1.30.0 in /Users/suyashgupte/Documents/GitHub/opex-apis/opex/lib/python3.11/site-packages (from opentelemetry-exporter-otlp-proto-grpc>=1.2.0->chromadb) (1.30.0)\n",
            "Requirement already satisfied: opentelemetry-proto==1.30.0 in /Users/suyashgupte/Documents/GitHub/opex-apis/opex/lib/python3.11/site-packages (from opentelemetry-exporter-otlp-proto-grpc>=1.2.0->chromadb) (1.30.0)\n",
            "Requirement already satisfied: opentelemetry-instrumentation-asgi==0.51b0 in /Users/suyashgupte/Documents/GitHub/opex-apis/opex/lib/python3.11/site-packages (from opentelemetry-instrumentation-fastapi>=0.41b0->chromadb) (0.51b0)\n",
            "Requirement already satisfied: opentelemetry-instrumentation==0.51b0 in /Users/suyashgupte/Documents/GitHub/opex-apis/opex/lib/python3.11/site-packages (from opentelemetry-instrumentation-fastapi>=0.41b0->chromadb) (0.51b0)\n",
            "Requirement already satisfied: opentelemetry-semantic-conventions==0.51b0 in /Users/suyashgupte/Documents/GitHub/opex-apis/opex/lib/python3.11/site-packages (from opentelemetry-instrumentation-fastapi>=0.41b0->chromadb) (0.51b0)\n",
            "Requirement already satisfied: opentelemetry-util-http==0.51b0 in /Users/suyashgupte/Documents/GitHub/opex-apis/opex/lib/python3.11/site-packages (from opentelemetry-instrumentation-fastapi>=0.41b0->chromadb) (0.51b0)\n",
            "Requirement already satisfied: wrapt<2.0.0,>=1.0.0 in /Users/suyashgupte/Documents/GitHub/opex-apis/opex/lib/python3.11/site-packages (from opentelemetry-instrumentation==0.51b0->opentelemetry-instrumentation-fastapi>=0.41b0->chromadb) (1.17.2)\n",
            "Requirement already satisfied: asgiref~=3.0 in /Users/suyashgupte/Documents/GitHub/opex-apis/opex/lib/python3.11/site-packages (from opentelemetry-instrumentation-asgi==0.51b0->opentelemetry-instrumentation-fastapi>=0.41b0->chromadb) (3.8.1)\n",
            "Requirement already satisfied: monotonic>=1.5 in /Users/suyashgupte/Documents/GitHub/opex-apis/opex/lib/python3.11/site-packages (from posthog>=2.4.0->chromadb) (1.6)\n",
            "Requirement already satisfied: backoff>=1.10.0 in /Users/suyashgupte/Documents/GitHub/opex-apis/opex/lib/python3.11/site-packages (from posthog>=2.4.0->chromadb) (2.2.1)\n",
            "Requirement already satisfied: annotated-types>=0.6.0 in /Users/suyashgupte/Documents/GitHub/opex-apis/opex/lib/python3.11/site-packages (from pydantic>=1.9->chromadb) (0.7.0)\n",
            "Requirement already satisfied: pydantic-core==2.23.4 in /Users/suyashgupte/Documents/GitHub/opex-apis/opex/lib/python3.11/site-packages (from pydantic>=1.9->chromadb) (2.23.4)\n",
            "Requirement already satisfied: markdown-it-py>=2.2.0 in /Users/suyashgupte/Documents/GitHub/opex-apis/opex/lib/python3.11/site-packages (from rich>=10.11.0->chromadb) (3.0.0)\n",
            "Requirement already satisfied: pygments<3.0.0,>=2.13.0 in /Users/suyashgupte/Documents/GitHub/opex-apis/opex/lib/python3.11/site-packages (from rich>=10.11.0->chromadb) (2.19.1)\n",
            "Requirement already satisfied: huggingface-hub<1.0,>=0.16.4 in /Users/suyashgupte/Documents/GitHub/opex-apis/opex/lib/python3.11/site-packages (from tokenizers>=0.13.2->chromadb) (0.28.1)\n",
            "Requirement already satisfied: click>=8.0.0 in /Users/suyashgupte/Documents/GitHub/opex-apis/opex/lib/python3.11/site-packages (from typer>=0.9.0->chromadb) (8.1.7)\n",
            "Requirement already satisfied: shellingham>=1.3.0 in /Users/suyashgupte/Documents/GitHub/opex-apis/opex/lib/python3.11/site-packages (from typer>=0.9.0->chromadb) (1.5.4)\n",
            "Requirement already satisfied: httptools>=0.5.0 in /Users/suyashgupte/Documents/GitHub/opex-apis/opex/lib/python3.11/site-packages (from uvicorn[standard]>=0.18.3->chromadb) (0.6.1)\n",
            "Requirement already satisfied: python-dotenv>=0.13 in /Users/suyashgupte/Documents/GitHub/opex-apis/opex/lib/python3.11/site-packages (from uvicorn[standard]>=0.18.3->chromadb) (1.0.1)\n",
            "Requirement already satisfied: uvloop!=0.15.0,!=0.15.1,>=0.14.0 in /Users/suyashgupte/Documents/GitHub/opex-apis/opex/lib/python3.11/site-packages (from uvicorn[standard]>=0.18.3->chromadb) (0.20.0)\n",
            "Requirement already satisfied: watchfiles>=0.13 in /Users/suyashgupte/Documents/GitHub/opex-apis/opex/lib/python3.11/site-packages (from uvicorn[standard]>=0.18.3->chromadb) (0.24.0)\n",
            "Requirement already satisfied: websockets>=10.4 in /Users/suyashgupte/Documents/GitHub/opex-apis/opex/lib/python3.11/site-packages (from uvicorn[standard]>=0.18.3->chromadb) (13.1)\n",
            "Requirement already satisfied: cachetools<6.0,>=2.0.0 in /Users/suyashgupte/Documents/GitHub/opex-apis/opex/lib/python3.11/site-packages (from google-auth>=1.0.1->kubernetes>=28.1.0->chromadb) (5.5.1)\n",
            "Requirement already satisfied: pyasn1-modules>=0.2.1 in /Users/suyashgupte/Documents/GitHub/opex-apis/opex/lib/python3.11/site-packages (from google-auth>=1.0.1->kubernetes>=28.1.0->chromadb) (0.4.1)\n",
            "Requirement already satisfied: rsa<5,>=3.1.4 in /Users/suyashgupte/Documents/GitHub/opex-apis/opex/lib/python3.11/site-packages (from google-auth>=1.0.1->kubernetes>=28.1.0->chromadb) (4.9)\n",
            "Requirement already satisfied: filelock in /Users/suyashgupte/Documents/GitHub/opex-apis/opex/lib/python3.11/site-packages (from huggingface-hub<1.0,>=0.16.4->tokenizers>=0.13.2->chromadb) (3.17.0)\n",
            "Requirement already satisfied: fsspec>=2023.5.0 in /Users/suyashgupte/Documents/GitHub/opex-apis/opex/lib/python3.11/site-packages (from huggingface-hub<1.0,>=0.16.4->tokenizers>=0.13.2->chromadb) (2025.2.0)\n",
            "Requirement already satisfied: zipp>=3.20 in /Users/suyashgupte/Documents/GitHub/opex-apis/opex/lib/python3.11/site-packages (from importlib-metadata<=8.5.0,>=6.0->opentelemetry-api>=1.2.0->chromadb) (3.20.2)\n",
            "Requirement already satisfied: mdurl~=0.1 in /Users/suyashgupte/Documents/GitHub/opex-apis/opex/lib/python3.11/site-packages (from markdown-it-py>=2.2.0->rich>=10.11.0->chromadb) (0.1.2)\n",
            "Requirement already satisfied: charset-normalizer<4,>=2 in /Users/suyashgupte/Documents/GitHub/opex-apis/opex/lib/python3.11/site-packages (from requests->kubernetes>=28.1.0->chromadb) (3.4.0)\n",
            "Requirement already satisfied: humanfriendly>=9.1 in /Users/suyashgupte/Documents/GitHub/opex-apis/opex/lib/python3.11/site-packages (from coloredlogs->onnxruntime>=1.14.1->chromadb) (10.0)\n",
            "Requirement already satisfied: mpmath<1.4,>=1.1.0 in /Users/suyashgupte/Documents/GitHub/opex-apis/opex/lib/python3.11/site-packages (from sympy->onnxruntime>=1.14.1->chromadb) (1.3.0)\n",
            "Requirement already satisfied: pyasn1<0.7.0,>=0.4.6 in /Users/suyashgupte/Documents/GitHub/opex-apis/opex/lib/python3.11/site-packages (from pyasn1-modules>=0.2.1->google-auth>=1.0.1->kubernetes>=28.1.0->chromadb) (0.6.1)\n",
            "\n",
            "\u001b[1m[\u001b[0m\u001b[34;49mnotice\u001b[0m\u001b[1;39;49m]\u001b[0m\u001b[39;49m A new release of pip is available: \u001b[0m\u001b[31;49m24.0\u001b[0m\u001b[39;49m -> \u001b[0m\u001b[32;49m25.0.1\u001b[0m\n",
            "\u001b[1m[\u001b[0m\u001b[34;49mnotice\u001b[0m\u001b[1;39;49m]\u001b[0m\u001b[39;49m To update, run: \u001b[0m\u001b[32;49mpip install --upgrade pip\u001b[0m\n"
          ]
        }
      ],
      "source": [
        "!pip3 install pypdf\n",
        "!pip3 install langchain\n",
        "!pip3 install chromadb\n",
        "!pip3 install langchain_community"
      ]
    },
    {
      "cell_type": "code",
      "execution_count": 125,
      "metadata": {
        "colab": {
          "base_uri": "https://localhost:8080/"
        },
        "id": "Y6Oj2l1RndpA",
        "outputId": "b18b32be-3752-4f31-8b1d-0435511bdc86"
      },
      "outputs": [
        {
          "name": "stdout",
          "output_type": "stream",
          "text": [
            "MANAGEMENT DISCUSSION SNAPSHOT\n",
            "($ and shares in millions except per share amounts)\n",
            "For year ended December 31: 2023 2022 (1)\n",
            "Yr.-to-Yr. \n",
            "Percent/Margin \n",
            "Change\n",
            "Revenue (2) $ 61,860 $ 60,530  2.2 % \n",
            "Gross profit margin  55.4 %  54.0 %  1.4 pts. \n",
            "Total expense and other (income) $ 25,610 $ 31,531  (18.8) %    \n",
            "Income from continuing operations before income taxes $ 8,690 $ 1,156  NM \n",
            "Provision for/(benefit from) income taxes from continuing operations $ 1,176 $ (626)  NM \n",
            "Income from continuing operations $ 7,514 $ 1,783  NM  \n",
            "Income from continuing operations margin  12.1 %  2.9 %  9.2 pts. \n",
            "Loss from discontinued operations, net of tax $ (12) $ (143)  (91.8) %    \n",
            "Net income $ 7,502 $ 1,639  NM \n",
            "Earnings per share from continuing operations–assuming dilution $ 8.15 $ 1.95  NM \n",
            "Consolidated earnings per share–assuming dilution $ 8.14 $ 1.80  NM \n",
            "Weighted-average shares outstanding–assuming dilution  922.1  912.3  1.1 % \n",
            "Assets (3)\n",
            "$ 135,241 $ 127,243  6.3 %    \n",
            "Liabilities (3)\n",
            "$ 112,628 $ 105,222  7.0 %    \n",
            "Equity (3)\n",
            "$ 22,613 $ 22,021  2.7 %    \n",
            "(1) Includes a one-time, non-cash, pre-tax pension settlement charge of $5.9 billion ($4.4 billion net of tax) resulting in an impact of ($4.84) to diluted \n",
            "earnings per share from continuing operations and an impact of ($4.83) to consolidated diluted earnings per share. Refer to note V, “Retirement-\n",
            "Related Benefits,” for additional information.\n",
            "(2) Year-to-year revenue growth of 2.9 percent adjusted for currency.\n",
            "(3) At December 31.\n",
            "NM–Not meaningful\n",
            "The following table provides the company’s operating (non-GAAP) earnings for 2023 and 2022. Refer to page 28  for additional \n",
            "information.\n",
            "($ in millions except per share amounts)\n",
            "For year ended December 31: 2023  2022\n",
            "Yr.-to-Yr.\n",
            "Percent Change\n",
            "Net income as reported (1) $ 7,502 $ 1,639  NM \n",
            "Loss from discontinued operations, net of tax  (12)  (143)  (91.8) %    \n",
            "Income from continuing operations (1) $ 7,514 $ 1,783  NM \n",
            "Non-operating adjustments (net of tax)\n",
            "Acquisition-related charges  1,292  1,329  (2.8) %    \n",
            "Non-operating retirement-related costs/(income) (1)  (30)  4,933  NM \n",
            "U.S. tax reform impacts  95  (70)  NM \n",
            "Kyndryl-related impacts  —  351  (100.0) %    \n",
            "Operating (non-GAAP) earnings $ 8,870 $ 8,326  6.5 % \n",
            "Diluted operating (non-GAAP) earnings per share $ 9.62 $ 9.13  5.4 % \n",
            "(1) 2022 includes a one-time, non-cash pension settlement charge of $4.4 billion net of tax.\n",
            "NM–Not meaningful\n",
            "8 Management Discussion\n",
            "International Business Machines Corporation and Subsidiary Companies\n"
          ]
        }
      ],
      "source": [
        " # Import PdfReader from pypdf to read PDF files\n",
        "from pypdf import PdfReader\n",
        "\n",
        "# Load the PDF file\n",
        "reader = PdfReader(\"IBM_Annual_Report_2023.pdf\")\n",
        "\n",
        "# Extract text from each page and strip any leading/trailing spaces\n",
        "pdf_texts = [p.extract_text().strip() for p in reader.pages]\n",
        "\n",
        "# Filter out empty strings to remove blank pages or pages with no extractable text\n",
        "pdf_texts = [text for text in pdf_texts if text]\n",
        "\n",
        "# Print the text of the 9th page (index 8)\n",
        "print(pdf_texts[8])\n",
        "\n"
      ]
    },
    {
      "cell_type": "code",
      "execution_count": 126,
      "metadata": {
        "id": "Y5xJmPszoy9Z"
      },
      "outputs": [],
      "source": [
        "from langchain.text_splitter import RecursiveCharacterTextSplitter\n"
      ]
    },
    {
      "cell_type": "code",
      "execution_count": 127,
      "metadata": {
        "colab": {
          "base_uri": "https://localhost:8080/"
        },
        "id": "TnrLJlEspCXl",
        "outputId": "dce90da1-ef96-4715-a32b-b34331092a4d"
      },
      "outputs": [
        {
          "name": "stdout",
          "output_type": "stream",
          "text": [
            "of several critical technologies, including AI, quantum \n",
            "computing, and semiconductors. \n",
            "In AI, we demonstrated our ability to quickly transform \n",
            "research into commercial applications. We launched the \n",
            "watsonx AI and data platform, introduced the groundbreaking \n",
            "Granite AI foundational model, and developed new AI-\n",
            "optimized hardware. \n",
            "We have IBM Quantum System One engagements with several \n",
            "leading organizations, including Cleveland Clinic, the Platform \n",
            "for Digital and Quantum Innovation of Quebec, Rensselaer \n",
            "Polytechnic Institute, and the University of Tokyo. We also \n",
            "IBM 2023 Annual Report 3\n",
            "\n",
            "Total chunks: 557\n"
          ]
        }
      ],
      "source": [
        "# Import RecursiveCharacterTextSplitter for text chunking\n",
        "from langchain.text_splitter import RecursiveCharacterTextSplitter\n",
        "\n",
        "# Initialize the text splitter with custom separators and chunk size\n",
        "character_splitter = RecursiveCharacterTextSplitter(\n",
        "    separators=[\"\\n\\n\", \"\\n\", \". \", \" \", \"\"],  # Define separators for splitting text (paragraphs, new lines, sentences, words, and characters)\n",
        "    chunk_size=1000,  # Set the maximum size of each chunk\n",
        "    chunk_overlap=0    # Set the overlap between chunks (0 means no overlap)\n",
        ")\n",
        "\n",
        "# Join all extracted PDF text with double newlines and split it into smaller chunks\n",
        "character_split_texts = character_splitter.split_text('\\n\\n'.join(pdf_texts))\n",
        "\n",
        "# Print the 11th chunk (index 10) of the split text\n",
        "print(character_split_texts[10])\n",
        "\n",
        "# Print the total number of chunks created after splitting\n",
        "print(f\"\\nTotal chunks: {len(character_split_texts)}\")\n"
      ]
    },
    {
      "cell_type": "code",
      "execution_count": 128,
      "metadata": {
        "colab": {
          "base_uri": "https://localhost:8080/"
        },
        "id": "Rl2sSXdmqEf8",
        "outputId": "e2267d03-af1f-4c93-c639-e5ff1b427fb5"
      },
      "outputs": [
        {
          "name": "stdout",
          "output_type": "stream",
          "text": [
            "[array([-7.89173990e-02, -4.01439816e-02, -5.06751938e-03, -4.50713672e-02,\n",
            "       -6.05559945e-02, -5.35961054e-02, -6.19608238e-02,  1.74064599e-02,\n",
            "       -2.08196677e-02,  3.05104759e-02, -7.06966594e-02, -3.19342948e-02,\n",
            "        3.21453847e-02,  3.13325301e-02,  6.07728492e-03,  6.91314936e-02,\n",
            "        6.26401007e-02, -7.42840096e-02,  4.58352687e-03, -9.77577865e-02,\n",
            "       -6.77745440e-04, -1.10710936e-03,  1.70304421e-02, -4.96980734e-02,\n",
            "        9.25213471e-03,  1.00498505e-01,  1.35068800e-02, -7.54344612e-02,\n",
            "        1.82290673e-02, -2.45860573e-02,  1.96209382e-02,  1.38088688e-03,\n",
            "        4.37018368e-03, -1.90817062e-02, -1.90199669e-02,  1.43828755e-02,\n",
            "        3.03840302e-02, -9.09088776e-02,  3.65068540e-02, -5.74920848e-02,\n",
            "       -2.15360653e-02, -2.52513383e-02, -7.55398050e-02,  5.72257340e-02,\n",
            "        7.91857690e-02,  8.05481970e-02,  6.50972314e-03, -2.11736653e-02,\n",
            "        4.14696485e-02, -7.92839900e-02, -7.32430816e-02, -7.28527457e-02,\n",
            "        5.41954562e-02, -6.66983565e-03, -4.31714859e-03,  5.86759709e-02,\n",
            "        3.38280834e-02, -5.50835468e-02, -1.87582206e-02, -4.18761410e-02,\n",
            "        2.04415321e-02, -5.94084188e-02,  5.11212535e-02,  6.88791424e-02,\n",
            "        8.76252130e-02,  7.06256479e-02, -8.68965238e-02,  4.36848868e-03,\n",
            "        1.45138260e-02, -4.57028374e-02,  7.91325513e-03,  6.15195138e-04,\n",
            "       -6.67265058e-02,  3.15488987e-02, -3.40171414e-03, -1.21871941e-02,\n",
            "        4.04602922e-02,  9.30599123e-03,  6.97289407e-02, -5.02305254e-02,\n",
            "       -1.02058206e-04, -8.69071558e-02,  2.42357142e-02,  9.13538113e-02,\n",
            "        7.45334243e-03,  2.91778315e-02, -8.73517841e-02,  2.99792849e-02,\n",
            "       -6.68861903e-03, -9.92025509e-02,  2.70686559e-02, -5.68015724e-02,\n",
            "        3.92832905e-02, -3.09184678e-02,  8.37443222e-04,  1.99415139e-03,\n",
            "        2.30285246e-02, -9.61789638e-02, -3.51412743e-02,  6.20461814e-02,\n",
            "        1.23559311e-02,  6.83635324e-02,  5.42262495e-02,  7.28926575e-03,\n",
            "       -3.56933177e-02,  1.79334972e-02,  2.80668698e-02,  1.89233273e-02,\n",
            "        1.33949220e-02, -1.20208729e-02,  3.69834825e-02, -1.57287475e-02,\n",
            "        3.87172550e-02, -6.66780248e-02, -3.61421518e-02,  1.66648552e-02,\n",
            "       -6.41255155e-02,  8.48859698e-02,  2.59609018e-02, -6.27273601e-03,\n",
            "       -2.74906438e-02,  2.19094921e-02, -8.99930671e-02,  1.10065155e-01,\n",
            "       -2.22937763e-02,  1.87089071e-02, -1.58664539e-01,  6.36505809e-34,\n",
            "       -7.22473860e-02,  4.95870039e-02,  3.91035192e-02,  1.87061299e-02,\n",
            "        5.98720647e-02, -8.78254920e-02,  9.10528973e-02, -1.88824459e-04,\n",
            "       -9.71247330e-02,  3.44743626e-03, -2.87131798e-02,  3.08929775e-02,\n",
            "       -4.91677597e-02,  3.07530686e-02,  7.87602216e-02, -4.16634008e-02,\n",
            "       -3.04247010e-02,  9.29938350e-03, -1.91031732e-02, -4.38899547e-02,\n",
            "        6.03820086e-02, -6.86842352e-02, -1.06948353e-02,  2.36903280e-02,\n",
            "        4.60449494e-02,  1.26855811e-02,  4.05129902e-02,  6.72154687e-03,\n",
            "        1.69161912e-02, -5.47713879e-03, -6.61110058e-02,  9.82912779e-02,\n",
            "       -8.98794010e-02, -2.87975278e-02,  4.62114019e-03,  2.66565159e-02,\n",
            "       -7.28199119e-03, -4.37528379e-02,  3.49118677e-03,  4.06851768e-02,\n",
            "       -2.43277233e-02,  6.03484921e-02,  2.88271420e-02, -1.15025537e-02,\n",
            "       -1.64702460e-02,  2.43911091e-02,  2.99220476e-02, -1.88337229e-02,\n",
            "        6.36646077e-02, -1.21645465e-01, -9.60114226e-03, -3.41558480e-03,\n",
            "       -3.43108959e-02,  2.40625348e-02,  7.60832205e-02, -3.99920791e-02,\n",
            "        6.49229437e-02,  1.80043858e-02,  4.32442017e-02,  7.64617398e-02,\n",
            "       -3.68258767e-02, -6.21892093e-03, -7.92050660e-02,  1.03521377e-01,\n",
            "       -5.45398854e-02,  7.96419159e-02,  5.82795329e-02,  1.44209163e-02,\n",
            "       -5.36698066e-02,  1.51526213e-01, -1.24204904e-02, -8.27813242e-03,\n",
            "        8.77406001e-02, -5.07928804e-02,  4.55020890e-02, -4.96932901e-02,\n",
            "       -4.04253080e-02, -1.47322148e-01, -3.12026702e-02,  9.32816300e-04,\n",
            "       -1.74753647e-02, -3.69834825e-02, -6.58463910e-02,  1.36314090e-02,\n",
            "        3.37332785e-02, -3.30928378e-02, -2.89569572e-02, -2.91736796e-02,\n",
            "       -4.60635796e-02, -2.88377646e-02, -2.94732619e-02, -8.57363567e-02,\n",
            "        7.55597726e-02,  9.30554867e-02, -1.05645441e-01, -1.79308255e-33,\n",
            "       -8.31059143e-02, -3.25346105e-02, -3.19499080e-03,  6.58569857e-02,\n",
            "        4.05351222e-02,  1.01136630e-02, -1.29203983e-02, -1.47586502e-02,\n",
            "        6.18057465e-03,  8.15208331e-02,  4.98774499e-02,  6.91885222e-03,\n",
            "        6.28457144e-02,  3.00105568e-02, -4.90949303e-02,  7.19068721e-02,\n",
            "       -1.25074591e-02, -7.31353313e-02, -3.41401994e-02,  9.01916344e-03,\n",
            "        2.38725357e-02,  3.31920311e-02, -3.40995081e-02, -5.30988090e-02,\n",
            "        2.93288715e-02,  5.57155088e-02, -8.83348193e-03,  3.39911394e-02,\n",
            "        5.31507507e-02, -2.80362312e-02, -6.40410185e-02, -4.04306725e-02,\n",
            "       -3.44997160e-02, -1.85129717e-02, -1.79315563e-02,  5.55292368e-02,\n",
            "        7.84761012e-02, -4.02610786e-02, -2.06474476e-02, -5.05316146e-02,\n",
            "       -7.72641157e-04, -4.33320217e-02, -4.22839895e-02,  2.81184893e-02,\n",
            "        3.57614718e-02,  7.56566972e-02, -9.26759318e-02,  5.20311259e-02,\n",
            "       -7.18774274e-02, -1.13139367e-02, -2.56587695e-02,  3.82781704e-03,\n",
            "        3.92205752e-02, -3.21199261e-02, -4.56781238e-02,  1.62131730e-02,\n",
            "       -3.94833572e-02,  1.00716896e-01,  4.54997495e-02,  4.95631397e-02,\n",
            "       -1.59547292e-02, -4.12451215e-02,  1.88855492e-02,  5.89416362e-02,\n",
            "       -4.23526987e-02,  2.10683048e-02, -2.23239660e-02,  1.27170727e-01,\n",
            "       -7.28621185e-02,  1.52984345e-02, -3.42715569e-02,  5.34497900e-03,\n",
            "        1.31648704e-02,  4.14990559e-02,  9.71357164e-04,  1.26656110e-03,\n",
            "       -4.58963253e-02, -5.74193262e-02, -7.97498226e-03, -9.49824345e-04,\n",
            "        6.52745483e-04,  5.05037270e-02,  1.68149788e-02,  3.18225585e-02,\n",
            "        6.32753149e-02, -3.73553974e-03,  5.54027483e-02,  8.62548070e-04,\n",
            "       -8.95246565e-02, -1.48817990e-02, -6.52066320e-02,  1.63997281e-02,\n",
            "        1.50646949e-02,  9.28605907e-03, -4.96882983e-02, -3.91181061e-08,\n",
            "        1.80083662e-02,  7.02001248e-03,  2.17815824e-02, -3.50388177e-02,\n",
            "        6.40442669e-02, -4.88403291e-02,  4.16677557e-02,  3.65894884e-02,\n",
            "       -1.04314443e-02, -4.44101766e-02, -2.87007503e-02, -5.01528494e-02,\n",
            "       -3.27600986e-02,  5.26933707e-02,  7.12154955e-02,  9.97732580e-02,\n",
            "        9.28122143e-04, -1.78776495e-02,  1.83473639e-02, -5.06857075e-02,\n",
            "        1.36836961e-01,  4.58247997e-02,  8.72644261e-02, -2.01380365e-02,\n",
            "       -9.46503039e-03, -1.56340525e-02,  4.79472131e-02, -8.43544491e-03,\n",
            "       -3.01164147e-02,  3.62940244e-02, -1.15226567e-01, -8.24877899e-03,\n",
            "        7.07418844e-02,  4.14042883e-02,  7.02575222e-02, -1.15332473e-02,\n",
            "       -1.56628732e-02, -1.45751396e-02,  2.85790581e-02, -6.12857044e-02,\n",
            "       -6.80454820e-02,  6.00690544e-02, -1.11758545e-01,  1.59168076e-02,\n",
            "        2.43811775e-02,  1.78072788e-03, -6.06908277e-02, -3.33060734e-02,\n",
            "        7.37292916e-02,  9.76182893e-02,  3.63401882e-02, -1.39034456e-02,\n",
            "        5.88362291e-02, -4.14494202e-02, -5.11371717e-03,  7.31585175e-02,\n",
            "       -2.40961462e-03, -4.43275943e-02,  2.75977841e-03,  6.99158460e-02,\n",
            "        1.29142180e-01, -8.50485563e-02,  4.12761383e-02, -4.20675315e-02],\n",
            "      dtype=float32)]\n"
          ]
        }
      ],
      "source": [
        "# Import the ChromaDB library to work with vector databases\n",
        "import chromadb\n",
        "\n",
        "# Import the SentenceTransformerEmbeddingFunction utility from ChromaDB\n",
        "# This function helps generate embeddings for text data\n",
        "from chromadb.utils.embedding_functions import SentenceTransformerEmbeddingFunction\n",
        "\n",
        "# Initialize an instance of the SentenceTransformer embedding function\n",
        "# This function will be used to convert text into numerical vector representations (embeddings)\n",
        "embedding_function = SentenceTransformerEmbeddingFunction()\n",
        "\n",
        "# Generate the embedding for the 10th document in the 'character_split_texts' list\n",
        "# and print the resulting embedding vector\n",
        "print(embedding_function([character_split_texts[10]]))\n"
      ]
    },
    {
      "cell_type": "code",
      "execution_count": 129,
      "metadata": {
        "colab": {
          "base_uri": "https://localhost:8080/"
        },
        "id": "a5dgh5cXqmXb",
        "outputId": "305f2e72-e679-446c-c189-ae0bfab49d1a"
      },
      "outputs": [
        {
          "ename": "UniqueConstraintError",
          "evalue": "Collection IBM_Annual_report_2023 already exists",
          "output_type": "error",
          "traceback": [
            "\u001b[31m---------------------------------------------------------------------------\u001b[39m",
            "\u001b[31mUniqueConstraintError\u001b[39m                     Traceback (most recent call last)",
            "\u001b[36mCell\u001b[39m\u001b[36m \u001b[39m\u001b[32mIn[129]\u001b[39m\u001b[32m, line 6\u001b[39m\n\u001b[32m      2\u001b[39m chroma_client = chromadb.Client()\n\u001b[32m      4\u001b[39m \u001b[38;5;66;03m# Create a new collection in ChromaDB named \"IBM_Annual_report_2023\"\u001b[39;00m\n\u001b[32m      5\u001b[39m \u001b[38;5;66;03m# The collection will store embedded documents, using the specified embedding function\u001b[39;00m\n\u001b[32m----> \u001b[39m\u001b[32m6\u001b[39m chroma_collection = \u001b[43mchroma_client\u001b[49m\u001b[43m.\u001b[49m\u001b[43mcreate_collection\u001b[49m\u001b[43m(\u001b[49m\u001b[33;43m\"\u001b[39;49m\u001b[33;43mIBM_Annual_report_2023\u001b[39;49m\u001b[33;43m\"\u001b[39;49m\u001b[43m,\u001b[49m\u001b[43m \u001b[49m\u001b[43membedding_function\u001b[49m\u001b[43m=\u001b[49m\u001b[43membedding_function\u001b[49m\u001b[43m)\u001b[49m\n\u001b[32m      8\u001b[39m \u001b[38;5;66;03m# Generate unique string IDs for each document by converting their indices to strings\u001b[39;00m\n\u001b[32m      9\u001b[39m ids = [\u001b[38;5;28mstr\u001b[39m(i) \u001b[38;5;28;01mfor\u001b[39;00m i \u001b[38;5;129;01min\u001b[39;00m \u001b[38;5;28mrange\u001b[39m(\u001b[38;5;28mlen\u001b[39m(character_split_texts))]\n",
            "\u001b[36mFile \u001b[39m\u001b[32m~/Documents/GitHub/opex-apis/opex/lib/python3.11/site-packages/chromadb/api/client.py:147\u001b[39m, in \u001b[36mClient.create_collection\u001b[39m\u001b[34m(self, name, configuration, metadata, embedding_function, data_loader, get_or_create)\u001b[39m\n\u001b[32m    135\u001b[39m \u001b[38;5;129m@override\u001b[39m\n\u001b[32m    136\u001b[39m \u001b[38;5;28;01mdef\u001b[39;00m\u001b[38;5;250m \u001b[39m\u001b[34mcreate_collection\u001b[39m(\n\u001b[32m    137\u001b[39m     \u001b[38;5;28mself\u001b[39m,\n\u001b[32m   (...)\u001b[39m\u001b[32m    145\u001b[39m     get_or_create: \u001b[38;5;28mbool\u001b[39m = \u001b[38;5;28;01mFalse\u001b[39;00m,\n\u001b[32m    146\u001b[39m ) -> Collection:\n\u001b[32m--> \u001b[39m\u001b[32m147\u001b[39m     model = \u001b[38;5;28;43mself\u001b[39;49m\u001b[43m.\u001b[49m\u001b[43m_server\u001b[49m\u001b[43m.\u001b[49m\u001b[43mcreate_collection\u001b[49m\u001b[43m(\u001b[49m\n\u001b[32m    148\u001b[39m \u001b[43m        \u001b[49m\u001b[43mname\u001b[49m\u001b[43m=\u001b[49m\u001b[43mname\u001b[49m\u001b[43m,\u001b[49m\n\u001b[32m    149\u001b[39m \u001b[43m        \u001b[49m\u001b[43mmetadata\u001b[49m\u001b[43m=\u001b[49m\u001b[43mmetadata\u001b[49m\u001b[43m,\u001b[49m\n\u001b[32m    150\u001b[39m \u001b[43m        \u001b[49m\u001b[43mtenant\u001b[49m\u001b[43m=\u001b[49m\u001b[38;5;28;43mself\u001b[39;49m\u001b[43m.\u001b[49m\u001b[43mtenant\u001b[49m\u001b[43m,\u001b[49m\n\u001b[32m    151\u001b[39m \u001b[43m        \u001b[49m\u001b[43mdatabase\u001b[49m\u001b[43m=\u001b[49m\u001b[38;5;28;43mself\u001b[39;49m\u001b[43m.\u001b[49m\u001b[43mdatabase\u001b[49m\u001b[43m,\u001b[49m\n\u001b[32m    152\u001b[39m \u001b[43m        \u001b[49m\u001b[43mget_or_create\u001b[49m\u001b[43m=\u001b[49m\u001b[43mget_or_create\u001b[49m\u001b[43m,\u001b[49m\n\u001b[32m    153\u001b[39m \u001b[43m        \u001b[49m\u001b[43mconfiguration\u001b[49m\u001b[43m=\u001b[49m\u001b[43mconfiguration\u001b[49m\u001b[43m,\u001b[49m\n\u001b[32m    154\u001b[39m \u001b[43m    \u001b[49m\u001b[43m)\u001b[49m\n\u001b[32m    155\u001b[39m     \u001b[38;5;28;01mreturn\u001b[39;00m Collection(\n\u001b[32m    156\u001b[39m         client=\u001b[38;5;28mself\u001b[39m._server,\n\u001b[32m    157\u001b[39m         model=model,\n\u001b[32m    158\u001b[39m         embedding_function=embedding_function,\n\u001b[32m    159\u001b[39m         data_loader=data_loader,\n\u001b[32m    160\u001b[39m     )\n",
            "\u001b[36mFile \u001b[39m\u001b[32m~/Documents/GitHub/opex-apis/opex/lib/python3.11/site-packages/chromadb/telemetry/opentelemetry/__init__.py:150\u001b[39m, in \u001b[36mtrace_method.<locals>.decorator.<locals>.wrapper\u001b[39m\u001b[34m(*args, **kwargs)\u001b[39m\n\u001b[32m    148\u001b[39m \u001b[38;5;28;01mglobal\u001b[39;00m tracer, granularity\n\u001b[32m    149\u001b[39m \u001b[38;5;28;01mif\u001b[39;00m trace_granularity < granularity:\n\u001b[32m--> \u001b[39m\u001b[32m150\u001b[39m     \u001b[38;5;28;01mreturn\u001b[39;00m \u001b[43mf\u001b[49m\u001b[43m(\u001b[49m\u001b[43m*\u001b[49m\u001b[43margs\u001b[49m\u001b[43m,\u001b[49m\u001b[43m \u001b[49m\u001b[43m*\u001b[49m\u001b[43m*\u001b[49m\u001b[43mkwargs\u001b[49m\u001b[43m)\u001b[49m\n\u001b[32m    151\u001b[39m \u001b[38;5;28;01mif\u001b[39;00m \u001b[38;5;129;01mnot\u001b[39;00m tracer:\n\u001b[32m    152\u001b[39m     \u001b[38;5;28;01mreturn\u001b[39;00m f(*args, **kwargs)\n",
            "\u001b[36mFile \u001b[39m\u001b[32m~/Documents/GitHub/opex-apis/opex/lib/python3.11/site-packages/chromadb/api/segment.py:103\u001b[39m, in \u001b[36mrate_limit.<locals>.wrapper\u001b[39m\u001b[34m(*args, **kwargs)\u001b[39m\n\u001b[32m    100\u001b[39m \u001b[38;5;129m@wraps\u001b[39m(func)\n\u001b[32m    101\u001b[39m \u001b[38;5;28;01mdef\u001b[39;00m\u001b[38;5;250m \u001b[39m\u001b[34mwrapper\u001b[39m(*args: Any, **kwargs: Any) -> Any:\n\u001b[32m    102\u001b[39m     \u001b[38;5;28mself\u001b[39m = args[\u001b[32m0\u001b[39m]\n\u001b[32m--> \u001b[39m\u001b[32m103\u001b[39m     \u001b[38;5;28;01mreturn\u001b[39;00m \u001b[38;5;28;43mself\u001b[39;49m\u001b[43m.\u001b[49m\u001b[43m_rate_limit_enforcer\u001b[49m\u001b[43m.\u001b[49m\u001b[43mrate_limit\u001b[49m\u001b[43m(\u001b[49m\u001b[43mfunc\u001b[49m\u001b[43m)\u001b[49m\u001b[43m(\u001b[49m\u001b[43m*\u001b[49m\u001b[43margs\u001b[49m\u001b[43m,\u001b[49m\u001b[43m \u001b[49m\u001b[43m*\u001b[49m\u001b[43m*\u001b[49m\u001b[43mkwargs\u001b[49m\u001b[43m)\u001b[49m\n",
            "\u001b[36mFile \u001b[39m\u001b[32m~/Documents/GitHub/opex-apis/opex/lib/python3.11/site-packages/chromadb/rate_limit/simple_rate_limit/__init__.py:24\u001b[39m, in \u001b[36mSimpleRateLimitEnforcer.rate_limit.<locals>.wrapper\u001b[39m\u001b[34m(*args, **kwargs)\u001b[39m\n\u001b[32m     22\u001b[39m \u001b[38;5;129m@wraps\u001b[39m(func)\n\u001b[32m     23\u001b[39m \u001b[38;5;28;01mdef\u001b[39;00m\u001b[38;5;250m \u001b[39m\u001b[34mwrapper\u001b[39m(*args: Any, **kwargs: Any) -> Any:\n\u001b[32m---> \u001b[39m\u001b[32m24\u001b[39m     \u001b[38;5;28;01mreturn\u001b[39;00m \u001b[43mfunc\u001b[49m\u001b[43m(\u001b[49m\u001b[43m*\u001b[49m\u001b[43margs\u001b[49m\u001b[43m,\u001b[49m\u001b[43m \u001b[49m\u001b[43m*\u001b[49m\u001b[43m*\u001b[49m\u001b[43mkwargs\u001b[49m\u001b[43m)\u001b[49m\n",
            "\u001b[36mFile \u001b[39m\u001b[32m~/Documents/GitHub/opex-apis/opex/lib/python3.11/site-packages/chromadb/api/segment.py:242\u001b[39m, in \u001b[36mSegmentAPI.create_collection\u001b[39m\u001b[34m(self, name, configuration, metadata, get_or_create, tenant, database)\u001b[39m\n\u001b[32m    229\u001b[39m model = CollectionModel(\n\u001b[32m    230\u001b[39m     \u001b[38;5;28mid\u001b[39m=\u001b[38;5;28mid\u001b[39m,\n\u001b[32m    231\u001b[39m     name=name,\n\u001b[32m   (...)\u001b[39m\u001b[32m    238\u001b[39m     dimension=\u001b[38;5;28;01mNone\u001b[39;00m,\n\u001b[32m    239\u001b[39m )\n\u001b[32m    241\u001b[39m \u001b[38;5;66;03m# TODO: Let sysdb create the collection directly from the model\u001b[39;00m\n\u001b[32m--> \u001b[39m\u001b[32m242\u001b[39m coll, created = \u001b[38;5;28;43mself\u001b[39;49m\u001b[43m.\u001b[49m\u001b[43m_sysdb\u001b[49m\u001b[43m.\u001b[49m\u001b[43mcreate_collection\u001b[49m\u001b[43m(\u001b[49m\n\u001b[32m    243\u001b[39m \u001b[43m    \u001b[49m\u001b[38;5;28;43mid\u001b[39;49m\u001b[43m=\u001b[49m\u001b[43mmodel\u001b[49m\u001b[43m.\u001b[49m\u001b[43mid\u001b[49m\u001b[43m,\u001b[49m\n\u001b[32m    244\u001b[39m \u001b[43m    \u001b[49m\u001b[43mname\u001b[49m\u001b[43m=\u001b[49m\u001b[43mmodel\u001b[49m\u001b[43m.\u001b[49m\u001b[43mname\u001b[49m\u001b[43m,\u001b[49m\n\u001b[32m    245\u001b[39m \u001b[43m    \u001b[49m\u001b[43mconfiguration\u001b[49m\u001b[43m=\u001b[49m\u001b[43mmodel\u001b[49m\u001b[43m.\u001b[49m\u001b[43mget_configuration\u001b[49m\u001b[43m(\u001b[49m\u001b[43m)\u001b[49m\u001b[43m,\u001b[49m\n\u001b[32m    246\u001b[39m \u001b[43m    \u001b[49m\u001b[43msegments\u001b[49m\u001b[43m=\u001b[49m\u001b[43m[\u001b[49m\u001b[43m]\u001b[49m\u001b[43m,\u001b[49m\u001b[43m  \u001b[49m\u001b[38;5;66;43;03m# Passing empty till backend changes are deployed.\u001b[39;49;00m\n\u001b[32m    247\u001b[39m \u001b[43m    \u001b[49m\u001b[43mmetadata\u001b[49m\u001b[43m=\u001b[49m\u001b[43mmodel\u001b[49m\u001b[43m.\u001b[49m\u001b[43mmetadata\u001b[49m\u001b[43m,\u001b[49m\n\u001b[32m    248\u001b[39m \u001b[43m    \u001b[49m\u001b[43mdimension\u001b[49m\u001b[43m=\u001b[49m\u001b[38;5;28;43;01mNone\u001b[39;49;00m\u001b[43m,\u001b[49m\u001b[43m  \u001b[49m\u001b[38;5;66;43;03m# This is lazily populated on the first add\u001b[39;49;00m\n\u001b[32m    249\u001b[39m \u001b[43m    \u001b[49m\u001b[43mget_or_create\u001b[49m\u001b[43m=\u001b[49m\u001b[43mget_or_create\u001b[49m\u001b[43m,\u001b[49m\n\u001b[32m    250\u001b[39m \u001b[43m    \u001b[49m\u001b[43mtenant\u001b[49m\u001b[43m=\u001b[49m\u001b[43mtenant\u001b[49m\u001b[43m,\u001b[49m\n\u001b[32m    251\u001b[39m \u001b[43m    \u001b[49m\u001b[43mdatabase\u001b[49m\u001b[43m=\u001b[49m\u001b[43mdatabase\u001b[49m\u001b[43m,\u001b[49m\n\u001b[32m    252\u001b[39m \u001b[43m\u001b[49m\u001b[43m)\u001b[49m\n\u001b[32m    254\u001b[39m \u001b[38;5;28;01mif\u001b[39;00m created:\n\u001b[32m    255\u001b[39m     segments = \u001b[38;5;28mself\u001b[39m._manager.prepare_segments_for_new_collection(coll)\n",
            "\u001b[36mFile \u001b[39m\u001b[32m~/Documents/GitHub/opex-apis/opex/lib/python3.11/site-packages/chromadb/telemetry/opentelemetry/__init__.py:150\u001b[39m, in \u001b[36mtrace_method.<locals>.decorator.<locals>.wrapper\u001b[39m\u001b[34m(*args, **kwargs)\u001b[39m\n\u001b[32m    148\u001b[39m \u001b[38;5;28;01mglobal\u001b[39;00m tracer, granularity\n\u001b[32m    149\u001b[39m \u001b[38;5;28;01mif\u001b[39;00m trace_granularity < granularity:\n\u001b[32m--> \u001b[39m\u001b[32m150\u001b[39m     \u001b[38;5;28;01mreturn\u001b[39;00m \u001b[43mf\u001b[49m\u001b[43m(\u001b[49m\u001b[43m*\u001b[49m\u001b[43margs\u001b[49m\u001b[43m,\u001b[49m\u001b[43m \u001b[49m\u001b[43m*\u001b[49m\u001b[43m*\u001b[49m\u001b[43mkwargs\u001b[49m\u001b[43m)\u001b[49m\n\u001b[32m    151\u001b[39m \u001b[38;5;28;01mif\u001b[39;00m \u001b[38;5;129;01mnot\u001b[39;00m tracer:\n\u001b[32m    152\u001b[39m     \u001b[38;5;28;01mreturn\u001b[39;00m f(*args, **kwargs)\n",
            "\u001b[36mFile \u001b[39m\u001b[32m~/Documents/GitHub/opex-apis/opex/lib/python3.11/site-packages/chromadb/db/mixins/sysdb.py:305\u001b[39m, in \u001b[36mSqlSysDB.create_collection\u001b[39m\u001b[34m(self, id, name, configuration, segments, metadata, dimension, get_or_create, tenant, database)\u001b[39m\n\u001b[32m    298\u001b[39m         \u001b[38;5;28;01mreturn\u001b[39;00m (\n\u001b[32m    299\u001b[39m             \u001b[38;5;28mself\u001b[39m.get_collections(\n\u001b[32m    300\u001b[39m                 \u001b[38;5;28mid\u001b[39m=collection.id, tenant=tenant, database=database\n\u001b[32m    301\u001b[39m             )[\u001b[32m0\u001b[39m],\n\u001b[32m    302\u001b[39m             \u001b[38;5;28;01mFalse\u001b[39;00m,\n\u001b[32m    303\u001b[39m         )\n\u001b[32m    304\u001b[39m     \u001b[38;5;28;01melse\u001b[39;00m:\n\u001b[32m--> \u001b[39m\u001b[32m305\u001b[39m         \u001b[38;5;28;01mraise\u001b[39;00m UniqueConstraintError(\u001b[33mf\u001b[39m\u001b[33m\"\u001b[39m\u001b[33mCollection \u001b[39m\u001b[38;5;132;01m{\u001b[39;00mname\u001b[38;5;132;01m}\u001b[39;00m\u001b[33m already exists\u001b[39m\u001b[33m\"\u001b[39m)\n\u001b[32m    307\u001b[39m collection = Collection(\n\u001b[32m    308\u001b[39m     \u001b[38;5;28mid\u001b[39m=\u001b[38;5;28mid\u001b[39m,\n\u001b[32m    309\u001b[39m     name=name,\n\u001b[32m   (...)\u001b[39m\u001b[32m    315\u001b[39m     version=\u001b[32m0\u001b[39m,\n\u001b[32m    316\u001b[39m )\n\u001b[32m    318\u001b[39m \u001b[38;5;28;01mwith\u001b[39;00m \u001b[38;5;28mself\u001b[39m.tx() \u001b[38;5;28;01mas\u001b[39;00m cur:\n",
            "\u001b[31mUniqueConstraintError\u001b[39m: Collection IBM_Annual_report_2023 already exists"
          ]
        }
      ],
      "source": [
        "# Initialize a ChromaDB client instance to interact with the database\n",
        "chroma_client = chromadb.Client()\n",
        "\n",
        "# Create a new collection in ChromaDB named \"IBM_Annual_report_2023\"\n",
        "# The collection will store embedded documents, using the specified embedding function\n",
        "chroma_collection = chroma_client.create_collection(\"IBM_Annual_report_2023\", embedding_function=embedding_function)\n",
        "\n",
        "# Generate unique string IDs for each document by converting their indices to strings\n",
        "ids = [str(i) for i in range(len(character_split_texts))]\n",
        "\n",
        "# Add the documents to the ChromaDB collection along with their corresponding IDs\n",
        "chroma_collection.add(ids=ids, documents=character_split_texts)\n",
        "\n",
        "# Count the number of documents stored in the collection and return the count\n",
        "chroma_collection.count()\n"
      ]
    },
    {
      "cell_type": "code",
      "execution_count": null,
      "metadata": {
        "colab": {
          "base_uri": "https://localhost:8080/"
        },
        "id": "aQVoMgnUrOVW",
        "outputId": "067b854d-6382-4dd2-beda-7e0b9963664b"
      },
      "outputs": [
        {
          "name": "stdout",
          "output_type": "stream",
          "text": [
            "Revenue Recognized for Performance Obligations Satisfied (or Partially Satisfied) in Prior Periods\n",
            "For the year ended December  31, 2023, revenue was reduced by $16 million for performance obligations satisfied or partially \n",
            "satisfied in previous periods mainly due to changes in estimates on contracts with cost-to-cost measures of progress. Refer to note \n",
            "A, “Significant Accounting Policies,” for additional information on these contracts and estimates of costs to complete.\n",
            "Reconciliation of Contract Balances\n",
            "The following table provides information about notes and accounts receivable—trade, contract assets and deferred income \n",
            "balances.\n",
            "($ in millions)\n",
            "At December 31: 2023 2022\n",
            "Notes and accounts receivable — trade (net of allowances of $192 in 2023 and $233 in 2022) $ 7,214 $ 6,541 \n",
            "Contract assets (1)  505  464 \n",
            "Deferred income (current)  13,451  12,032 \n",
            "Deferred income (noncurrent)  3,533  3,499\n",
            "\n",
            "\n",
            "Total revenue $ 61,860 $ 60,530  2.2 %  2.9 %\n",
            "Total gross profit $ 34,300 $ 32,687  4.9 % \n",
            "Total gross margin  55.4 %  54.0 %  1.4 pts.\n",
            "Non-operating adjustments\n",
            "Amortization of acquired intangible assets  631  682  (7.5) %   \n",
            "Operating (non-GAAP) gross profit $ 34,931 $ 33,370  4.7 % \n",
            "Operating (non-GAAP) gross margin  56.5 %  55.1 %  1.3 pts.\n",
            "Software\n",
            "($ in millions)  \n",
            "For the year ended December 31: 2023 2022\n",
            "Yr.-to-Yr. \n",
            "Percent \n",
            "Change \n",
            "Yr.-to-Yr. \n",
            "Percent Change \n",
            "Adjusted for \n",
            "Currency\n",
            "Software revenue $ 26,308 $ 25,037  5.1 %  5.2 %\n",
            "Hybrid Platform & Solutions $ 18,693 $ 17,866  4.6 %  4.8 %\n",
            "Red Hat   9.1  9.0 \n",
            "Automation   3.4  3.6 \n",
            "Data & AI   4.5  4.8 \n",
            "Security   (2.5)  (2.2) \n",
            "Transaction Processing  7,615  7,171   6.2  6.3 \n",
            "Software revenue of $26,308 million increased 5.1 percent as reported (5 percent adjusted for currency) in 2023 compared to the \n",
            "prior year, driven by growth in both Hybrid Platform & Solutions and Transaction Processing. The growth in Hybrid Platform &\n",
            "\n",
            "\n",
            "Total $ 4,955 $ 1,533 $ 1,901 $ 1,106 $ 1,174 $ 195 \n",
            "86 Notes to the Consolidated Financial Statements\n",
            "International Business Machines Corporation and Subsidiary Companies\n",
            "\n",
            "\n",
            "Management System Segment View\n",
            "($ in millions)\n",
            "For the year ended December 31: Software Consulting Infrastructure Financing \n",
            "Total \n",
            "Segments\n",
            "2023\n",
            "Revenue $ 26,308 $ 19,985 $ 14,593 $ 741 $ 61,627 \n",
            "Pre-tax income from continuing operations  6,571  1,918  2,421  374  11,283 \n",
            "Revenue year-to-year change  5.1 %  4.6 %  (4.5) %  14.8 %  2.6 %\n",
            "Pre-tax income year-to-year change  6.6 %  14.4 %  7.0 %  10.1 %  8.1 %\n",
            "Pre-tax income margin  25.0 %  9.6 %  16.6 %  50.5 %  18.3 %\n",
            "2022\n",
            "Revenue $ 25,037 $ 19,107 $ 15,288 $ 645 $ 60,077 \n",
            "Pre-tax income from continuing operations  6,162  1,677  2,262  340  10,441 \n",
            "Revenue year-to-year change  6.9 %  7.1 %  7.8 %  (16.6) %  6.8 %\n",
            "Pre-tax income year-to-year change  27.1 %  15.7 %  11.7 %  (22.9) %  19.1 %\n",
            "Pre-tax income margin  24.6 %  8.8 %  14.8 %  52.6 %  17.4 %\n",
            "2021\n",
            "Revenue $ 23,426 $ 17,844 $ 14,188 $ 774 $ 56,231 \n",
            "Pre-tax income from continuing operations  4,849  1,449  2,025  441  8,765 \n",
            " Reconciliations of IBM as Reported\n",
            "($ in millions)\n",
            "\n",
            "\n",
            "For the year ended December 31: 2023 2022 2021\n",
            "Revenue\n",
            "Total reportable segments $ 61,627 $ 60,077 $ 56,231 \n",
            "Other—divested businesses  (2)  318  785 \n",
            "Other revenue  235  135  335 \n",
            "Total revenue $ 61,860 $ 60,530 $ 57,350 \n",
            "($ in millions)   \n",
            "For the year ended December 31: 2023  2022 2021\n",
            "Pre-tax income from continuing operations\n",
            "Total reportable segments $ 11,283 $ 10,441 $ 8,765 \n",
            "Amortization of acquired intangible assets  (1,627)  (1,747)  (1,838) \n",
            "Acquisition-related charges  (33)  (18)  (43) \n",
            "Non-operating retirement-related (costs)/income (1)  39  (6,548)  (1,282) \n",
            "Kyndryl-related impacts (2)  —  (351)  118 \n",
            "Workforce rebalancing charges (3)  (435)  —  — \n",
            "Other—divested businesses  5  91  (102) \n",
            "Unallocated corporate amounts and other  (541)  (712)  (782) \n",
            "Total pre-tax income from continuing operations $ 8,690 $ 1,156 $ 4,837 \n",
            "(1) 2022 includes a one-time, non-cash, pre-tax pension settlement charge of $5.9 billion. See note V, “Retirement-Related Benefits,” for additional\n",
            "\n",
            "\n"
          ]
        }
      ],
      "source": [
        "# Define the query we want to search for\n",
        "query = \"What was the total revenue?\"\n",
        "\n",
        "# Perform a similarity search using ChromaDB, retrieving the top 5 most relevant documents\n",
        "results = chroma_collection.query(query_texts=[query], n_results=5)\n",
        "\n",
        "# Extract the list of retrieved documents from the query results\n",
        "retrieved_documents = results['documents'][0]\n",
        "\n",
        "# Iterate through each retrieved document\n",
        "for document in retrieved_documents:\n",
        "    # Print the document content\n",
        "    print(document)\n",
        "    # Print a newline for better readability between documents\n",
        "    print('\\n')\n"
      ]
    },
    {
      "cell_type": "code",
      "execution_count": null,
      "metadata": {
        "id": "i_XLsOMa_PzI"
      },
      "outputs": [],
      "source": [
        "def retreiver(query):\n",
        "  # Perform a similarity search using ChromaDB, retrieving the top 5 most relevant documents\n",
        "  results = chroma_collection.query(query_texts=[query], n_results=5)\n",
        "\n",
        "  # Extract the list of retrieved documents from the query results\n",
        "  retrieved_documents = results['documents'][0]\n",
        "  return retrieved_documents"
      ]
    },
    {
      "cell_type": "code",
      "execution_count": 130,
      "metadata": {
        "id": "muzZ-z5OuB07"
      },
      "outputs": [],
      "source": [
        "huggingface_api_key = input(\"Enter Hugging Face Token\")\n"
      ]
    },
    {
      "cell_type": "code",
      "execution_count": 131,
      "metadata": {
        "id": "LzL0N4Igs3wt"
      },
      "outputs": [],
      "source": [
        "repo_id = \"mistralai/Mistral-7B-Instruct-v0.2\"\n",
        "\n",
        "from langchain.llms import HuggingFaceHub\n",
        "\n",
        "# Initialize LLM\n",
        "llm = HuggingFaceHub(\n",
        "    repo_id=repo_id,  # Replace with your desired model\n",
        "    huggingfacehub_api_token=huggingface_api_key\n",
        ")\n",
        "\n",
        "\n"
      ]
    },
    {
      "cell_type": "code",
      "execution_count": 132,
      "metadata": {
        "id": "jxNgbEvhs33S"
      },
      "outputs": [],
      "source": [
        "from langchain_core.prompts import PromptTemplate\n",
        "\n",
        "prompt_template = PromptTemplate.from_template(\n",
        "        \"\"\"\n",
        "        |System|\n",
        "        You are a financial research analyst. You have to analyse the Request For Proposal(RFP) documents for the bidding process.\n",
        "\n",
        "        |Instruction|\n",
        "        Refer to the context from RFP document and answer the following question.Answer it in a concise manner. Do not add any additonal information.\n",
        "\n",
        "        |Question|\n",
        "        {question}\n",
        "\n",
        "        |Context|\n",
        "        {context}\n",
        "\n",
        "        |Answer|\n",
        "        \"\"\"\n",
        "        )\n",
        "\n",
        "\n"
      ]
    },
    {
      "cell_type": "code",
      "execution_count": 133,
      "metadata": {
        "id": "5ctSMq6e_cc2"
      },
      "outputs": [],
      "source": [
        "query1=\"What was the total revenue?\"\n",
        "documents1=retreiver(query1)"
      ]
    },
    {
      "cell_type": "code",
      "execution_count": 134,
      "metadata": {
        "id": "-Bn9vuTo_hJm"
      },
      "outputs": [],
      "source": [
        "\n",
        "prompt1=prompt_template.format(question=query1, context=documents1)"
      ]
    },
    {
      "cell_type": "code",
      "execution_count": 135,
      "metadata": {
        "colab": {
          "base_uri": "https://localhost:8080/"
        },
        "id": "hsKORktcuMXt",
        "outputId": "7e38dfd7-1109-4515-e193-665ac6c8a411"
      },
      "outputs": [
        {
          "name": "stderr",
          "output_type": "stream",
          "text": [
            "/Users/suyashgupte/Documents/GitHub/opex-apis/opex/lib/python3.11/site-packages/huggingface_hub/utils/_deprecation.py:131: FutureWarning: 'post' (from 'huggingface_hub.inference._client') is deprecated and will be removed from version '0.31.0'. Making direct POST requests to the inference server is not supported anymore. Please use task methods instead (e.g. `InferenceClient.chat_completion`). If your use case is not supported, please open an issue in https://github.com/huggingface/huggingface_hub.\n",
            "  warnings.warn(warning_message, FutureWarning)\n"
          ]
        },
        {
          "name": "stdout",
          "output_type": "stream",
          "text": [
            "\n",
            "        |System|\n",
            "        You are a financial research analyst. You have to analyse the Request For Proposal(RFP) documents for the bidding process.\n",
            "\n",
            "        |Instruction|\n",
            "        Refer to the context from RFP document and answer the following question.Answer it in a concise manner. Do not add any additonal information.\n",
            "\n",
            "        |Question|\n",
            "        What was the total revenue?\n",
            "\n",
            "        |Context|\n",
            "        ['Revenue Recognized for Performance Obligations Satisfied (or Partially Satisfied) in Prior Periods\\nFor the year ended December\\xa0 31, 2023, revenue was reduced by $16 million for performance obligations satisfied or partially \\nsatisfied in previous periods mainly due to changes in estimates on contracts with cost-to-cost measures of progress. Refer to note \\nA, “Significant Accounting Policies,” for additional information on these contracts and estimates of costs to complete.\\nReconciliation of Contract Balances\\nThe following table provides information about notes and accounts receivable—trade, contract assets and deferred income \\nbalances.\\n($ in millions)\\nAt December 31: 2023 2022\\nNotes and accounts receivable — trade (net of allowances of $192 in 2023 and $233 in 2022) $ 7,214 $ 6,541 \\nContract assets (1)  505  464 \\nDeferred income (current)  13,451  12,032 \\nDeferred income (noncurrent)  3,533  3,499', 'Total revenue $ 61,860 $ 60,530  2.2 %  2.9 %\\nTotal gross profit $ 34,300 $ 32,687  4.9 % \\nTotal gross margin  55.4 %  54.0 %  1.4 pts.\\nNon-operating adjustments\\nAmortization of acquired intangible assets  631  682  (7.5) %   \\nOperating (non-GAAP) gross profit $ 34,931 $ 33,370  4.7 % \\nOperating (non-GAAP) gross margin  56.5 %  55.1 %  1.3 pts.\\nSoftware\\n($ in millions)  \\nFor the year ended December 31: 2023 2022\\nYr.-to-Yr. \\nPercent \\nChange \\nYr.-to-Yr. \\nPercent Change \\nAdjusted for \\nCurrency\\nSoftware revenue $ 26,308 $ 25,037  5.1 %  5.2 %\\nHybrid Platform & Solutions $ 18,693 $ 17,866  4.6 %  4.8 %\\nRed Hat   9.1  9.0 \\nAutomation   3.4  3.6 \\nData & AI   4.5  4.8 \\nSecurity   (2.5)  (2.2) \\nTransaction Processing  7,615  7,171   6.2  6.3 \\nSoftware revenue of $26,308 million increased 5.1 percent as reported (5 percent adjusted for currency) in 2023 compared to the \\nprior year, driven by growth in both Hybrid Platform & Solutions and Transaction Processing. The growth in Hybrid Platform &', 'Total $ 4,955 $ 1,533 $ 1,901 $ 1,106 $ 1,174 $ 195 \\n86 Notes to the Consolidated Financial Statements\\nInternational Business Machines Corporation and Subsidiary Companies', 'Management System Segment View\\n($ in millions)\\nFor the year ended December 31: Software Consulting Infrastructure Financing \\nTotal \\nSegments\\n2023\\nRevenue $ 26,308 $ 19,985 $ 14,593 $ 741 $ 61,627 \\nPre-tax income from continuing operations  6,571  1,918  2,421  374  11,283 \\nRevenue year-to-year change  5.1 %  4.6 %  (4.5) %  14.8 %  2.6 %\\nPre-tax income year-to-year change  6.6 %  14.4 %  7.0 %  10.1 %  8.1 %\\nPre-tax income margin  25.0 %  9.6 %  16.6 %  50.5 %  18.3 %\\n2022\\nRevenue $ 25,037 $ 19,107 $ 15,288 $ 645 $ 60,077 \\nPre-tax income from continuing operations  6,162  1,677  2,262  340  10,441 \\nRevenue year-to-year change  6.9 %  7.1 %  7.8 %  (16.6) %  6.8 %\\nPre-tax income year-to-year change  27.1 %  15.7 %  11.7 %  (22.9) %  19.1 %\\nPre-tax income margin  24.6 %  8.8 %  14.8 %  52.6 %  17.4 %\\n2021\\nRevenue $ 23,426 $ 17,844 $ 14,188 $ 774 $ 56,231 \\nPre-tax income from continuing operations  4,849  1,449  2,025  441  8,765 \\n Reconciliations of IBM as Reported\\n($ in millions)', 'For the year ended December 31: 2023 2022 2021\\nRevenue\\nTotal reportable segments $ 61,627 $ 60,077 $ 56,231 \\nOther—divested businesses  (2)  318  785 \\nOther revenue  235  135  335 \\nTotal revenue $ 61,860 $ 60,530 $ 57,350 \\n($ in millions)   \\nFor the year ended December 31: 2023  2022 2021\\nPre-tax income from continuing operations\\nTotal reportable segments $ 11,283 $ 10,441 $ 8,765 \\nAmortization of acquired intangible assets  (1,627)  (1,747)  (1,838) \\nAcquisition-related charges  (33)  (18)  (43) \\nNon-operating retirement-related (costs)/income (1)  39  (6,548)  (1,282) \\nKyndryl-related impacts (2)  —  (351)  118 \\nWorkforce rebalancing charges (3)  (435)  —  — \\nOther—divested businesses  5  91  (102) \\nUnallocated corporate amounts and other  (541)  (712)  (782) \\nTotal pre-tax income from continuing operations $ 8,690 $ 1,156 $ 4,837 \\n(1) 2022 includes a one-time, non-cash, pre-tax pension settlement charge of $5.9 billion. See note V, “Retirement-Related Benefits,” for additional']\n",
            "\n",
            "        |Answer|\n",
            "         61,860\n",
            "\n",
            "        ```\n"
          ]
        }
      ],
      "source": [
        "print(llm.invoke(prompt1))"
      ]
    },
    {
      "cell_type": "code",
      "execution_count": 111,
      "metadata": {
        "id": "r48DZAmjwA3l"
      },
      "outputs": [],
      "source": [
        "query2=\"What are IBM’s top-performing geographic regions in terms of revenue?\"\n",
        "documents2=retreiver(query2)"
      ]
    },
    {
      "cell_type": "code",
      "execution_count": 112,
      "metadata": {
        "id": "EdhCApjKwA7f"
      },
      "outputs": [],
      "source": [
        "prompt2=prompt_template.format(question=query2, context=documents2)"
      ]
    },
    {
      "cell_type": "code",
      "execution_count": 113,
      "metadata": {
        "colab": {
          "base_uri": "https://localhost:8080/"
        },
        "id": "SSpvfvOgwBA2",
        "outputId": "d59cc65d-58ed-4592-ddd1-62c2e9f7753f"
      },
      "outputs": [
        {
          "name": "stderr",
          "output_type": "stream",
          "text": [
            "/Users/suyashgupte/Documents/GitHub/opex-apis/opex/lib/python3.11/site-packages/huggingface_hub/utils/_deprecation.py:131: FutureWarning: 'post' (from 'huggingface_hub.inference._client') is deprecated and will be removed from version '0.31.0'. Making direct POST requests to the inference server is not supported anymore. Please use task methods instead (e.g. `InferenceClient.chat_completion`). If your use case is not supported, please open an issue in https://github.com/huggingface/huggingface_hub.\n",
            "  warnings.warn(warning_message, FutureWarning)\n"
          ]
        },
        {
          "name": "stdout",
          "output_type": "stream",
          "text": [
            "\n",
            "        |System|\n",
            "        You are a financial research analyst. You have to analyse the Request For Proposal(RFP) documents for the bidding process.\n",
            "\n",
            "        |Instruction|\n",
            "        Refer to the context from RFP document and answer the following question.Answer it in a concise manner. Do not add any additonal information.\n",
            "\n",
            "        |Question|\n",
            "        What are IBM’s top-performing geographic regions in terms of revenue?\n",
            "\n",
            "        |Context|\n",
            "        ['Reconciliations of IBM as Reported\\n($ in millions)\\nAt December 31: 2023 2022\\nAssets\\nTotal reportable segments $ 101,883 $ 98,667 \\nElimination of internal transactions  (1,028)  (1,062) \\nOther—divested businesses  19  100 \\nUnallocated amounts\\nCash and marketable securities  12,907  8,138 \\nDeferred tax assets  6,468  6,078 \\nPlant, other property and equipment  1,838  1,760 \\nOperating right-of-use assets  2,085  1,586 \\nPension assets  7,506  8,236 \\n  Other (1)  3,563  3,740 \\nTotal IBM consolidated assets $ 135,241 $ 127,243 \\n(1) Prior period has been reclassified to conform to the change in 2023 presentation. \\nMajor Clients\\nNo single client represented 10 percent or more of the company’s total revenue in 2023, 2022 or 2021.\\nGeographic Information\\nThe following tables provide information for those countries that are 10 percent or more of the specific category.\\nRevenue (1)\\n($ in millions)  \\nFor the year ended December 31: 2023 2022 2021\\nUnited States $ 25,309 $ 25,098 $ 22,893', 'International Business Machines $ 100.00 $ 123.84 $ 122.66 $ 143.51 $ 158.87 $ 193.63 \\n• • • • S & P 500 $ 100.00 $ 131.49 $ 155.68 $ 200.37 $ 164.08 $ 207.21 \\n-\\xa0\\xa0-\\xa0\\xa0-\\xa0\\xa0- S & P Information Technology $ 100.00 $ 150.29 $ 216.25 $ 290.92 $ 208.90 $ 329.73 \\n122 Performance Graphs\\nInternational Business Machines Corporation and Subsidiary Companies\\n80\\n180\\n160\\n140\\n120\\n100\\n12/22 6/23 9/233/23 12/23\\n0\\n100\\n250\\n50\\n150\\n200\\n12/20 12/21 12/2312/22\\n0\\n100\\n350\\n50\\n150\\n200\\n250\\n300\\n12/18 12/19 12/2112/20 12/2312/22\\nOne-Year Three-Year\\nFive-Year\\n— \\n— — — — \\n—', 'International Business Machines Corporation and Subsidiary Companies', 'International Business Machines Corporation and Subsidiary Companies', 'International Business Machines Corporation and Subsidiary Companies']\n",
            "\n",
            "        |Answer|\n",
            "         United States\n"
          ]
        }
      ],
      "source": [
        "print(llm.invoke(prompt2))"
      ]
    },
    {
      "cell_type": "code",
      "execution_count": 114,
      "metadata": {
        "id": "zp2NZswzwBD0"
      },
      "outputs": [],
      "source": [
        "query3=\"How is IBM reducing its carbon footprint?\"\n",
        "documents3=retreiver(query3)"
      ]
    },
    {
      "cell_type": "code",
      "execution_count": 116,
      "metadata": {
        "id": "Ttz8vJDcwBGa"
      },
      "outputs": [],
      "source": [
        "prompt3=prompt_template.format(question=query3, context=documents3)"
      ]
    },
    {
      "cell_type": "code",
      "execution_count": 117,
      "metadata": {
        "colab": {
          "base_uri": "https://localhost:8080/"
        },
        "id": "z_ab496R_x6f",
        "outputId": "334e7a4f-88bc-49db-f14d-65617cb99150"
      },
      "outputs": [
        {
          "name": "stderr",
          "output_type": "stream",
          "text": [
            "/Users/suyashgupte/Documents/GitHub/opex-apis/opex/lib/python3.11/site-packages/huggingface_hub/utils/_deprecation.py:131: FutureWarning: 'post' (from 'huggingface_hub.inference._client') is deprecated and will be removed from version '0.31.0'. Making direct POST requests to the inference server is not supported anymore. Please use task methods instead (e.g. `InferenceClient.chat_completion`). If your use case is not supported, please open an issue in https://github.com/huggingface/huggingface_hub.\n",
            "  warnings.warn(warning_message, FutureWarning)\n"
          ]
        },
        {
          "name": "stdout",
          "output_type": "stream",
          "text": [
            "\n",
            "        |System|\n",
            "        You are a financial research analyst. You have to analyse the Request For Proposal(RFP) documents for the bidding process.\n",
            "\n",
            "        |Instruction|\n",
            "        Refer to the context from RFP document and answer the following question.Answer it in a concise manner. Do not add any additonal information.\n",
            "\n",
            "        |Question|\n",
            "        How is IBM reducing its carbon footprint?\n",
            "\n",
            "        |Context|\n",
            "        ['The literature mentioned below on IBM is available without charge from:\\nComputershare Trust Company, N.A., P.O. Box 43078, Providence, Rhode Island 02940-3078, (888) IBM-6700.\\nInvestors residing outside the United States, Canada and Puerto Rico should call (781) 575-2727.\\nThe company’s annual report on Form 10-K and the quarterly reports on Form 10-Q provide additional information on IBM’s \\nbusiness. The 10-K report is released by the end of February; 10-Q reports are released by the end of April, July and October. \\nThe IBM ESG Report reflects IBM’s belief that corporate responsibility drives long-term value not just in our business, but also for \\nIBM stakeholders. Our 2022  ESG Report, IBM Impact , and the related addendum are available online at https://www.ibm.com/\\nimpact. \\nGeneral Information\\nStockholders of record can receive account information and answers to frequently asked questions regarding stockholder accounts', 'services business. On May 30, 2022, the trial court awarded BMC $718 million in direct damages and $718 million in punitive \\ndamages, plus interest and fees. IBM appealed and expects a decision soon. IBM does not believe it has any material exposure \\nrelating to this litigation. No material liability or related indemnification asset has been recorded by IBM.\\nThe company is party to, or otherwise involved in, proceedings brought by U.S. federal or state environmental agencies under the \\nComprehensive Environmental Response, Compensation and Liability Act (CERCLA), known as “Superfund,” or laws similar to \\nCERCLA. Such statutes require potentially responsible parties to participate in remediation activities regardless of fault or \\nownership of sites. The company is also conducting environmental investigations, assessments or remediations at or in the vicinity', 'technologies ethically and deploy them with transparency and \\ntrust. That is why we built powerful AI governance into our \\nwatsonx platform and developed quantum-safe cryptography \\nto secure sensitive data. It is why we advocate for smart AI \\nregulation, including holding those who develop and deploy \\nAI accountable for fraudulent, discriminatory, and harmful \\nactivity. And it is why IBM and Meta announced the formation \\nof the AI Alliance, a group of more than 70 organizations \\ndedicated to advancing open, safe, and responsible AI.\\nWe also earn trust by operating with integrity, staying true \\nto our values, and addressing the needs of all stakeholders. \\nWe continue to advance our efforts on the environment, \\nethics, and education. IBM has achieved a 63% reduction \\nin greenhouse gas emissions against base year 2010. \\nWe announced a new program to train 1,000 suppliers in \\ntechnology ethics by 2025. And IBM committed to training', 'Reconciliations of IBM as Reported\\n($ in millions)\\nAt December 31: 2023 2022\\nAssets\\nTotal reportable segments $ 101,883 $ 98,667 \\nElimination of internal transactions  (1,028)  (1,062) \\nOther—divested businesses  19  100 \\nUnallocated amounts\\nCash and marketable securities  12,907  8,138 \\nDeferred tax assets  6,468  6,078 \\nPlant, other property and equipment  1,838  1,760 \\nOperating right-of-use assets  2,085  1,586 \\nPension assets  7,506  8,236 \\n  Other (1)  3,563  3,740 \\nTotal IBM consolidated assets $ 135,241 $ 127,243 \\n(1) Prior period has been reclassified to conform to the change in 2023 presentation. \\nMajor Clients\\nNo single client represented 10 percent or more of the company’s total revenue in 2023, 2022 or 2021.\\nGeographic Information\\nThe following tables provide information for those countries that are 10 percent or more of the specific category.\\nRevenue (1)\\n($ in millions)  \\nFor the year ended December 31: 2023 2022 2021\\nUnited States $ 25,309 $ 25,098 $ 22,893', 'InfrastructureConsultingSoftware\\nWe also expanded profit margins by emphasizing high-\\nvalue offerings in Consulting and Software and by digitally \\ntransforming our processes and scaling AI to enhance \\nproductivity within IBM.\\nSoftware revenues were up more than 5% at constant \\ncurrency, as clients turned to our advanced software \\ncapabilities across hybrid cloud, data & AI, automation, \\ntransactions processing, and security. Our performance was \\nled by Red Hat, and we had solid growth in our recurring \\nrevenue base.\\nConsulting revenues were up 6% at constant currency. \\nWe capitalized on the growing need for expertise in \\ndigital transformation and AI deployment, leveraging our \\nconsulting services in data and technology consulting, \\ncloud modernization, application operations, and business \\ntransformation. \\nInfrastructure  revenues decreased by 4% at constant \\ncurrency, in line with the typical product cycle dynamics in \\nthis segment. IBM z16 is significantly outperforming previous']\n",
            "\n",
            "        |Answer|\n",
            "         IBM is reducing its carbon footprint by achieving a 63% reduction in greenhouse gas emissions against base year 2010.\n",
            "        ```\n"
          ]
        }
      ],
      "source": [
        "print(llm.invoke(prompt3))"
      ]
    },
    {
      "cell_type": "code",
      "execution_count": null,
      "metadata": {},
      "outputs": [],
      "source": []
    }
  ],
  "metadata": {
    "colab": {
      "provenance": []
    },
    "kernelspec": {
      "display_name": "Python 3",
      "name": "python3"
    },
    "language_info": {
      "codemirror_mode": {
        "name": "ipython",
        "version": 3
      },
      "file_extension": ".py",
      "mimetype": "text/x-python",
      "name": "python",
      "nbconvert_exporter": "python",
      "pygments_lexer": "ipython3",
      "version": "3.11.9"
    }
  },
  "nbformat": 4,
  "nbformat_minor": 0
}
