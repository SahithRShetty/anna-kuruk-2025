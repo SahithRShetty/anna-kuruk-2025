{
  "cells": [
    {
      "cell_type": "markdown",
      "metadata": {
        "id": "N65n1ALZyD9o"
      },
      "source": [
        "## RAG NOTEBOOK:\n",
        "This notebook contains the steps and code to demonstrate support of Retrieval Augumented Generation in watsonx.ai. It introduces commands for data retrieval, knowledge base building & querying, and model testing.\n",
        "\n",
        "Some familiarity with Python is helpful.\n",
        "\n",
        "### About Retrieval Augmented Generation\n",
        "Retrieval Augmented Generation (RAG) is a versatile pattern that can unlock a number of use cases requiring factual recall of information, such as querying a knowledge base in natural language.\n",
        "\n",
        "In its simplest form, RAG requires 3 steps:\n",
        "\n",
        "- Index knowledge base passages (once)\n",
        "- Retrieve relevant passage(s) from knowledge base (for every user query)\n",
        "- Generate a response by feeding retrieved passage into a large language model (for every user query)\n",
        "\n",
        "## Contents\n",
        "\n",
        "This notebook contains the following parts:\n",
        "\n",
        "- [Setup](#setup)\n",
        "- [Document data loading](#data)\n",
        "- [Build up knowledge base](#build_base)\n",
        "- [Foundation Models on watsonx](#models)\n",
        "- [Generate a retrieval-augmented response to a question](#predict)\n",
        "- [Summary and next steps](#summary)\n"
      ]
    },
    {
      "cell_type": "markdown",
      "metadata": {
        "id": "RUkG0gwwyE-R"
      },
      "source": []
    },
    {
      "cell_type": "markdown",
      "metadata": {
        "id": "7AmHaA3Qyprl"
      },
      "source": [
        "<a id=\"setup\"></a>\n",
        "##  Set up the environment"
      ]
    },
    {
      "cell_type": "code",
      "execution_count": 1,
      "metadata": {
        "colab": {
          "base_uri": "https://localhost:8080/",
          "height": 1000
        },
        "id": "5EBl45xJrvbn",
        "outputId": "b754e8cf-33ec-44bc-af17-dd7271248402"
      },
      "outputs": [
        {
          "name": "stdout",
          "output_type": "stream",
          "text": [
            "Requirement already satisfied: pypdf in /Users/suyashgupte/Documents/GitHub/opex-apis/opex/lib/python3.11/site-packages (5.3.0)\n",
            "\n",
            "\u001b[1m[\u001b[0m\u001b[34;49mnotice\u001b[0m\u001b[1;39;49m]\u001b[0m\u001b[39;49m A new release of pip is available: \u001b[0m\u001b[31;49m24.0\u001b[0m\u001b[39;49m -> \u001b[0m\u001b[32;49m25.0.1\u001b[0m\n",
            "\u001b[1m[\u001b[0m\u001b[34;49mnotice\u001b[0m\u001b[1;39;49m]\u001b[0m\u001b[39;49m To update, run: \u001b[0m\u001b[32;49mpip install --upgrade pip\u001b[0m\n",
            "Collecting langchain-openai\n",
            "  Downloading langchain_openai-0.3.7-py3-none-any.whl.metadata (2.3 kB)\n",
            "Collecting langchain-core<1.0.0,>=0.3.39 (from langchain-openai)\n",
            "  Downloading langchain_core-0.3.40-py3-none-any.whl.metadata (5.9 kB)\n",
            "Collecting openai<2.0.0,>=1.58.1 (from langchain-openai)\n",
            "  Downloading openai-1.65.2-py3-none-any.whl.metadata (27 kB)\n",
            "Requirement already satisfied: tiktoken<1,>=0.7 in /Users/suyashgupte/Documents/GitHub/opex-apis/opex/lib/python3.11/site-packages (from langchain-openai) (0.8.0)\n",
            "Requirement already satisfied: langsmith<0.4,>=0.1.125 in /Users/suyashgupte/Documents/GitHub/opex-apis/opex/lib/python3.11/site-packages (from langchain-core<1.0.0,>=0.3.39->langchain-openai) (0.1.133)\n",
            "Requirement already satisfied: tenacity!=8.4.0,<10.0.0,>=8.1.0 in /Users/suyashgupte/Documents/GitHub/opex-apis/opex/lib/python3.11/site-packages (from langchain-core<1.0.0,>=0.3.39->langchain-openai) (8.5.0)\n",
            "Requirement already satisfied: jsonpatch<2.0,>=1.33 in /Users/suyashgupte/Documents/GitHub/opex-apis/opex/lib/python3.11/site-packages (from langchain-core<1.0.0,>=0.3.39->langchain-openai) (1.33)\n",
            "Requirement already satisfied: PyYAML>=5.3 in /Users/suyashgupte/Documents/GitHub/opex-apis/opex/lib/python3.11/site-packages (from langchain-core<1.0.0,>=0.3.39->langchain-openai) (6.0.2)\n",
            "Requirement already satisfied: packaging<25,>=23.2 in /Users/suyashgupte/Documents/GitHub/opex-apis/opex/lib/python3.11/site-packages (from langchain-core<1.0.0,>=0.3.39->langchain-openai) (24.1)\n",
            "Requirement already satisfied: typing-extensions>=4.7 in /Users/suyashgupte/Documents/GitHub/opex-apis/opex/lib/python3.11/site-packages (from langchain-core<1.0.0,>=0.3.39->langchain-openai) (4.12.2)\n",
            "Requirement already satisfied: pydantic<3.0.0,>=2.5.2 in /Users/suyashgupte/Documents/GitHub/opex-apis/opex/lib/python3.11/site-packages (from langchain-core<1.0.0,>=0.3.39->langchain-openai) (2.9.2)\n",
            "Requirement already satisfied: anyio<5,>=3.5.0 in /Users/suyashgupte/Documents/GitHub/opex-apis/opex/lib/python3.11/site-packages (from openai<2.0.0,>=1.58.1->langchain-openai) (4.6.0)\n",
            "Collecting distro<2,>=1.7.0 (from openai<2.0.0,>=1.58.1->langchain-openai)\n",
            "  Using cached distro-1.9.0-py3-none-any.whl.metadata (6.8 kB)\n",
            "Requirement already satisfied: httpx<1,>=0.23.0 in /Users/suyashgupte/Documents/GitHub/opex-apis/opex/lib/python3.11/site-packages (from openai<2.0.0,>=1.58.1->langchain-openai) (0.27.2)\n",
            "Collecting jiter<1,>=0.4.0 (from openai<2.0.0,>=1.58.1->langchain-openai)\n",
            "  Using cached jiter-0.8.2-cp311-cp311-macosx_11_0_arm64.whl.metadata (5.2 kB)\n",
            "Requirement already satisfied: sniffio in /Users/suyashgupte/Documents/GitHub/opex-apis/opex/lib/python3.11/site-packages (from openai<2.0.0,>=1.58.1->langchain-openai) (1.3.1)\n",
            "Requirement already satisfied: tqdm>4 in /Users/suyashgupte/Documents/GitHub/opex-apis/opex/lib/python3.11/site-packages (from openai<2.0.0,>=1.58.1->langchain-openai) (4.67.1)\n",
            "Requirement already satisfied: regex>=2022.1.18 in /Users/suyashgupte/Documents/GitHub/opex-apis/opex/lib/python3.11/site-packages (from tiktoken<1,>=0.7->langchain-openai) (2024.11.6)\n",
            "Requirement already satisfied: requests>=2.26.0 in /Users/suyashgupte/Documents/GitHub/opex-apis/opex/lib/python3.11/site-packages (from tiktoken<1,>=0.7->langchain-openai) (2.32.2)\n",
            "Requirement already satisfied: idna>=2.8 in /Users/suyashgupte/Documents/GitHub/opex-apis/opex/lib/python3.11/site-packages (from anyio<5,>=3.5.0->openai<2.0.0,>=1.58.1->langchain-openai) (3.10)\n",
            "Requirement already satisfied: certifi in /Users/suyashgupte/Documents/GitHub/opex-apis/opex/lib/python3.11/site-packages (from httpx<1,>=0.23.0->openai<2.0.0,>=1.58.1->langchain-openai) (2024.8.30)\n",
            "Requirement already satisfied: httpcore==1.* in /Users/suyashgupte/Documents/GitHub/opex-apis/opex/lib/python3.11/site-packages (from httpx<1,>=0.23.0->openai<2.0.0,>=1.58.1->langchain-openai) (1.0.6)\n",
            "Requirement already satisfied: h11<0.15,>=0.13 in /Users/suyashgupte/Documents/GitHub/opex-apis/opex/lib/python3.11/site-packages (from httpcore==1.*->httpx<1,>=0.23.0->openai<2.0.0,>=1.58.1->langchain-openai) (0.14.0)\n",
            "Requirement already satisfied: jsonpointer>=1.9 in /Users/suyashgupte/Documents/GitHub/opex-apis/opex/lib/python3.11/site-packages (from jsonpatch<2.0,>=1.33->langchain-core<1.0.0,>=0.3.39->langchain-openai) (3.0.0)\n",
            "Requirement already satisfied: orjson<4.0.0,>=3.9.14 in /Users/suyashgupte/Documents/GitHub/opex-apis/opex/lib/python3.11/site-packages (from langsmith<0.4,>=0.1.125->langchain-core<1.0.0,>=0.3.39->langchain-openai) (3.10.7)\n",
            "Requirement already satisfied: requests-toolbelt<2.0.0,>=1.0.0 in /Users/suyashgupte/Documents/GitHub/opex-apis/opex/lib/python3.11/site-packages (from langsmith<0.4,>=0.1.125->langchain-core<1.0.0,>=0.3.39->langchain-openai) (1.0.0)\n",
            "Requirement already satisfied: annotated-types>=0.6.0 in /Users/suyashgupte/Documents/GitHub/opex-apis/opex/lib/python3.11/site-packages (from pydantic<3.0.0,>=2.5.2->langchain-core<1.0.0,>=0.3.39->langchain-openai) (0.7.0)\n",
            "Requirement already satisfied: pydantic-core==2.23.4 in /Users/suyashgupte/Documents/GitHub/opex-apis/opex/lib/python3.11/site-packages (from pydantic<3.0.0,>=2.5.2->langchain-core<1.0.0,>=0.3.39->langchain-openai) (2.23.4)\n",
            "Requirement already satisfied: charset-normalizer<4,>=2 in /Users/suyashgupte/Documents/GitHub/opex-apis/opex/lib/python3.11/site-packages (from requests>=2.26.0->tiktoken<1,>=0.7->langchain-openai) (3.4.0)\n",
            "Requirement already satisfied: urllib3<3,>=1.21.1 in /Users/suyashgupte/Documents/GitHub/opex-apis/opex/lib/python3.11/site-packages (from requests>=2.26.0->tiktoken<1,>=0.7->langchain-openai) (2.2.3)\n",
            "Downloading langchain_openai-0.3.7-py3-none-any.whl (55 kB)\n",
            "\u001b[2K   \u001b[90m━━━━━━━━━━━━━━━━━━━━━━━━━━━━━━━━━━━━━━━━\u001b[0m \u001b[32m55.3/55.3 kB\u001b[0m \u001b[31m3.8 MB/s\u001b[0m eta \u001b[36m0:00:00\u001b[0m\n",
            "\u001b[?25hDownloading langchain_core-0.3.40-py3-none-any.whl (414 kB)\n",
            "\u001b[2K   \u001b[90m━━━━━━━━━━━━━━━━━━━━━━━━━━━━━━━━━━━━━━━━\u001b[0m \u001b[32m414.3/414.3 kB\u001b[0m \u001b[31m3.7 MB/s\u001b[0m eta \u001b[36m0:00:00\u001b[0m00:01\u001b[0m00:01\u001b[0m\n",
            "\u001b[?25hDownloading openai-1.65.2-py3-none-any.whl (473 kB)\n",
            "\u001b[2K   \u001b[90m━━━━━━━━━━━━━━━━━━━━━━━━━━━━━━━━━━━━━━━━\u001b[0m \u001b[32m473.2/473.2 kB\u001b[0m \u001b[31m8.6 MB/s\u001b[0m eta \u001b[36m0:00:00\u001b[0mta \u001b[36m0:00:01\u001b[0m\n",
            "\u001b[?25hUsing cached distro-1.9.0-py3-none-any.whl (20 kB)\n",
            "Using cached jiter-0.8.2-cp311-cp311-macosx_11_0_arm64.whl (311 kB)\n",
            "Installing collected packages: jiter, distro, openai, langchain-core, langchain-openai\n",
            "  Attempting uninstall: langchain-core\n",
            "    Found existing installation: langchain-core 0.3.34\n",
            "    Uninstalling langchain-core-0.3.34:\n",
            "      Successfully uninstalled langchain-core-0.3.34\n",
            "Successfully installed distro-1.9.0 jiter-0.8.2 langchain-core-0.3.40 langchain-openai-0.3.7 openai-1.65.2\n",
            "\n",
            "\u001b[1m[\u001b[0m\u001b[34;49mnotice\u001b[0m\u001b[1;39;49m]\u001b[0m\u001b[39;49m A new release of pip is available: \u001b[0m\u001b[31;49m24.0\u001b[0m\u001b[39;49m -> \u001b[0m\u001b[32;49m25.0.1\u001b[0m\n",
            "\u001b[1m[\u001b[0m\u001b[34;49mnotice\u001b[0m\u001b[1;39;49m]\u001b[0m\u001b[39;49m To update, run: \u001b[0m\u001b[32;49mpip install --upgrade pip\u001b[0m\n",
            "Requirement already satisfied: langchain in /Users/suyashgupte/Documents/GitHub/opex-apis/opex/lib/python3.11/site-packages (0.3.18)\n",
            "Requirement already satisfied: langchain-core<1.0.0,>=0.3.34 in /Users/suyashgupte/Documents/GitHub/opex-apis/opex/lib/python3.11/site-packages (from langchain) (0.3.40)\n",
            "Requirement already satisfied: langchain-text-splitters<1.0.0,>=0.3.6 in /Users/suyashgupte/Documents/GitHub/opex-apis/opex/lib/python3.11/site-packages (from langchain) (0.3.6)\n",
            "Requirement already satisfied: langsmith<0.4,>=0.1.17 in /Users/suyashgupte/Documents/GitHub/opex-apis/opex/lib/python3.11/site-packages (from langchain) (0.1.133)\n",
            "Requirement already satisfied: pydantic<3.0.0,>=2.7.4 in /Users/suyashgupte/Documents/GitHub/opex-apis/opex/lib/python3.11/site-packages (from langchain) (2.9.2)\n",
            "Requirement already satisfied: SQLAlchemy<3,>=1.4 in /Users/suyashgupte/Documents/GitHub/opex-apis/opex/lib/python3.11/site-packages (from langchain) (2.0.35)\n",
            "Requirement already satisfied: requests<3,>=2 in /Users/suyashgupte/Documents/GitHub/opex-apis/opex/lib/python3.11/site-packages (from langchain) (2.32.2)\n",
            "Requirement already satisfied: PyYAML>=5.3 in /Users/suyashgupte/Documents/GitHub/opex-apis/opex/lib/python3.11/site-packages (from langchain) (6.0.2)\n",
            "Requirement already satisfied: aiohttp<4.0.0,>=3.8.3 in /Users/suyashgupte/Documents/GitHub/opex-apis/opex/lib/python3.11/site-packages (from langchain) (3.10.9)\n",
            "Requirement already satisfied: tenacity!=8.4.0,<10,>=8.1.0 in /Users/suyashgupte/Documents/GitHub/opex-apis/opex/lib/python3.11/site-packages (from langchain) (8.5.0)\n",
            "Requirement already satisfied: numpy<2,>=1.26.4 in /Users/suyashgupte/Documents/GitHub/opex-apis/opex/lib/python3.11/site-packages (from langchain) (1.26.4)\n",
            "Requirement already satisfied: aiohappyeyeballs>=2.3.0 in /Users/suyashgupte/Documents/GitHub/opex-apis/opex/lib/python3.11/site-packages (from aiohttp<4.0.0,>=3.8.3->langchain) (2.4.3)\n",
            "Requirement already satisfied: aiosignal>=1.1.2 in /Users/suyashgupte/Documents/GitHub/opex-apis/opex/lib/python3.11/site-packages (from aiohttp<4.0.0,>=3.8.3->langchain) (1.3.1)\n",
            "Requirement already satisfied: attrs>=17.3.0 in /Users/suyashgupte/Documents/GitHub/opex-apis/opex/lib/python3.11/site-packages (from aiohttp<4.0.0,>=3.8.3->langchain) (24.2.0)\n",
            "Requirement already satisfied: frozenlist>=1.1.1 in /Users/suyashgupte/Documents/GitHub/opex-apis/opex/lib/python3.11/site-packages (from aiohttp<4.0.0,>=3.8.3->langchain) (1.4.1)\n",
            "Requirement already satisfied: multidict<7.0,>=4.5 in /Users/suyashgupte/Documents/GitHub/opex-apis/opex/lib/python3.11/site-packages (from aiohttp<4.0.0,>=3.8.3->langchain) (6.1.0)\n",
            "Requirement already satisfied: yarl<2.0,>=1.12.0 in /Users/suyashgupte/Documents/GitHub/opex-apis/opex/lib/python3.11/site-packages (from aiohttp<4.0.0,>=3.8.3->langchain) (1.14.0)\n",
            "Requirement already satisfied: jsonpatch<2.0,>=1.33 in /Users/suyashgupte/Documents/GitHub/opex-apis/opex/lib/python3.11/site-packages (from langchain-core<1.0.0,>=0.3.34->langchain) (1.33)\n",
            "Requirement already satisfied: packaging<25,>=23.2 in /Users/suyashgupte/Documents/GitHub/opex-apis/opex/lib/python3.11/site-packages (from langchain-core<1.0.0,>=0.3.34->langchain) (24.1)\n",
            "Requirement already satisfied: typing-extensions>=4.7 in /Users/suyashgupte/Documents/GitHub/opex-apis/opex/lib/python3.11/site-packages (from langchain-core<1.0.0,>=0.3.34->langchain) (4.12.2)\n",
            "Requirement already satisfied: httpx<1,>=0.23.0 in /Users/suyashgupte/Documents/GitHub/opex-apis/opex/lib/python3.11/site-packages (from langsmith<0.4,>=0.1.17->langchain) (0.27.2)\n",
            "Requirement already satisfied: orjson<4.0.0,>=3.9.14 in /Users/suyashgupte/Documents/GitHub/opex-apis/opex/lib/python3.11/site-packages (from langsmith<0.4,>=0.1.17->langchain) (3.10.7)\n",
            "Requirement already satisfied: requests-toolbelt<2.0.0,>=1.0.0 in /Users/suyashgupte/Documents/GitHub/opex-apis/opex/lib/python3.11/site-packages (from langsmith<0.4,>=0.1.17->langchain) (1.0.0)\n",
            "Requirement already satisfied: annotated-types>=0.6.0 in /Users/suyashgupte/Documents/GitHub/opex-apis/opex/lib/python3.11/site-packages (from pydantic<3.0.0,>=2.7.4->langchain) (0.7.0)\n",
            "Requirement already satisfied: pydantic-core==2.23.4 in /Users/suyashgupte/Documents/GitHub/opex-apis/opex/lib/python3.11/site-packages (from pydantic<3.0.0,>=2.7.4->langchain) (2.23.4)\n",
            "Requirement already satisfied: charset-normalizer<4,>=2 in /Users/suyashgupte/Documents/GitHub/opex-apis/opex/lib/python3.11/site-packages (from requests<3,>=2->langchain) (3.4.0)\n",
            "Requirement already satisfied: idna<4,>=2.5 in /Users/suyashgupte/Documents/GitHub/opex-apis/opex/lib/python3.11/site-packages (from requests<3,>=2->langchain) (3.10)\n",
            "Requirement already satisfied: urllib3<3,>=1.21.1 in /Users/suyashgupte/Documents/GitHub/opex-apis/opex/lib/python3.11/site-packages (from requests<3,>=2->langchain) (2.2.3)\n",
            "Requirement already satisfied: certifi>=2017.4.17 in /Users/suyashgupte/Documents/GitHub/opex-apis/opex/lib/python3.11/site-packages (from requests<3,>=2->langchain) (2024.8.30)\n",
            "Requirement already satisfied: anyio in /Users/suyashgupte/Documents/GitHub/opex-apis/opex/lib/python3.11/site-packages (from httpx<1,>=0.23.0->langsmith<0.4,>=0.1.17->langchain) (4.6.0)\n",
            "Requirement already satisfied: httpcore==1.* in /Users/suyashgupte/Documents/GitHub/opex-apis/opex/lib/python3.11/site-packages (from httpx<1,>=0.23.0->langsmith<0.4,>=0.1.17->langchain) (1.0.6)\n",
            "Requirement already satisfied: sniffio in /Users/suyashgupte/Documents/GitHub/opex-apis/opex/lib/python3.11/site-packages (from httpx<1,>=0.23.0->langsmith<0.4,>=0.1.17->langchain) (1.3.1)\n",
            "Requirement already satisfied: h11<0.15,>=0.13 in /Users/suyashgupte/Documents/GitHub/opex-apis/opex/lib/python3.11/site-packages (from httpcore==1.*->httpx<1,>=0.23.0->langsmith<0.4,>=0.1.17->langchain) (0.14.0)\n",
            "Requirement already satisfied: jsonpointer>=1.9 in /Users/suyashgupte/Documents/GitHub/opex-apis/opex/lib/python3.11/site-packages (from jsonpatch<2.0,>=1.33->langchain-core<1.0.0,>=0.3.34->langchain) (3.0.0)\n",
            "Requirement already satisfied: propcache>=0.2.0 in /Users/suyashgupte/Documents/GitHub/opex-apis/opex/lib/python3.11/site-packages (from yarl<2.0,>=1.12.0->aiohttp<4.0.0,>=3.8.3->langchain) (0.2.0)\n",
            "\n",
            "\u001b[1m[\u001b[0m\u001b[34;49mnotice\u001b[0m\u001b[1;39;49m]\u001b[0m\u001b[39;49m A new release of pip is available: \u001b[0m\u001b[31;49m24.0\u001b[0m\u001b[39;49m -> \u001b[0m\u001b[32;49m25.0.1\u001b[0m\n",
            "\u001b[1m[\u001b[0m\u001b[34;49mnotice\u001b[0m\u001b[1;39;49m]\u001b[0m\u001b[39;49m To update, run: \u001b[0m\u001b[32;49mpip install --upgrade pip\u001b[0m\n",
            "Requirement already satisfied: chromadb in /Users/suyashgupte/Documents/GitHub/opex-apis/opex/lib/python3.11/site-packages (0.6.3)\n",
            "Requirement already satisfied: build>=1.0.3 in /Users/suyashgupte/Documents/GitHub/opex-apis/opex/lib/python3.11/site-packages (from chromadb) (1.2.2.post1)\n",
            "Requirement already satisfied: pydantic>=1.9 in /Users/suyashgupte/Documents/GitHub/opex-apis/opex/lib/python3.11/site-packages (from chromadb) (2.9.2)\n",
            "Requirement already satisfied: chroma-hnswlib==0.7.6 in /Users/suyashgupte/Documents/GitHub/opex-apis/opex/lib/python3.11/site-packages (from chromadb) (0.7.6)\n",
            "Requirement already satisfied: fastapi>=0.95.2 in /Users/suyashgupte/Documents/GitHub/opex-apis/opex/lib/python3.11/site-packages (from chromadb) (0.115.0)\n",
            "Requirement already satisfied: uvicorn>=0.18.3 in /Users/suyashgupte/Documents/GitHub/opex-apis/opex/lib/python3.11/site-packages (from uvicorn[standard]>=0.18.3->chromadb) (0.31.1)\n",
            "Requirement already satisfied: numpy>=1.22.5 in /Users/suyashgupte/Documents/GitHub/opex-apis/opex/lib/python3.11/site-packages (from chromadb) (1.26.4)\n",
            "Requirement already satisfied: posthog>=2.4.0 in /Users/suyashgupte/Documents/GitHub/opex-apis/opex/lib/python3.11/site-packages (from chromadb) (3.13.0)\n",
            "Requirement already satisfied: typing_extensions>=4.5.0 in /Users/suyashgupte/Documents/GitHub/opex-apis/opex/lib/python3.11/site-packages (from chromadb) (4.12.2)\n",
            "Requirement already satisfied: onnxruntime>=1.14.1 in /Users/suyashgupte/Documents/GitHub/opex-apis/opex/lib/python3.11/site-packages (from chromadb) (1.20.1)\n",
            "Requirement already satisfied: opentelemetry-api>=1.2.0 in /Users/suyashgupte/Documents/GitHub/opex-apis/opex/lib/python3.11/site-packages (from chromadb) (1.30.0)\n",
            "Requirement already satisfied: opentelemetry-exporter-otlp-proto-grpc>=1.2.0 in /Users/suyashgupte/Documents/GitHub/opex-apis/opex/lib/python3.11/site-packages (from chromadb) (1.30.0)\n",
            "Requirement already satisfied: opentelemetry-instrumentation-fastapi>=0.41b0 in /Users/suyashgupte/Documents/GitHub/opex-apis/opex/lib/python3.11/site-packages (from chromadb) (0.51b0)\n",
            "Requirement already satisfied: opentelemetry-sdk>=1.2.0 in /Users/suyashgupte/Documents/GitHub/opex-apis/opex/lib/python3.11/site-packages (from chromadb) (1.30.0)\n",
            "Requirement already satisfied: tokenizers>=0.13.2 in /Users/suyashgupte/Documents/GitHub/opex-apis/opex/lib/python3.11/site-packages (from chromadb) (0.21.0)\n",
            "Requirement already satisfied: pypika>=0.48.9 in /Users/suyashgupte/Documents/GitHub/opex-apis/opex/lib/python3.11/site-packages (from chromadb) (0.48.9)\n",
            "Requirement already satisfied: tqdm>=4.65.0 in /Users/suyashgupte/Documents/GitHub/opex-apis/opex/lib/python3.11/site-packages (from chromadb) (4.67.1)\n",
            "Requirement already satisfied: overrides>=7.3.1 in /Users/suyashgupte/Documents/GitHub/opex-apis/opex/lib/python3.11/site-packages (from chromadb) (7.7.0)\n",
            "Requirement already satisfied: importlib-resources in /Users/suyashgupte/Documents/GitHub/opex-apis/opex/lib/python3.11/site-packages (from chromadb) (6.5.2)\n",
            "Requirement already satisfied: grpcio>=1.58.0 in /Users/suyashgupte/Documents/GitHub/opex-apis/opex/lib/python3.11/site-packages (from chromadb) (1.70.0)\n",
            "Requirement already satisfied: bcrypt>=4.0.1 in /Users/suyashgupte/Documents/GitHub/opex-apis/opex/lib/python3.11/site-packages (from chromadb) (4.2.1)\n",
            "Requirement already satisfied: typer>=0.9.0 in /Users/suyashgupte/Documents/GitHub/opex-apis/opex/lib/python3.11/site-packages (from chromadb) (0.15.1)\n",
            "Requirement already satisfied: kubernetes>=28.1.0 in /Users/suyashgupte/Documents/GitHub/opex-apis/opex/lib/python3.11/site-packages (from chromadb) (32.0.0)\n",
            "Requirement already satisfied: tenacity>=8.2.3 in /Users/suyashgupte/Documents/GitHub/opex-apis/opex/lib/python3.11/site-packages (from chromadb) (8.5.0)\n",
            "Requirement already satisfied: PyYAML>=6.0.0 in /Users/suyashgupte/Documents/GitHub/opex-apis/opex/lib/python3.11/site-packages (from chromadb) (6.0.2)\n",
            "Requirement already satisfied: mmh3>=4.0.1 in /Users/suyashgupte/Documents/GitHub/opex-apis/opex/lib/python3.11/site-packages (from chromadb) (5.1.0)\n",
            "Requirement already satisfied: orjson>=3.9.12 in /Users/suyashgupte/Documents/GitHub/opex-apis/opex/lib/python3.11/site-packages (from chromadb) (3.10.7)\n",
            "Requirement already satisfied: httpx>=0.27.0 in /Users/suyashgupte/Documents/GitHub/opex-apis/opex/lib/python3.11/site-packages (from chromadb) (0.27.2)\n",
            "Requirement already satisfied: rich>=10.11.0 in /Users/suyashgupte/Documents/GitHub/opex-apis/opex/lib/python3.11/site-packages (from chromadb) (13.9.4)\n",
            "Requirement already satisfied: packaging>=19.1 in /Users/suyashgupte/Documents/GitHub/opex-apis/opex/lib/python3.11/site-packages (from build>=1.0.3->chromadb) (24.1)\n",
            "Requirement already satisfied: pyproject_hooks in /Users/suyashgupte/Documents/GitHub/opex-apis/opex/lib/python3.11/site-packages (from build>=1.0.3->chromadb) (1.2.0)\n",
            "Requirement already satisfied: starlette<0.39.0,>=0.37.2 in /Users/suyashgupte/Documents/GitHub/opex-apis/opex/lib/python3.11/site-packages (from fastapi>=0.95.2->chromadb) (0.38.6)\n",
            "Requirement already satisfied: anyio in /Users/suyashgupte/Documents/GitHub/opex-apis/opex/lib/python3.11/site-packages (from httpx>=0.27.0->chromadb) (4.6.0)\n",
            "Requirement already satisfied: certifi in /Users/suyashgupte/Documents/GitHub/opex-apis/opex/lib/python3.11/site-packages (from httpx>=0.27.0->chromadb) (2024.8.30)\n",
            "Requirement already satisfied: httpcore==1.* in /Users/suyashgupte/Documents/GitHub/opex-apis/opex/lib/python3.11/site-packages (from httpx>=0.27.0->chromadb) (1.0.6)\n",
            "Requirement already satisfied: idna in /Users/suyashgupte/Documents/GitHub/opex-apis/opex/lib/python3.11/site-packages (from httpx>=0.27.0->chromadb) (3.10)\n",
            "Requirement already satisfied: sniffio in /Users/suyashgupte/Documents/GitHub/opex-apis/opex/lib/python3.11/site-packages (from httpx>=0.27.0->chromadb) (1.3.1)\n",
            "Requirement already satisfied: h11<0.15,>=0.13 in /Users/suyashgupte/Documents/GitHub/opex-apis/opex/lib/python3.11/site-packages (from httpcore==1.*->httpx>=0.27.0->chromadb) (0.14.0)\n",
            "Requirement already satisfied: six>=1.9.0 in /Users/suyashgupte/Documents/GitHub/opex-apis/opex/lib/python3.11/site-packages (from kubernetes>=28.1.0->chromadb) (1.16.0)\n",
            "Requirement already satisfied: python-dateutil>=2.5.3 in /Users/suyashgupte/Documents/GitHub/opex-apis/opex/lib/python3.11/site-packages (from kubernetes>=28.1.0->chromadb) (2.9.0.post0)\n",
            "Requirement already satisfied: google-auth>=1.0.1 in /Users/suyashgupte/Documents/GitHub/opex-apis/opex/lib/python3.11/site-packages (from kubernetes>=28.1.0->chromadb) (2.38.0)\n",
            "Requirement already satisfied: websocket-client!=0.40.0,!=0.41.*,!=0.42.*,>=0.32.0 in /Users/suyashgupte/Documents/GitHub/opex-apis/opex/lib/python3.11/site-packages (from kubernetes>=28.1.0->chromadb) (1.8.0)\n",
            "Requirement already satisfied: requests in /Users/suyashgupte/Documents/GitHub/opex-apis/opex/lib/python3.11/site-packages (from kubernetes>=28.1.0->chromadb) (2.32.2)\n",
            "Requirement already satisfied: requests-oauthlib in /Users/suyashgupte/Documents/GitHub/opex-apis/opex/lib/python3.11/site-packages (from kubernetes>=28.1.0->chromadb) (2.0.0)\n",
            "Requirement already satisfied: oauthlib>=3.2.2 in /Users/suyashgupte/Documents/GitHub/opex-apis/opex/lib/python3.11/site-packages (from kubernetes>=28.1.0->chromadb) (3.2.2)\n",
            "Requirement already satisfied: urllib3>=1.24.2 in /Users/suyashgupte/Documents/GitHub/opex-apis/opex/lib/python3.11/site-packages (from kubernetes>=28.1.0->chromadb) (2.2.3)\n",
            "Requirement already satisfied: durationpy>=0.7 in /Users/suyashgupte/Documents/GitHub/opex-apis/opex/lib/python3.11/site-packages (from kubernetes>=28.1.0->chromadb) (0.9)\n",
            "Requirement already satisfied: coloredlogs in /Users/suyashgupte/Documents/GitHub/opex-apis/opex/lib/python3.11/site-packages (from onnxruntime>=1.14.1->chromadb) (15.0.1)\n",
            "Requirement already satisfied: flatbuffers in /Users/suyashgupte/Documents/GitHub/opex-apis/opex/lib/python3.11/site-packages (from onnxruntime>=1.14.1->chromadb) (25.2.10)\n",
            "Requirement already satisfied: protobuf in /Users/suyashgupte/Documents/GitHub/opex-apis/opex/lib/python3.11/site-packages (from onnxruntime>=1.14.1->chromadb) (5.29.3)\n",
            "Requirement already satisfied: sympy in /Users/suyashgupte/Documents/GitHub/opex-apis/opex/lib/python3.11/site-packages (from onnxruntime>=1.14.1->chromadb) (1.13.1)\n",
            "Requirement already satisfied: deprecated>=1.2.6 in /Users/suyashgupte/Documents/GitHub/opex-apis/opex/lib/python3.11/site-packages (from opentelemetry-api>=1.2.0->chromadb) (1.2.18)\n",
            "Requirement already satisfied: importlib-metadata<=8.5.0,>=6.0 in /Users/suyashgupte/Documents/GitHub/opex-apis/opex/lib/python3.11/site-packages (from opentelemetry-api>=1.2.0->chromadb) (8.5.0)\n",
            "Requirement already satisfied: googleapis-common-protos~=1.52 in /Users/suyashgupte/Documents/GitHub/opex-apis/opex/lib/python3.11/site-packages (from opentelemetry-exporter-otlp-proto-grpc>=1.2.0->chromadb) (1.66.0)\n",
            "Requirement already satisfied: opentelemetry-exporter-otlp-proto-common==1.30.0 in /Users/suyashgupte/Documents/GitHub/opex-apis/opex/lib/python3.11/site-packages (from opentelemetry-exporter-otlp-proto-grpc>=1.2.0->chromadb) (1.30.0)\n",
            "Requirement already satisfied: opentelemetry-proto==1.30.0 in /Users/suyashgupte/Documents/GitHub/opex-apis/opex/lib/python3.11/site-packages (from opentelemetry-exporter-otlp-proto-grpc>=1.2.0->chromadb) (1.30.0)\n",
            "Requirement already satisfied: opentelemetry-instrumentation-asgi==0.51b0 in /Users/suyashgupte/Documents/GitHub/opex-apis/opex/lib/python3.11/site-packages (from opentelemetry-instrumentation-fastapi>=0.41b0->chromadb) (0.51b0)\n",
            "Requirement already satisfied: opentelemetry-instrumentation==0.51b0 in /Users/suyashgupte/Documents/GitHub/opex-apis/opex/lib/python3.11/site-packages (from opentelemetry-instrumentation-fastapi>=0.41b0->chromadb) (0.51b0)\n",
            "Requirement already satisfied: opentelemetry-semantic-conventions==0.51b0 in /Users/suyashgupte/Documents/GitHub/opex-apis/opex/lib/python3.11/site-packages (from opentelemetry-instrumentation-fastapi>=0.41b0->chromadb) (0.51b0)\n",
            "Requirement already satisfied: opentelemetry-util-http==0.51b0 in /Users/suyashgupte/Documents/GitHub/opex-apis/opex/lib/python3.11/site-packages (from opentelemetry-instrumentation-fastapi>=0.41b0->chromadb) (0.51b0)\n",
            "Requirement already satisfied: wrapt<2.0.0,>=1.0.0 in /Users/suyashgupte/Documents/GitHub/opex-apis/opex/lib/python3.11/site-packages (from opentelemetry-instrumentation==0.51b0->opentelemetry-instrumentation-fastapi>=0.41b0->chromadb) (1.17.2)\n",
            "Requirement already satisfied: asgiref~=3.0 in /Users/suyashgupte/Documents/GitHub/opex-apis/opex/lib/python3.11/site-packages (from opentelemetry-instrumentation-asgi==0.51b0->opentelemetry-instrumentation-fastapi>=0.41b0->chromadb) (3.8.1)\n",
            "Requirement already satisfied: monotonic>=1.5 in /Users/suyashgupte/Documents/GitHub/opex-apis/opex/lib/python3.11/site-packages (from posthog>=2.4.0->chromadb) (1.6)\n",
            "Requirement already satisfied: backoff>=1.10.0 in /Users/suyashgupte/Documents/GitHub/opex-apis/opex/lib/python3.11/site-packages (from posthog>=2.4.0->chromadb) (2.2.1)\n",
            "Requirement already satisfied: annotated-types>=0.6.0 in /Users/suyashgupte/Documents/GitHub/opex-apis/opex/lib/python3.11/site-packages (from pydantic>=1.9->chromadb) (0.7.0)\n",
            "Requirement already satisfied: pydantic-core==2.23.4 in /Users/suyashgupte/Documents/GitHub/opex-apis/opex/lib/python3.11/site-packages (from pydantic>=1.9->chromadb) (2.23.4)\n",
            "Requirement already satisfied: markdown-it-py>=2.2.0 in /Users/suyashgupte/Documents/GitHub/opex-apis/opex/lib/python3.11/site-packages (from rich>=10.11.0->chromadb) (3.0.0)\n",
            "Requirement already satisfied: pygments<3.0.0,>=2.13.0 in /Users/suyashgupte/Documents/GitHub/opex-apis/opex/lib/python3.11/site-packages (from rich>=10.11.0->chromadb) (2.19.1)\n",
            "Requirement already satisfied: huggingface-hub<1.0,>=0.16.4 in /Users/suyashgupte/Documents/GitHub/opex-apis/opex/lib/python3.11/site-packages (from tokenizers>=0.13.2->chromadb) (0.28.1)\n",
            "Requirement already satisfied: click>=8.0.0 in /Users/suyashgupte/Documents/GitHub/opex-apis/opex/lib/python3.11/site-packages (from typer>=0.9.0->chromadb) (8.1.7)\n",
            "Requirement already satisfied: shellingham>=1.3.0 in /Users/suyashgupte/Documents/GitHub/opex-apis/opex/lib/python3.11/site-packages (from typer>=0.9.0->chromadb) (1.5.4)\n",
            "Requirement already satisfied: httptools>=0.5.0 in /Users/suyashgupte/Documents/GitHub/opex-apis/opex/lib/python3.11/site-packages (from uvicorn[standard]>=0.18.3->chromadb) (0.6.1)\n",
            "Requirement already satisfied: python-dotenv>=0.13 in /Users/suyashgupte/Documents/GitHub/opex-apis/opex/lib/python3.11/site-packages (from uvicorn[standard]>=0.18.3->chromadb) (1.0.1)\n",
            "Requirement already satisfied: uvloop!=0.15.0,!=0.15.1,>=0.14.0 in /Users/suyashgupte/Documents/GitHub/opex-apis/opex/lib/python3.11/site-packages (from uvicorn[standard]>=0.18.3->chromadb) (0.20.0)\n",
            "Requirement already satisfied: watchfiles>=0.13 in /Users/suyashgupte/Documents/GitHub/opex-apis/opex/lib/python3.11/site-packages (from uvicorn[standard]>=0.18.3->chromadb) (0.24.0)\n",
            "Requirement already satisfied: websockets>=10.4 in /Users/suyashgupte/Documents/GitHub/opex-apis/opex/lib/python3.11/site-packages (from uvicorn[standard]>=0.18.3->chromadb) (13.1)\n",
            "Requirement already satisfied: cachetools<6.0,>=2.0.0 in /Users/suyashgupte/Documents/GitHub/opex-apis/opex/lib/python3.11/site-packages (from google-auth>=1.0.1->kubernetes>=28.1.0->chromadb) (5.5.1)\n",
            "Requirement already satisfied: pyasn1-modules>=0.2.1 in /Users/suyashgupte/Documents/GitHub/opex-apis/opex/lib/python3.11/site-packages (from google-auth>=1.0.1->kubernetes>=28.1.0->chromadb) (0.4.1)\n",
            "Requirement already satisfied: rsa<5,>=3.1.4 in /Users/suyashgupte/Documents/GitHub/opex-apis/opex/lib/python3.11/site-packages (from google-auth>=1.0.1->kubernetes>=28.1.0->chromadb) (4.9)\n",
            "Requirement already satisfied: filelock in /Users/suyashgupte/Documents/GitHub/opex-apis/opex/lib/python3.11/site-packages (from huggingface-hub<1.0,>=0.16.4->tokenizers>=0.13.2->chromadb) (3.17.0)\n",
            "Requirement already satisfied: fsspec>=2023.5.0 in /Users/suyashgupte/Documents/GitHub/opex-apis/opex/lib/python3.11/site-packages (from huggingface-hub<1.0,>=0.16.4->tokenizers>=0.13.2->chromadb) (2025.2.0)\n",
            "Requirement already satisfied: zipp>=3.20 in /Users/suyashgupte/Documents/GitHub/opex-apis/opex/lib/python3.11/site-packages (from importlib-metadata<=8.5.0,>=6.0->opentelemetry-api>=1.2.0->chromadb) (3.20.2)\n",
            "Requirement already satisfied: mdurl~=0.1 in /Users/suyashgupte/Documents/GitHub/opex-apis/opex/lib/python3.11/site-packages (from markdown-it-py>=2.2.0->rich>=10.11.0->chromadb) (0.1.2)\n",
            "Requirement already satisfied: charset-normalizer<4,>=2 in /Users/suyashgupte/Documents/GitHub/opex-apis/opex/lib/python3.11/site-packages (from requests->kubernetes>=28.1.0->chromadb) (3.4.0)\n",
            "Requirement already satisfied: humanfriendly>=9.1 in /Users/suyashgupte/Documents/GitHub/opex-apis/opex/lib/python3.11/site-packages (from coloredlogs->onnxruntime>=1.14.1->chromadb) (10.0)\n",
            "Requirement already satisfied: mpmath<1.4,>=1.1.0 in /Users/suyashgupte/Documents/GitHub/opex-apis/opex/lib/python3.11/site-packages (from sympy->onnxruntime>=1.14.1->chromadb) (1.3.0)\n",
            "Requirement already satisfied: pyasn1<0.7.0,>=0.4.6 in /Users/suyashgupte/Documents/GitHub/opex-apis/opex/lib/python3.11/site-packages (from pyasn1-modules>=0.2.1->google-auth>=1.0.1->kubernetes>=28.1.0->chromadb) (0.6.1)\n",
            "\n",
            "\u001b[1m[\u001b[0m\u001b[34;49mnotice\u001b[0m\u001b[1;39;49m]\u001b[0m\u001b[39;49m A new release of pip is available: \u001b[0m\u001b[31;49m24.0\u001b[0m\u001b[39;49m -> \u001b[0m\u001b[32;49m25.0.1\u001b[0m\n",
            "\u001b[1m[\u001b[0m\u001b[34;49mnotice\u001b[0m\u001b[1;39;49m]\u001b[0m\u001b[39;49m To update, run: \u001b[0m\u001b[32;49mpip install --upgrade pip\u001b[0m\n"
          ]
        }
      ],
      "source": [
        "!pip3 install pypdf\n",
        "!pip3 install langchain-openai\n",
        "!pip3 install langchain\n",
        "!pip3 install chromadb"
      ]
    },
    {
      "cell_type": "code",
      "execution_count": 2,
      "metadata": {
        "colab": {
          "base_uri": "https://localhost:8080/"
        },
        "id": "Y6Oj2l1RndpA",
        "outputId": "b18b32be-3752-4f31-8b1d-0435511bdc86"
      },
      "outputs": [
        {
          "name": "stdout",
          "output_type": "stream",
          "text": [
            "MANAGEMENT DISCUSSION SNAPSHOT\n",
            "($ and shares in millions except per share amounts)\n",
            "For year ended December 31: 2023 2022 (1)\n",
            "Yr.-to-Yr. \n",
            "Percent/Margin \n",
            "Change\n",
            "Revenue (2) $ 61,860 $ 60,530  2.2 % \n",
            "Gross profit margin  55.4 %  54.0 %  1.4 pts. \n",
            "Total expense and other (income) $ 25,610 $ 31,531  (18.8) %    \n",
            "Income from continuing operations before income taxes $ 8,690 $ 1,156  NM \n",
            "Provision for/(benefit from) income taxes from continuing operations $ 1,176 $ (626)  NM \n",
            "Income from continuing operations $ 7,514 $ 1,783  NM  \n",
            "Income from continuing operations margin  12.1 %  2.9 %  9.2 pts. \n",
            "Loss from discontinued operations, net of tax $ (12) $ (143)  (91.8) %    \n",
            "Net income $ 7,502 $ 1,639  NM \n",
            "Earnings per share from continuing operations–assuming dilution $ 8.15 $ 1.95  NM \n",
            "Consolidated earnings per share–assuming dilution $ 8.14 $ 1.80  NM \n",
            "Weighted-average shares outstanding–assuming dilution  922.1  912.3  1.1 % \n",
            "Assets (3)\n",
            "$ 135,241 $ 127,243  6.3 %    \n",
            "Liabilities (3)\n",
            "$ 112,628 $ 105,222  7.0 %    \n",
            "Equity (3)\n",
            "$ 22,613 $ 22,021  2.7 %    \n",
            "(1) Includes a one-time, non-cash, pre-tax pension settlement charge of $5.9 billion ($4.4 billion net of tax) resulting in an impact of ($4.84) to diluted \n",
            "earnings per share from continuing operations and an impact of ($4.83) to consolidated diluted earnings per share. Refer to note V, “Retirement-\n",
            "Related Benefits,” for additional information.\n",
            "(2) Year-to-year revenue growth of 2.9 percent adjusted for currency.\n",
            "(3) At December 31.\n",
            "NM–Not meaningful\n",
            "The following table provides the company’s operating (non-GAAP) earnings for 2023 and 2022. Refer to page 28  for additional \n",
            "information.\n",
            "($ in millions except per share amounts)\n",
            "For year ended December 31: 2023  2022\n",
            "Yr.-to-Yr.\n",
            "Percent Change\n",
            "Net income as reported (1) $ 7,502 $ 1,639  NM \n",
            "Loss from discontinued operations, net of tax  (12)  (143)  (91.8) %    \n",
            "Income from continuing operations (1) $ 7,514 $ 1,783  NM \n",
            "Non-operating adjustments (net of tax)\n",
            "Acquisition-related charges  1,292  1,329  (2.8) %    \n",
            "Non-operating retirement-related costs/(income) (1)  (30)  4,933  NM \n",
            "U.S. tax reform impacts  95  (70)  NM \n",
            "Kyndryl-related impacts  —  351  (100.0) %    \n",
            "Operating (non-GAAP) earnings $ 8,870 $ 8,326  6.5 % \n",
            "Diluted operating (non-GAAP) earnings per share $ 9.62 $ 9.13  5.4 % \n",
            "(1) 2022 includes a one-time, non-cash pension settlement charge of $4.4 billion net of tax.\n",
            "NM–Not meaningful\n",
            "8 Management Discussion\n",
            "International Business Machines Corporation and Subsidiary Companies\n"
          ]
        }
      ],
      "source": [
        " # Import PdfReader from pypdf to read PDF files\n",
        "from pypdf import PdfReader\n",
        "\n",
        "# Load the PDF file\n",
        "reader = PdfReader(\"IBM_Annual_Report_2023.pdf\")\n",
        "\n",
        "# Extract text from each page and strip any leading/trailing spaces\n",
        "pdf_texts = [p.extract_text().strip() for p in reader.pages]\n",
        "\n",
        "# Filter out empty strings to remove blank pages or pages with no extractable text\n",
        "pdf_texts = [text for text in pdf_texts if text]\n",
        "\n",
        "# Print the text of the 9th page (index 8)\n",
        "print(pdf_texts[8])\n",
        "\n"
      ]
    },
    {
      "cell_type": "code",
      "execution_count": 3,
      "metadata": {
        "id": "Y5xJmPszoy9Z"
      },
      "outputs": [],
      "source": [
        "from langchain.text_splitter import RecursiveCharacterTextSplitter\n"
      ]
    },
    {
      "cell_type": "code",
      "execution_count": 4,
      "metadata": {
        "colab": {
          "base_uri": "https://localhost:8080/"
        },
        "id": "TnrLJlEspCXl",
        "outputId": "dce90da1-ef96-4715-a32b-b34331092a4d"
      },
      "outputs": [
        {
          "name": "stdout",
          "output_type": "stream",
          "text": [
            "of several critical technologies, including AI, quantum \n",
            "computing, and semiconductors. \n",
            "In AI, we demonstrated our ability to quickly transform \n",
            "research into commercial applications. We launched the \n",
            "watsonx AI and data platform, introduced the groundbreaking \n",
            "Granite AI foundational model, and developed new AI-\n",
            "optimized hardware. \n",
            "We have IBM Quantum System One engagements with several \n",
            "leading organizations, including Cleveland Clinic, the Platform \n",
            "for Digital and Quantum Innovation of Quebec, Rensselaer \n",
            "Polytechnic Institute, and the University of Tokyo. We also \n",
            "IBM 2023 Annual Report 3\n",
            "\n",
            "Total chunks: 557\n"
          ]
        }
      ],
      "source": [
        "# Import RecursiveCharacterTextSplitter for text chunking\n",
        "from langchain.text_splitter import RecursiveCharacterTextSplitter\n",
        "\n",
        "# Initialize the text splitter with custom separators and chunk size\n",
        "character_splitter = RecursiveCharacterTextSplitter(\n",
        "    separators=[\"\\n\\n\", \"\\n\", \". \", \" \", \"\"],  # Define separators for splitting text (paragraphs, new lines, sentences, words, and characters)\n",
        "    chunk_size=1000,  # Set the maximum size of each chunk\n",
        "    chunk_overlap=0    # Set the overlap between chunks (0 means no overlap)\n",
        ")\n",
        "\n",
        "# Join all extracted PDF text with double newlines and split it into smaller chunks\n",
        "character_split_texts = character_splitter.split_text('\\n\\n'.join(pdf_texts))\n",
        "\n",
        "# Print the 11th chunk (index 10) of the split text\n",
        "print(character_split_texts[10])\n",
        "\n",
        "# Print the total number of chunks created after splitting\n",
        "print(f\"\\nTotal chunks: {len(character_split_texts)}\")\n"
      ]
    },
    {
      "cell_type": "code",
      "execution_count": 5,
      "metadata": {
        "colab": {
          "base_uri": "https://localhost:8080/"
        },
        "id": "Rl2sSXdmqEf8",
        "outputId": "e2267d03-af1f-4c93-c639-e5ff1b427fb5"
      },
      "outputs": [
        {
          "name": "stderr",
          "output_type": "stream",
          "text": [
            "/Users/suyashgupte/Documents/GitHub/opex-apis/opex/lib/python3.11/site-packages/tqdm/auto.py:21: TqdmWarning: IProgress not found. Please update jupyter and ipywidgets. See https://ipywidgets.readthedocs.io/en/stable/user_install.html\n",
            "  from .autonotebook import tqdm as notebook_tqdm\n"
          ]
        },
        {
          "name": "stdout",
          "output_type": "stream",
          "text": [
            "[array([-7.89173990e-02, -4.01439816e-02, -5.06751938e-03, -4.50713672e-02,\n",
            "       -6.05559945e-02, -5.35961054e-02, -6.19608238e-02,  1.74064599e-02,\n",
            "       -2.08196677e-02,  3.05104759e-02, -7.06966594e-02, -3.19342948e-02,\n",
            "        3.21453847e-02,  3.13325301e-02,  6.07728492e-03,  6.91314936e-02,\n",
            "        6.26401007e-02, -7.42840096e-02,  4.58352687e-03, -9.77577865e-02,\n",
            "       -6.77745440e-04, -1.10710936e-03,  1.70304421e-02, -4.96980734e-02,\n",
            "        9.25213471e-03,  1.00498505e-01,  1.35068800e-02, -7.54344612e-02,\n",
            "        1.82290673e-02, -2.45860573e-02,  1.96209382e-02,  1.38088688e-03,\n",
            "        4.37018368e-03, -1.90817062e-02, -1.90199669e-02,  1.43828755e-02,\n",
            "        3.03840302e-02, -9.09088776e-02,  3.65068540e-02, -5.74920848e-02,\n",
            "       -2.15360653e-02, -2.52513383e-02, -7.55398050e-02,  5.72257340e-02,\n",
            "        7.91857690e-02,  8.05481970e-02,  6.50972314e-03, -2.11736653e-02,\n",
            "        4.14696485e-02, -7.92839900e-02, -7.32430816e-02, -7.28527457e-02,\n",
            "        5.41954562e-02, -6.66983565e-03, -4.31714859e-03,  5.86759709e-02,\n",
            "        3.38280834e-02, -5.50835468e-02, -1.87582206e-02, -4.18761410e-02,\n",
            "        2.04415321e-02, -5.94084188e-02,  5.11212535e-02,  6.88791424e-02,\n",
            "        8.76252130e-02,  7.06256479e-02, -8.68965238e-02,  4.36848868e-03,\n",
            "        1.45138260e-02, -4.57028374e-02,  7.91325513e-03,  6.15195138e-04,\n",
            "       -6.67265058e-02,  3.15488987e-02, -3.40171414e-03, -1.21871941e-02,\n",
            "        4.04602922e-02,  9.30599123e-03,  6.97289407e-02, -5.02305254e-02,\n",
            "       -1.02058206e-04, -8.69071558e-02,  2.42357142e-02,  9.13538113e-02,\n",
            "        7.45334243e-03,  2.91778315e-02, -8.73517841e-02,  2.99792849e-02,\n",
            "       -6.68861903e-03, -9.92025509e-02,  2.70686559e-02, -5.68015724e-02,\n",
            "        3.92832905e-02, -3.09184678e-02,  8.37443222e-04,  1.99415139e-03,\n",
            "        2.30285246e-02, -9.61789638e-02, -3.51412743e-02,  6.20461814e-02,\n",
            "        1.23559311e-02,  6.83635324e-02,  5.42262495e-02,  7.28926575e-03,\n",
            "       -3.56933177e-02,  1.79334972e-02,  2.80668698e-02,  1.89233273e-02,\n",
            "        1.33949220e-02, -1.20208729e-02,  3.69834825e-02, -1.57287475e-02,\n",
            "        3.87172550e-02, -6.66780248e-02, -3.61421518e-02,  1.66648552e-02,\n",
            "       -6.41255155e-02,  8.48859698e-02,  2.59609018e-02, -6.27273601e-03,\n",
            "       -2.74906438e-02,  2.19094921e-02, -8.99930671e-02,  1.10065155e-01,\n",
            "       -2.22937763e-02,  1.87089071e-02, -1.58664539e-01,  6.36505809e-34,\n",
            "       -7.22473860e-02,  4.95870039e-02,  3.91035192e-02,  1.87061299e-02,\n",
            "        5.98720647e-02, -8.78254920e-02,  9.10528973e-02, -1.88824459e-04,\n",
            "       -9.71247330e-02,  3.44743626e-03, -2.87131798e-02,  3.08929775e-02,\n",
            "       -4.91677597e-02,  3.07530686e-02,  7.87602216e-02, -4.16634008e-02,\n",
            "       -3.04247010e-02,  9.29938350e-03, -1.91031732e-02, -4.38899547e-02,\n",
            "        6.03820086e-02, -6.86842352e-02, -1.06948353e-02,  2.36903280e-02,\n",
            "        4.60449494e-02,  1.26855811e-02,  4.05129902e-02,  6.72154687e-03,\n",
            "        1.69161912e-02, -5.47713879e-03, -6.61110058e-02,  9.82912779e-02,\n",
            "       -8.98794010e-02, -2.87975278e-02,  4.62114019e-03,  2.66565159e-02,\n",
            "       -7.28199119e-03, -4.37528379e-02,  3.49118677e-03,  4.06851768e-02,\n",
            "       -2.43277233e-02,  6.03484921e-02,  2.88271420e-02, -1.15025537e-02,\n",
            "       -1.64702460e-02,  2.43911091e-02,  2.99220476e-02, -1.88337229e-02,\n",
            "        6.36646077e-02, -1.21645465e-01, -9.60114226e-03, -3.41558480e-03,\n",
            "       -3.43108959e-02,  2.40625348e-02,  7.60832205e-02, -3.99920791e-02,\n",
            "        6.49229437e-02,  1.80043858e-02,  4.32442017e-02,  7.64617398e-02,\n",
            "       -3.68258767e-02, -6.21892093e-03, -7.92050660e-02,  1.03521377e-01,\n",
            "       -5.45398854e-02,  7.96419159e-02,  5.82795329e-02,  1.44209163e-02,\n",
            "       -5.36698066e-02,  1.51526213e-01, -1.24204904e-02, -8.27813242e-03,\n",
            "        8.77406001e-02, -5.07928804e-02,  4.55020890e-02, -4.96932901e-02,\n",
            "       -4.04253080e-02, -1.47322148e-01, -3.12026702e-02,  9.32816300e-04,\n",
            "       -1.74753647e-02, -3.69834825e-02, -6.58463910e-02,  1.36314090e-02,\n",
            "        3.37332785e-02, -3.30928378e-02, -2.89569572e-02, -2.91736796e-02,\n",
            "       -4.60635796e-02, -2.88377646e-02, -2.94732619e-02, -8.57363567e-02,\n",
            "        7.55597726e-02,  9.30554867e-02, -1.05645441e-01, -1.79308255e-33,\n",
            "       -8.31059143e-02, -3.25346105e-02, -3.19499080e-03,  6.58569857e-02,\n",
            "        4.05351222e-02,  1.01136630e-02, -1.29203983e-02, -1.47586502e-02,\n",
            "        6.18057465e-03,  8.15208331e-02,  4.98774499e-02,  6.91885222e-03,\n",
            "        6.28457144e-02,  3.00105568e-02, -4.90949303e-02,  7.19068721e-02,\n",
            "       -1.25074591e-02, -7.31353313e-02, -3.41401994e-02,  9.01916344e-03,\n",
            "        2.38725357e-02,  3.31920311e-02, -3.40995081e-02, -5.30988090e-02,\n",
            "        2.93288715e-02,  5.57155088e-02, -8.83348193e-03,  3.39911394e-02,\n",
            "        5.31507507e-02, -2.80362312e-02, -6.40410185e-02, -4.04306725e-02,\n",
            "       -3.44997160e-02, -1.85129717e-02, -1.79315563e-02,  5.55292368e-02,\n",
            "        7.84761012e-02, -4.02610786e-02, -2.06474476e-02, -5.05316146e-02,\n",
            "       -7.72641157e-04, -4.33320217e-02, -4.22839895e-02,  2.81184893e-02,\n",
            "        3.57614718e-02,  7.56566972e-02, -9.26759318e-02,  5.20311259e-02,\n",
            "       -7.18774274e-02, -1.13139367e-02, -2.56587695e-02,  3.82781704e-03,\n",
            "        3.92205752e-02, -3.21199261e-02, -4.56781238e-02,  1.62131730e-02,\n",
            "       -3.94833572e-02,  1.00716896e-01,  4.54997495e-02,  4.95631397e-02,\n",
            "       -1.59547292e-02, -4.12451215e-02,  1.88855492e-02,  5.89416362e-02,\n",
            "       -4.23526987e-02,  2.10683048e-02, -2.23239660e-02,  1.27170727e-01,\n",
            "       -7.28621185e-02,  1.52984345e-02, -3.42715569e-02,  5.34497900e-03,\n",
            "        1.31648704e-02,  4.14990559e-02,  9.71357164e-04,  1.26656110e-03,\n",
            "       -4.58963253e-02, -5.74193262e-02, -7.97498226e-03, -9.49824345e-04,\n",
            "        6.52745483e-04,  5.05037270e-02,  1.68149788e-02,  3.18225585e-02,\n",
            "        6.32753149e-02, -3.73553974e-03,  5.54027483e-02,  8.62548070e-04,\n",
            "       -8.95246565e-02, -1.48817990e-02, -6.52066320e-02,  1.63997281e-02,\n",
            "        1.50646949e-02,  9.28605907e-03, -4.96882983e-02, -3.91181061e-08,\n",
            "        1.80083662e-02,  7.02001248e-03,  2.17815824e-02, -3.50388177e-02,\n",
            "        6.40442669e-02, -4.88403291e-02,  4.16677557e-02,  3.65894884e-02,\n",
            "       -1.04314443e-02, -4.44101766e-02, -2.87007503e-02, -5.01528494e-02,\n",
            "       -3.27600986e-02,  5.26933707e-02,  7.12154955e-02,  9.97732580e-02,\n",
            "        9.28122143e-04, -1.78776495e-02,  1.83473639e-02, -5.06857075e-02,\n",
            "        1.36836961e-01,  4.58247997e-02,  8.72644261e-02, -2.01380365e-02,\n",
            "       -9.46503039e-03, -1.56340525e-02,  4.79472131e-02, -8.43544491e-03,\n",
            "       -3.01164147e-02,  3.62940244e-02, -1.15226567e-01, -8.24877899e-03,\n",
            "        7.07418844e-02,  4.14042883e-02,  7.02575222e-02, -1.15332473e-02,\n",
            "       -1.56628732e-02, -1.45751396e-02,  2.85790581e-02, -6.12857044e-02,\n",
            "       -6.80454820e-02,  6.00690544e-02, -1.11758545e-01,  1.59168076e-02,\n",
            "        2.43811775e-02,  1.78072788e-03, -6.06908277e-02, -3.33060734e-02,\n",
            "        7.37292916e-02,  9.76182893e-02,  3.63401882e-02, -1.39034456e-02,\n",
            "        5.88362291e-02, -4.14494202e-02, -5.11371717e-03,  7.31585175e-02,\n",
            "       -2.40961462e-03, -4.43275943e-02,  2.75977841e-03,  6.99158460e-02,\n",
            "        1.29142180e-01, -8.50485563e-02,  4.12761383e-02, -4.20675315e-02],\n",
            "      dtype=float32)]\n"
          ]
        }
      ],
      "source": [
        "# Import the ChromaDB library to work with vector databases\n",
        "import chromadb\n",
        "\n",
        "# Import the SentenceTransformerEmbeddingFunction utility from ChromaDB\n",
        "# This function helps generate embeddings for text data\n",
        "from chromadb.utils.embedding_functions import SentenceTransformerEmbeddingFunction\n",
        "\n",
        "# Initialize an instance of the SentenceTransformer embedding function\n",
        "# This function will be used to convert text into numerical vector representations (embeddings)\n",
        "embedding_function = SentenceTransformerEmbeddingFunction()\n",
        "\n",
        "# Generate the embedding for the 10th document in the 'character_split_texts' list\n",
        "# and print the resulting embedding vector\n",
        "print(embedding_function([character_split_texts[10]]))\n"
      ]
    },
    {
      "cell_type": "code",
      "execution_count": 6,
      "metadata": {
        "colab": {
          "base_uri": "https://localhost:8080/"
        },
        "id": "a5dgh5cXqmXb",
        "outputId": "305f2e72-e679-446c-c189-ae0bfab49d1a"
      },
      "outputs": [
        {
          "data": {
            "text/plain": [
              "557"
            ]
          },
          "execution_count": 6,
          "metadata": {},
          "output_type": "execute_result"
        }
      ],
      "source": [
        "# Initialize a ChromaDB client instance to interact with the database\n",
        "chroma_client = chromadb.Client()\n",
        "\n",
        "# Create a new collection in ChromaDB named \"IBM_Annual_report_2023\"\n",
        "# The collection will store embedded documents, using the specified embedding function\n",
        "chroma_collection = chroma_client.create_collection(\"IBM_Annual_report_2023\", embedding_function=embedding_function)\n",
        "\n",
        "# Generate unique string IDs for each document by converting their indices to strings\n",
        "ids = [str(i) for i in range(len(character_split_texts))]\n",
        "\n",
        "# Add the documents to the ChromaDB collection along with their corresponding IDs\n",
        "chroma_collection.add(ids=ids, documents=character_split_texts)\n",
        "\n",
        "# Count the number of documents stored in the collection and return the count\n",
        "chroma_collection.count()\n"
      ]
    },
    {
      "cell_type": "code",
      "execution_count": 7,
      "metadata": {
        "colab": {
          "base_uri": "https://localhost:8080/"
        },
        "id": "aQVoMgnUrOVW",
        "outputId": "067b854d-6382-4dd2-beda-7e0b9963664b"
      },
      "outputs": [
        {
          "name": "stdout",
          "output_type": "stream",
          "text": [
            "Revenue Recognized for Performance Obligations Satisfied (or Partially Satisfied) in Prior Periods\n",
            "For the year ended December  31, 2023, revenue was reduced by $16 million for performance obligations satisfied or partially \n",
            "satisfied in previous periods mainly due to changes in estimates on contracts with cost-to-cost measures of progress. Refer to note \n",
            "A, “Significant Accounting Policies,” for additional information on these contracts and estimates of costs to complete.\n",
            "Reconciliation of Contract Balances\n",
            "The following table provides information about notes and accounts receivable—trade, contract assets and deferred income \n",
            "balances.\n",
            "($ in millions)\n",
            "At December 31: 2023 2022\n",
            "Notes and accounts receivable — trade (net of allowances of $192 in 2023 and $233 in 2022) $ 7,214 $ 6,541 \n",
            "Contract assets (1)  505  464 \n",
            "Deferred income (current)  13,451  12,032 \n",
            "Deferred income (noncurrent)  3,533  3,499\n",
            "\n",
            "\n",
            "Total revenue $ 61,860 $ 60,530  2.2 %  2.9 %\n",
            "Total gross profit $ 34,300 $ 32,687  4.9 % \n",
            "Total gross margin  55.4 %  54.0 %  1.4 pts.\n",
            "Non-operating adjustments\n",
            "Amortization of acquired intangible assets  631  682  (7.5) %   \n",
            "Operating (non-GAAP) gross profit $ 34,931 $ 33,370  4.7 % \n",
            "Operating (non-GAAP) gross margin  56.5 %  55.1 %  1.3 pts.\n",
            "Software\n",
            "($ in millions)  \n",
            "For the year ended December 31: 2023 2022\n",
            "Yr.-to-Yr. \n",
            "Percent \n",
            "Change \n",
            "Yr.-to-Yr. \n",
            "Percent Change \n",
            "Adjusted for \n",
            "Currency\n",
            "Software revenue $ 26,308 $ 25,037  5.1 %  5.2 %\n",
            "Hybrid Platform & Solutions $ 18,693 $ 17,866  4.6 %  4.8 %\n",
            "Red Hat   9.1  9.0 \n",
            "Automation   3.4  3.6 \n",
            "Data & AI   4.5  4.8 \n",
            "Security   (2.5)  (2.2) \n",
            "Transaction Processing  7,615  7,171   6.2  6.3 \n",
            "Software revenue of $26,308 million increased 5.1 percent as reported (5 percent adjusted for currency) in 2023 compared to the \n",
            "prior year, driven by growth in both Hybrid Platform & Solutions and Transaction Processing. The growth in Hybrid Platform &\n",
            "\n",
            "\n",
            "Total $ 4,955 $ 1,533 $ 1,901 $ 1,106 $ 1,174 $ 195 \n",
            "86 Notes to the Consolidated Financial Statements\n",
            "International Business Machines Corporation and Subsidiary Companies\n",
            "\n",
            "\n",
            "Management System Segment View\n",
            "($ in millions)\n",
            "For the year ended December 31: Software Consulting Infrastructure Financing \n",
            "Total \n",
            "Segments\n",
            "2023\n",
            "Revenue $ 26,308 $ 19,985 $ 14,593 $ 741 $ 61,627 \n",
            "Pre-tax income from continuing operations  6,571  1,918  2,421  374  11,283 \n",
            "Revenue year-to-year change  5.1 %  4.6 %  (4.5) %  14.8 %  2.6 %\n",
            "Pre-tax income year-to-year change  6.6 %  14.4 %  7.0 %  10.1 %  8.1 %\n",
            "Pre-tax income margin  25.0 %  9.6 %  16.6 %  50.5 %  18.3 %\n",
            "2022\n",
            "Revenue $ 25,037 $ 19,107 $ 15,288 $ 645 $ 60,077 \n",
            "Pre-tax income from continuing operations  6,162  1,677  2,262  340  10,441 \n",
            "Revenue year-to-year change  6.9 %  7.1 %  7.8 %  (16.6) %  6.8 %\n",
            "Pre-tax income year-to-year change  27.1 %  15.7 %  11.7 %  (22.9) %  19.1 %\n",
            "Pre-tax income margin  24.6 %  8.8 %  14.8 %  52.6 %  17.4 %\n",
            "2021\n",
            "Revenue $ 23,426 $ 17,844 $ 14,188 $ 774 $ 56,231 \n",
            "Pre-tax income from continuing operations  4,849  1,449  2,025  441  8,765 \n",
            " Reconciliations of IBM as Reported\n",
            "($ in millions)\n",
            "\n",
            "\n",
            "For the year ended December 31: 2023 2022 2021\n",
            "Revenue\n",
            "Total reportable segments $ 61,627 $ 60,077 $ 56,231 \n",
            "Other—divested businesses  (2)  318  785 \n",
            "Other revenue  235  135  335 \n",
            "Total revenue $ 61,860 $ 60,530 $ 57,350 \n",
            "($ in millions)   \n",
            "For the year ended December 31: 2023  2022 2021\n",
            "Pre-tax income from continuing operations\n",
            "Total reportable segments $ 11,283 $ 10,441 $ 8,765 \n",
            "Amortization of acquired intangible assets  (1,627)  (1,747)  (1,838) \n",
            "Acquisition-related charges  (33)  (18)  (43) \n",
            "Non-operating retirement-related (costs)/income (1)  39  (6,548)  (1,282) \n",
            "Kyndryl-related impacts (2)  —  (351)  118 \n",
            "Workforce rebalancing charges (3)  (435)  —  — \n",
            "Other—divested businesses  5  91  (102) \n",
            "Unallocated corporate amounts and other  (541)  (712)  (782) \n",
            "Total pre-tax income from continuing operations $ 8,690 $ 1,156 $ 4,837 \n",
            "(1) 2022 includes a one-time, non-cash, pre-tax pension settlement charge of $5.9 billion. See note V, “Retirement-Related Benefits,” for additional\n",
            "\n",
            "\n"
          ]
        }
      ],
      "source": [
        "# Define the query we want to search for\n",
        "query = \"What was the total revenue?\"\n",
        "\n",
        "# Perform a similarity search using ChromaDB, retrieving the top 5 most relevant documents\n",
        "results = chroma_collection.query(query_texts=[query], n_results=5)\n",
        "\n",
        "# Extract the list of retrieved documents from the query results\n",
        "retrieved_documents = results['documents'][0]\n",
        "\n",
        "# Iterate through each retrieved document\n",
        "for document in retrieved_documents:\n",
        "    # Print the document content\n",
        "    print(document)\n",
        "    # Print a newline for better readability between documents\n",
        "    print('\\n')\n"
      ]
    },
    {
      "cell_type": "code",
      "execution_count": 8,
      "metadata": {
        "id": "i_XLsOMa_PzI"
      },
      "outputs": [],
      "source": [
        "def retreiver(query):\n",
        "  # Perform a similarity search using ChromaDB, retrieving the top 5 most relevant documents\n",
        "  results = chroma_collection.query(query_texts=[query], n_results=5)\n",
        "\n",
        "  # Extract the list of retrieved documents from the query results\n",
        "  retrieved_documents = results['documents'][0]\n",
        "  return retrieved_documents"
      ]
    },
    {
      "cell_type": "code",
      "execution_count": 16,
      "metadata": {
        "id": "muzZ-z5OuB07"
      },
      "outputs": [],
      "source": [
        "openai_api_key = \"\"\n"
      ]
    },
    {
      "cell_type": "code",
      "execution_count": 27,
      "metadata": {
        "id": "LzL0N4Igs3wt"
      },
      "outputs": [],
      "source": [
        "from langchain_openai import OpenAI\n",
        "\n",
        "llm = OpenAI(\n",
        "    model=\"gpt-4o-mini\",\n",
        "    temperature=0,\n",
        "    api_key=openai_api_key\n",
        ")"
      ]
    },
    {
      "cell_type": "code",
      "execution_count": 28,
      "metadata": {
        "id": "jxNgbEvhs33S"
      },
      "outputs": [],
      "source": [
        "from langchain_core.prompts import PromptTemplate\n",
        "\n",
        "prompt_template = PromptTemplate.from_template(\n",
        "        \"\"\"\n",
        "        |System|\n",
        "        You are a financial research analyst. You have to analyse the Request For Proposal(RFP) documents for the bidding process.\n",
        "\n",
        "        |Instruction|\n",
        "        Refer to the context from RFP document and answer the following question.Answer it in a concise manner. Do not add any additonal information.\n",
        "\n",
        "        |Question|\n",
        "        {question}\n",
        "\n",
        "        |Context|\n",
        "        {context}\n",
        "\n",
        "        |Answer|\n",
        "        \"\"\"\n",
        "        )\n",
        "\n",
        "\n"
      ]
    },
    {
      "cell_type": "code",
      "execution_count": 29,
      "metadata": {
        "id": "5ctSMq6e_cc2"
      },
      "outputs": [],
      "source": [
        "query1=\"What was the total revenue?\"\n",
        "documents1=retreiver(query1)"
      ]
    },
    {
      "cell_type": "code",
      "execution_count": 30,
      "metadata": {
        "id": "-Bn9vuTo_hJm"
      },
      "outputs": [],
      "source": [
        "prompt1=prompt_template.format(question=query1, context=documents1)"
      ]
    },
    {
      "cell_type": "code",
      "execution_count": 31,
      "metadata": {
        "colab": {
          "base_uri": "https://localhost:8080/"
        },
        "id": "hsKORktcuMXt",
        "outputId": "7e38dfd7-1109-4515-e193-665ac6c8a411"
      },
      "outputs": [
        {
          "ename": "RateLimitError",
          "evalue": "Error code: 429 - {'error': {'message': 'You exceeded your current quota, please check your plan and billing details. For more information on this error, read the docs: https://platform.openai.com/docs/guides/error-codes/api-errors.', 'type': 'insufficient_quota', 'param': None, 'code': 'insufficient_quota'}}",
          "output_type": "error",
          "traceback": [
            "\u001b[31m---------------------------------------------------------------------------\u001b[39m",
            "\u001b[31mRateLimitError\u001b[39m                            Traceback (most recent call last)",
            "\u001b[36mCell\u001b[39m\u001b[36m \u001b[39m\u001b[32mIn[31]\u001b[39m\u001b[32m, line 1\u001b[39m\n\u001b[32m----> \u001b[39m\u001b[32m1\u001b[39m \u001b[38;5;28mprint\u001b[39m(\u001b[43mllm\u001b[49m\u001b[43m.\u001b[49m\u001b[43minvoke\u001b[49m\u001b[43m(\u001b[49m\u001b[43mprompt1\u001b[49m\u001b[43m)\u001b[49m)\n",
            "\u001b[36mFile \u001b[39m\u001b[32m~/Documents/GitHub/opex-apis/opex/lib/python3.11/site-packages/langchain_core/language_models/llms.py:387\u001b[39m, in \u001b[36mBaseLLM.invoke\u001b[39m\u001b[34m(self, input, config, stop, **kwargs)\u001b[39m\n\u001b[32m    377\u001b[39m \u001b[38;5;28;01mdef\u001b[39;00m\u001b[38;5;250m \u001b[39m\u001b[34minvoke\u001b[39m(\n\u001b[32m    378\u001b[39m     \u001b[38;5;28mself\u001b[39m,\n\u001b[32m    379\u001b[39m     \u001b[38;5;28minput\u001b[39m: LanguageModelInput,\n\u001b[32m   (...)\u001b[39m\u001b[32m    383\u001b[39m     **kwargs: Any,\n\u001b[32m    384\u001b[39m ) -> \u001b[38;5;28mstr\u001b[39m:\n\u001b[32m    385\u001b[39m     config = ensure_config(config)\n\u001b[32m    386\u001b[39m     \u001b[38;5;28;01mreturn\u001b[39;00m (\n\u001b[32m--> \u001b[39m\u001b[32m387\u001b[39m         \u001b[38;5;28;43mself\u001b[39;49m\u001b[43m.\u001b[49m\u001b[43mgenerate_prompt\u001b[49m\u001b[43m(\u001b[49m\n\u001b[32m    388\u001b[39m \u001b[43m            \u001b[49m\u001b[43m[\u001b[49m\u001b[38;5;28;43mself\u001b[39;49m\u001b[43m.\u001b[49m\u001b[43m_convert_input\u001b[49m\u001b[43m(\u001b[49m\u001b[38;5;28;43minput\u001b[39;49m\u001b[43m)\u001b[49m\u001b[43m]\u001b[49m\u001b[43m,\u001b[49m\n\u001b[32m    389\u001b[39m \u001b[43m            \u001b[49m\u001b[43mstop\u001b[49m\u001b[43m=\u001b[49m\u001b[43mstop\u001b[49m\u001b[43m,\u001b[49m\n\u001b[32m    390\u001b[39m \u001b[43m            \u001b[49m\u001b[43mcallbacks\u001b[49m\u001b[43m=\u001b[49m\u001b[43mconfig\u001b[49m\u001b[43m.\u001b[49m\u001b[43mget\u001b[49m\u001b[43m(\u001b[49m\u001b[33;43m\"\u001b[39;49m\u001b[33;43mcallbacks\u001b[39;49m\u001b[33;43m\"\u001b[39;49m\u001b[43m)\u001b[49m\u001b[43m,\u001b[49m\n\u001b[32m    391\u001b[39m \u001b[43m            \u001b[49m\u001b[43mtags\u001b[49m\u001b[43m=\u001b[49m\u001b[43mconfig\u001b[49m\u001b[43m.\u001b[49m\u001b[43mget\u001b[49m\u001b[43m(\u001b[49m\u001b[33;43m\"\u001b[39;49m\u001b[33;43mtags\u001b[39;49m\u001b[33;43m\"\u001b[39;49m\u001b[43m)\u001b[49m\u001b[43m,\u001b[49m\n\u001b[32m    392\u001b[39m \u001b[43m            \u001b[49m\u001b[43mmetadata\u001b[49m\u001b[43m=\u001b[49m\u001b[43mconfig\u001b[49m\u001b[43m.\u001b[49m\u001b[43mget\u001b[49m\u001b[43m(\u001b[49m\u001b[33;43m\"\u001b[39;49m\u001b[33;43mmetadata\u001b[39;49m\u001b[33;43m\"\u001b[39;49m\u001b[43m)\u001b[49m\u001b[43m,\u001b[49m\n\u001b[32m    393\u001b[39m \u001b[43m            \u001b[49m\u001b[43mrun_name\u001b[49m\u001b[43m=\u001b[49m\u001b[43mconfig\u001b[49m\u001b[43m.\u001b[49m\u001b[43mget\u001b[49m\u001b[43m(\u001b[49m\u001b[33;43m\"\u001b[39;49m\u001b[33;43mrun_name\u001b[39;49m\u001b[33;43m\"\u001b[39;49m\u001b[43m)\u001b[49m\u001b[43m,\u001b[49m\n\u001b[32m    394\u001b[39m \u001b[43m            \u001b[49m\u001b[43mrun_id\u001b[49m\u001b[43m=\u001b[49m\u001b[43mconfig\u001b[49m\u001b[43m.\u001b[49m\u001b[43mpop\u001b[49m\u001b[43m(\u001b[49m\u001b[33;43m\"\u001b[39;49m\u001b[33;43mrun_id\u001b[39;49m\u001b[33;43m\"\u001b[39;49m\u001b[43m,\u001b[49m\u001b[43m \u001b[49m\u001b[38;5;28;43;01mNone\u001b[39;49;00m\u001b[43m)\u001b[49m\u001b[43m,\u001b[49m\n\u001b[32m    395\u001b[39m \u001b[43m            \u001b[49m\u001b[43m*\u001b[49m\u001b[43m*\u001b[49m\u001b[43mkwargs\u001b[49m\u001b[43m,\u001b[49m\n\u001b[32m    396\u001b[39m \u001b[43m        \u001b[49m\u001b[43m)\u001b[49m\n\u001b[32m    397\u001b[39m         .generations[\u001b[32m0\u001b[39m][\u001b[32m0\u001b[39m]\n\u001b[32m    398\u001b[39m         .text\n\u001b[32m    399\u001b[39m     )\n",
            "\u001b[36mFile \u001b[39m\u001b[32m~/Documents/GitHub/opex-apis/opex/lib/python3.11/site-packages/langchain_core/language_models/llms.py:760\u001b[39m, in \u001b[36mBaseLLM.generate_prompt\u001b[39m\u001b[34m(self, prompts, stop, callbacks, **kwargs)\u001b[39m\n\u001b[32m    752\u001b[39m \u001b[38;5;28;01mdef\u001b[39;00m\u001b[38;5;250m \u001b[39m\u001b[34mgenerate_prompt\u001b[39m(\n\u001b[32m    753\u001b[39m     \u001b[38;5;28mself\u001b[39m,\n\u001b[32m    754\u001b[39m     prompts: \u001b[38;5;28mlist\u001b[39m[PromptValue],\n\u001b[32m   (...)\u001b[39m\u001b[32m    757\u001b[39m     **kwargs: Any,\n\u001b[32m    758\u001b[39m ) -> LLMResult:\n\u001b[32m    759\u001b[39m     prompt_strings = [p.to_string() \u001b[38;5;28;01mfor\u001b[39;00m p \u001b[38;5;129;01min\u001b[39;00m prompts]\n\u001b[32m--> \u001b[39m\u001b[32m760\u001b[39m     \u001b[38;5;28;01mreturn\u001b[39;00m \u001b[38;5;28;43mself\u001b[39;49m\u001b[43m.\u001b[49m\u001b[43mgenerate\u001b[49m\u001b[43m(\u001b[49m\u001b[43mprompt_strings\u001b[49m\u001b[43m,\u001b[49m\u001b[43m \u001b[49m\u001b[43mstop\u001b[49m\u001b[43m=\u001b[49m\u001b[43mstop\u001b[49m\u001b[43m,\u001b[49m\u001b[43m \u001b[49m\u001b[43mcallbacks\u001b[49m\u001b[43m=\u001b[49m\u001b[43mcallbacks\u001b[49m\u001b[43m,\u001b[49m\u001b[43m \u001b[49m\u001b[43m*\u001b[49m\u001b[43m*\u001b[49m\u001b[43mkwargs\u001b[49m\u001b[43m)\u001b[49m\n",
            "\u001b[36mFile \u001b[39m\u001b[32m~/Documents/GitHub/opex-apis/opex/lib/python3.11/site-packages/langchain_core/language_models/llms.py:963\u001b[39m, in \u001b[36mBaseLLM.generate\u001b[39m\u001b[34m(self, prompts, stop, callbacks, tags, metadata, run_name, run_id, **kwargs)\u001b[39m\n\u001b[32m    948\u001b[39m \u001b[38;5;28;01mif\u001b[39;00m (\u001b[38;5;28mself\u001b[39m.cache \u001b[38;5;129;01mis\u001b[39;00m \u001b[38;5;28;01mNone\u001b[39;00m \u001b[38;5;129;01mand\u001b[39;00m get_llm_cache() \u001b[38;5;129;01mis\u001b[39;00m \u001b[38;5;28;01mNone\u001b[39;00m) \u001b[38;5;129;01mor\u001b[39;00m \u001b[38;5;28mself\u001b[39m.cache \u001b[38;5;129;01mis\u001b[39;00m \u001b[38;5;28;01mFalse\u001b[39;00m:\n\u001b[32m    949\u001b[39m     run_managers = [\n\u001b[32m    950\u001b[39m         callback_manager.on_llm_start(\n\u001b[32m    951\u001b[39m             \u001b[38;5;28mself\u001b[39m._serialized,\n\u001b[32m   (...)\u001b[39m\u001b[32m    961\u001b[39m         )\n\u001b[32m    962\u001b[39m     ]\n\u001b[32m--> \u001b[39m\u001b[32m963\u001b[39m     output = \u001b[38;5;28;43mself\u001b[39;49m\u001b[43m.\u001b[49m\u001b[43m_generate_helper\u001b[49m\u001b[43m(\u001b[49m\n\u001b[32m    964\u001b[39m \u001b[43m        \u001b[49m\u001b[43mprompts\u001b[49m\u001b[43m,\u001b[49m\u001b[43m \u001b[49m\u001b[43mstop\u001b[49m\u001b[43m,\u001b[49m\u001b[43m \u001b[49m\u001b[43mrun_managers\u001b[49m\u001b[43m,\u001b[49m\u001b[43m \u001b[49m\u001b[38;5;28;43mbool\u001b[39;49m\u001b[43m(\u001b[49m\u001b[43mnew_arg_supported\u001b[49m\u001b[43m)\u001b[49m\u001b[43m,\u001b[49m\u001b[43m \u001b[49m\u001b[43m*\u001b[49m\u001b[43m*\u001b[49m\u001b[43mkwargs\u001b[49m\n\u001b[32m    965\u001b[39m \u001b[43m    \u001b[49m\u001b[43m)\u001b[49m\n\u001b[32m    966\u001b[39m     \u001b[38;5;28;01mreturn\u001b[39;00m output\n\u001b[32m    967\u001b[39m \u001b[38;5;28;01mif\u001b[39;00m \u001b[38;5;28mlen\u001b[39m(missing_prompts) > \u001b[32m0\u001b[39m:\n",
            "\u001b[36mFile \u001b[39m\u001b[32m~/Documents/GitHub/opex-apis/opex/lib/python3.11/site-packages/langchain_core/language_models/llms.py:784\u001b[39m, in \u001b[36mBaseLLM._generate_helper\u001b[39m\u001b[34m(self, prompts, stop, run_managers, new_arg_supported, **kwargs)\u001b[39m\n\u001b[32m    774\u001b[39m \u001b[38;5;28;01mdef\u001b[39;00m\u001b[38;5;250m \u001b[39m\u001b[34m_generate_helper\u001b[39m(\n\u001b[32m    775\u001b[39m     \u001b[38;5;28mself\u001b[39m,\n\u001b[32m    776\u001b[39m     prompts: \u001b[38;5;28mlist\u001b[39m[\u001b[38;5;28mstr\u001b[39m],\n\u001b[32m   (...)\u001b[39m\u001b[32m    780\u001b[39m     **kwargs: Any,\n\u001b[32m    781\u001b[39m ) -> LLMResult:\n\u001b[32m    782\u001b[39m     \u001b[38;5;28;01mtry\u001b[39;00m:\n\u001b[32m    783\u001b[39m         output = (\n\u001b[32m--> \u001b[39m\u001b[32m784\u001b[39m             \u001b[38;5;28;43mself\u001b[39;49m\u001b[43m.\u001b[49m\u001b[43m_generate\u001b[49m\u001b[43m(\u001b[49m\n\u001b[32m    785\u001b[39m \u001b[43m                \u001b[49m\u001b[43mprompts\u001b[49m\u001b[43m,\u001b[49m\n\u001b[32m    786\u001b[39m \u001b[43m                \u001b[49m\u001b[43mstop\u001b[49m\u001b[43m=\u001b[49m\u001b[43mstop\u001b[49m\u001b[43m,\u001b[49m\n\u001b[32m    787\u001b[39m \u001b[43m                \u001b[49m\u001b[38;5;66;43;03m# TODO: support multiple run managers\u001b[39;49;00m\n\u001b[32m    788\u001b[39m \u001b[43m                \u001b[49m\u001b[43mrun_manager\u001b[49m\u001b[43m=\u001b[49m\u001b[43mrun_managers\u001b[49m\u001b[43m[\u001b[49m\u001b[32;43m0\u001b[39;49m\u001b[43m]\u001b[49m\u001b[43m \u001b[49m\u001b[38;5;28;43;01mif\u001b[39;49;00m\u001b[43m \u001b[49m\u001b[43mrun_managers\u001b[49m\u001b[43m \u001b[49m\u001b[38;5;28;43;01melse\u001b[39;49;00m\u001b[43m \u001b[49m\u001b[38;5;28;43;01mNone\u001b[39;49;00m\u001b[43m,\u001b[49m\n\u001b[32m    789\u001b[39m \u001b[43m                \u001b[49m\u001b[43m*\u001b[49m\u001b[43m*\u001b[49m\u001b[43mkwargs\u001b[49m\u001b[43m,\u001b[49m\n\u001b[32m    790\u001b[39m \u001b[43m            \u001b[49m\u001b[43m)\u001b[49m\n\u001b[32m    791\u001b[39m             \u001b[38;5;28;01mif\u001b[39;00m new_arg_supported\n\u001b[32m    792\u001b[39m             \u001b[38;5;28;01melse\u001b[39;00m \u001b[38;5;28mself\u001b[39m._generate(prompts, stop=stop)\n\u001b[32m    793\u001b[39m         )\n\u001b[32m    794\u001b[39m     \u001b[38;5;28;01mexcept\u001b[39;00m \u001b[38;5;167;01mBaseException\u001b[39;00m \u001b[38;5;28;01mas\u001b[39;00m e:\n\u001b[32m    795\u001b[39m         \u001b[38;5;28;01mfor\u001b[39;00m run_manager \u001b[38;5;129;01min\u001b[39;00m run_managers:\n",
            "\u001b[36mFile \u001b[39m\u001b[32m~/Documents/GitHub/opex-apis/opex/lib/python3.11/site-packages/langchain_openai/llms/base.py:343\u001b[39m, in \u001b[36mBaseOpenAI._generate\u001b[39m\u001b[34m(self, prompts, stop, run_manager, **kwargs)\u001b[39m\n\u001b[32m    327\u001b[39m     choices.append(\n\u001b[32m    328\u001b[39m         {\n\u001b[32m    329\u001b[39m             \u001b[33m\"\u001b[39m\u001b[33mtext\u001b[39m\u001b[33m\"\u001b[39m: generation.text,\n\u001b[32m   (...)\u001b[39m\u001b[32m    340\u001b[39m         }\n\u001b[32m    341\u001b[39m     )\n\u001b[32m    342\u001b[39m \u001b[38;5;28;01melse\u001b[39;00m:\n\u001b[32m--> \u001b[39m\u001b[32m343\u001b[39m     response = \u001b[38;5;28;43mself\u001b[39;49m\u001b[43m.\u001b[49m\u001b[43mclient\u001b[49m\u001b[43m.\u001b[49m\u001b[43mcreate\u001b[49m\u001b[43m(\u001b[49m\u001b[43mprompt\u001b[49m\u001b[43m=\u001b[49m\u001b[43m_prompts\u001b[49m\u001b[43m,\u001b[49m\u001b[43m \u001b[49m\u001b[43m*\u001b[49m\u001b[43m*\u001b[49m\u001b[43mparams\u001b[49m\u001b[43m)\u001b[49m\n\u001b[32m    344\u001b[39m     \u001b[38;5;28;01mif\u001b[39;00m \u001b[38;5;129;01mnot\u001b[39;00m \u001b[38;5;28misinstance\u001b[39m(response, \u001b[38;5;28mdict\u001b[39m):\n\u001b[32m    345\u001b[39m         \u001b[38;5;66;03m# V1 client returns the response in an PyDantic object instead of\u001b[39;00m\n\u001b[32m    346\u001b[39m         \u001b[38;5;66;03m# dict. For the transition period, we deep convert it to dict.\u001b[39;00m\n\u001b[32m    347\u001b[39m         response = response.model_dump()\n",
            "\u001b[36mFile \u001b[39m\u001b[32m~/Documents/GitHub/opex-apis/opex/lib/python3.11/site-packages/openai/_utils/_utils.py:279\u001b[39m, in \u001b[36mrequired_args.<locals>.inner.<locals>.wrapper\u001b[39m\u001b[34m(*args, **kwargs)\u001b[39m\n\u001b[32m    277\u001b[39m             msg = \u001b[33mf\u001b[39m\u001b[33m\"\u001b[39m\u001b[33mMissing required argument: \u001b[39m\u001b[38;5;132;01m{\u001b[39;00mquote(missing[\u001b[32m0\u001b[39m])\u001b[38;5;132;01m}\u001b[39;00m\u001b[33m\"\u001b[39m\n\u001b[32m    278\u001b[39m     \u001b[38;5;28;01mraise\u001b[39;00m \u001b[38;5;167;01mTypeError\u001b[39;00m(msg)\n\u001b[32m--> \u001b[39m\u001b[32m279\u001b[39m \u001b[38;5;28;01mreturn\u001b[39;00m \u001b[43mfunc\u001b[49m\u001b[43m(\u001b[49m\u001b[43m*\u001b[49m\u001b[43margs\u001b[49m\u001b[43m,\u001b[49m\u001b[43m \u001b[49m\u001b[43m*\u001b[49m\u001b[43m*\u001b[49m\u001b[43mkwargs\u001b[49m\u001b[43m)\u001b[49m\n",
            "\u001b[36mFile \u001b[39m\u001b[32m~/Documents/GitHub/opex-apis/opex/lib/python3.11/site-packages/openai/resources/completions.py:539\u001b[39m, in \u001b[36mCompletions.create\u001b[39m\u001b[34m(self, model, prompt, best_of, echo, frequency_penalty, logit_bias, logprobs, max_tokens, n, presence_penalty, seed, stop, stream, stream_options, suffix, temperature, top_p, user, extra_headers, extra_query, extra_body, timeout)\u001b[39m\n\u001b[32m    510\u001b[39m \u001b[38;5;129m@required_args\u001b[39m([\u001b[33m\"\u001b[39m\u001b[33mmodel\u001b[39m\u001b[33m\"\u001b[39m, \u001b[33m\"\u001b[39m\u001b[33mprompt\u001b[39m\u001b[33m\"\u001b[39m], [\u001b[33m\"\u001b[39m\u001b[33mmodel\u001b[39m\u001b[33m\"\u001b[39m, \u001b[33m\"\u001b[39m\u001b[33mprompt\u001b[39m\u001b[33m\"\u001b[39m, \u001b[33m\"\u001b[39m\u001b[33mstream\u001b[39m\u001b[33m\"\u001b[39m])\n\u001b[32m    511\u001b[39m \u001b[38;5;28;01mdef\u001b[39;00m\u001b[38;5;250m \u001b[39m\u001b[34mcreate\u001b[39m(\n\u001b[32m    512\u001b[39m     \u001b[38;5;28mself\u001b[39m,\n\u001b[32m   (...)\u001b[39m\u001b[32m    537\u001b[39m     timeout: \u001b[38;5;28mfloat\u001b[39m | httpx.Timeout | \u001b[38;5;28;01mNone\u001b[39;00m | NotGiven = NOT_GIVEN,\n\u001b[32m    538\u001b[39m ) -> Completion | Stream[Completion]:\n\u001b[32m--> \u001b[39m\u001b[32m539\u001b[39m     \u001b[38;5;28;01mreturn\u001b[39;00m \u001b[38;5;28;43mself\u001b[39;49m\u001b[43m.\u001b[49m\u001b[43m_post\u001b[49m\u001b[43m(\u001b[49m\n\u001b[32m    540\u001b[39m \u001b[43m        \u001b[49m\u001b[33;43m\"\u001b[39;49m\u001b[33;43m/completions\u001b[39;49m\u001b[33;43m\"\u001b[39;49m\u001b[43m,\u001b[49m\n\u001b[32m    541\u001b[39m \u001b[43m        \u001b[49m\u001b[43mbody\u001b[49m\u001b[43m=\u001b[49m\u001b[43mmaybe_transform\u001b[49m\u001b[43m(\u001b[49m\n\u001b[32m    542\u001b[39m \u001b[43m            \u001b[49m\u001b[43m{\u001b[49m\n\u001b[32m    543\u001b[39m \u001b[43m                \u001b[49m\u001b[33;43m\"\u001b[39;49m\u001b[33;43mmodel\u001b[39;49m\u001b[33;43m\"\u001b[39;49m\u001b[43m:\u001b[49m\u001b[43m \u001b[49m\u001b[43mmodel\u001b[49m\u001b[43m,\u001b[49m\n\u001b[32m    544\u001b[39m \u001b[43m                \u001b[49m\u001b[33;43m\"\u001b[39;49m\u001b[33;43mprompt\u001b[39;49m\u001b[33;43m\"\u001b[39;49m\u001b[43m:\u001b[49m\u001b[43m \u001b[49m\u001b[43mprompt\u001b[49m\u001b[43m,\u001b[49m\n\u001b[32m    545\u001b[39m \u001b[43m                \u001b[49m\u001b[33;43m\"\u001b[39;49m\u001b[33;43mbest_of\u001b[39;49m\u001b[33;43m\"\u001b[39;49m\u001b[43m:\u001b[49m\u001b[43m \u001b[49m\u001b[43mbest_of\u001b[49m\u001b[43m,\u001b[49m\n\u001b[32m    546\u001b[39m \u001b[43m                \u001b[49m\u001b[33;43m\"\u001b[39;49m\u001b[33;43mecho\u001b[39;49m\u001b[33;43m\"\u001b[39;49m\u001b[43m:\u001b[49m\u001b[43m \u001b[49m\u001b[43mecho\u001b[49m\u001b[43m,\u001b[49m\n\u001b[32m    547\u001b[39m \u001b[43m                \u001b[49m\u001b[33;43m\"\u001b[39;49m\u001b[33;43mfrequency_penalty\u001b[39;49m\u001b[33;43m\"\u001b[39;49m\u001b[43m:\u001b[49m\u001b[43m \u001b[49m\u001b[43mfrequency_penalty\u001b[49m\u001b[43m,\u001b[49m\n\u001b[32m    548\u001b[39m \u001b[43m                \u001b[49m\u001b[33;43m\"\u001b[39;49m\u001b[33;43mlogit_bias\u001b[39;49m\u001b[33;43m\"\u001b[39;49m\u001b[43m:\u001b[49m\u001b[43m \u001b[49m\u001b[43mlogit_bias\u001b[49m\u001b[43m,\u001b[49m\n\u001b[32m    549\u001b[39m \u001b[43m                \u001b[49m\u001b[33;43m\"\u001b[39;49m\u001b[33;43mlogprobs\u001b[39;49m\u001b[33;43m\"\u001b[39;49m\u001b[43m:\u001b[49m\u001b[43m \u001b[49m\u001b[43mlogprobs\u001b[49m\u001b[43m,\u001b[49m\n\u001b[32m    550\u001b[39m \u001b[43m                \u001b[49m\u001b[33;43m\"\u001b[39;49m\u001b[33;43mmax_tokens\u001b[39;49m\u001b[33;43m\"\u001b[39;49m\u001b[43m:\u001b[49m\u001b[43m \u001b[49m\u001b[43mmax_tokens\u001b[49m\u001b[43m,\u001b[49m\n\u001b[32m    551\u001b[39m \u001b[43m                \u001b[49m\u001b[33;43m\"\u001b[39;49m\u001b[33;43mn\u001b[39;49m\u001b[33;43m\"\u001b[39;49m\u001b[43m:\u001b[49m\u001b[43m \u001b[49m\u001b[43mn\u001b[49m\u001b[43m,\u001b[49m\n\u001b[32m    552\u001b[39m \u001b[43m                \u001b[49m\u001b[33;43m\"\u001b[39;49m\u001b[33;43mpresence_penalty\u001b[39;49m\u001b[33;43m\"\u001b[39;49m\u001b[43m:\u001b[49m\u001b[43m \u001b[49m\u001b[43mpresence_penalty\u001b[49m\u001b[43m,\u001b[49m\n\u001b[32m    553\u001b[39m \u001b[43m                \u001b[49m\u001b[33;43m\"\u001b[39;49m\u001b[33;43mseed\u001b[39;49m\u001b[33;43m\"\u001b[39;49m\u001b[43m:\u001b[49m\u001b[43m \u001b[49m\u001b[43mseed\u001b[49m\u001b[43m,\u001b[49m\n\u001b[32m    554\u001b[39m \u001b[43m                \u001b[49m\u001b[33;43m\"\u001b[39;49m\u001b[33;43mstop\u001b[39;49m\u001b[33;43m\"\u001b[39;49m\u001b[43m:\u001b[49m\u001b[43m \u001b[49m\u001b[43mstop\u001b[49m\u001b[43m,\u001b[49m\n\u001b[32m    555\u001b[39m \u001b[43m                \u001b[49m\u001b[33;43m\"\u001b[39;49m\u001b[33;43mstream\u001b[39;49m\u001b[33;43m\"\u001b[39;49m\u001b[43m:\u001b[49m\u001b[43m \u001b[49m\u001b[43mstream\u001b[49m\u001b[43m,\u001b[49m\n\u001b[32m    556\u001b[39m \u001b[43m                \u001b[49m\u001b[33;43m\"\u001b[39;49m\u001b[33;43mstream_options\u001b[39;49m\u001b[33;43m\"\u001b[39;49m\u001b[43m:\u001b[49m\u001b[43m \u001b[49m\u001b[43mstream_options\u001b[49m\u001b[43m,\u001b[49m\n\u001b[32m    557\u001b[39m \u001b[43m                \u001b[49m\u001b[33;43m\"\u001b[39;49m\u001b[33;43msuffix\u001b[39;49m\u001b[33;43m\"\u001b[39;49m\u001b[43m:\u001b[49m\u001b[43m \u001b[49m\u001b[43msuffix\u001b[49m\u001b[43m,\u001b[49m\n\u001b[32m    558\u001b[39m \u001b[43m                \u001b[49m\u001b[33;43m\"\u001b[39;49m\u001b[33;43mtemperature\u001b[39;49m\u001b[33;43m\"\u001b[39;49m\u001b[43m:\u001b[49m\u001b[43m \u001b[49m\u001b[43mtemperature\u001b[49m\u001b[43m,\u001b[49m\n\u001b[32m    559\u001b[39m \u001b[43m                \u001b[49m\u001b[33;43m\"\u001b[39;49m\u001b[33;43mtop_p\u001b[39;49m\u001b[33;43m\"\u001b[39;49m\u001b[43m:\u001b[49m\u001b[43m \u001b[49m\u001b[43mtop_p\u001b[49m\u001b[43m,\u001b[49m\n\u001b[32m    560\u001b[39m \u001b[43m                \u001b[49m\u001b[33;43m\"\u001b[39;49m\u001b[33;43muser\u001b[39;49m\u001b[33;43m\"\u001b[39;49m\u001b[43m:\u001b[49m\u001b[43m \u001b[49m\u001b[43muser\u001b[49m\u001b[43m,\u001b[49m\n\u001b[32m    561\u001b[39m \u001b[43m            \u001b[49m\u001b[43m}\u001b[49m\u001b[43m,\u001b[49m\n\u001b[32m    562\u001b[39m \u001b[43m            \u001b[49m\u001b[43mcompletion_create_params\u001b[49m\u001b[43m.\u001b[49m\u001b[43mCompletionCreateParams\u001b[49m\u001b[43m,\u001b[49m\n\u001b[32m    563\u001b[39m \u001b[43m        \u001b[49m\u001b[43m)\u001b[49m\u001b[43m,\u001b[49m\n\u001b[32m    564\u001b[39m \u001b[43m        \u001b[49m\u001b[43moptions\u001b[49m\u001b[43m=\u001b[49m\u001b[43mmake_request_options\u001b[49m\u001b[43m(\u001b[49m\n\u001b[32m    565\u001b[39m \u001b[43m            \u001b[49m\u001b[43mextra_headers\u001b[49m\u001b[43m=\u001b[49m\u001b[43mextra_headers\u001b[49m\u001b[43m,\u001b[49m\u001b[43m \u001b[49m\u001b[43mextra_query\u001b[49m\u001b[43m=\u001b[49m\u001b[43mextra_query\u001b[49m\u001b[43m,\u001b[49m\u001b[43m \u001b[49m\u001b[43mextra_body\u001b[49m\u001b[43m=\u001b[49m\u001b[43mextra_body\u001b[49m\u001b[43m,\u001b[49m\u001b[43m \u001b[49m\u001b[43mtimeout\u001b[49m\u001b[43m=\u001b[49m\u001b[43mtimeout\u001b[49m\n\u001b[32m    566\u001b[39m \u001b[43m        \u001b[49m\u001b[43m)\u001b[49m\u001b[43m,\u001b[49m\n\u001b[32m    567\u001b[39m \u001b[43m        \u001b[49m\u001b[43mcast_to\u001b[49m\u001b[43m=\u001b[49m\u001b[43mCompletion\u001b[49m\u001b[43m,\u001b[49m\n\u001b[32m    568\u001b[39m \u001b[43m        \u001b[49m\u001b[43mstream\u001b[49m\u001b[43m=\u001b[49m\u001b[43mstream\u001b[49m\u001b[43m \u001b[49m\u001b[38;5;129;43;01mor\u001b[39;49;00m\u001b[43m \u001b[49m\u001b[38;5;28;43;01mFalse\u001b[39;49;00m\u001b[43m,\u001b[49m\n\u001b[32m    569\u001b[39m \u001b[43m        \u001b[49m\u001b[43mstream_cls\u001b[49m\u001b[43m=\u001b[49m\u001b[43mStream\u001b[49m\u001b[43m[\u001b[49m\u001b[43mCompletion\u001b[49m\u001b[43m]\u001b[49m\u001b[43m,\u001b[49m\n\u001b[32m    570\u001b[39m \u001b[43m    \u001b[49m\u001b[43m)\u001b[49m\n",
            "\u001b[36mFile \u001b[39m\u001b[32m~/Documents/GitHub/opex-apis/opex/lib/python3.11/site-packages/openai/_base_client.py:1296\u001b[39m, in \u001b[36mSyncAPIClient.post\u001b[39m\u001b[34m(self, path, cast_to, body, options, files, stream, stream_cls)\u001b[39m\n\u001b[32m   1282\u001b[39m \u001b[38;5;28;01mdef\u001b[39;00m\u001b[38;5;250m \u001b[39m\u001b[34mpost\u001b[39m(\n\u001b[32m   1283\u001b[39m     \u001b[38;5;28mself\u001b[39m,\n\u001b[32m   1284\u001b[39m     path: \u001b[38;5;28mstr\u001b[39m,\n\u001b[32m   (...)\u001b[39m\u001b[32m   1291\u001b[39m     stream_cls: \u001b[38;5;28mtype\u001b[39m[_StreamT] | \u001b[38;5;28;01mNone\u001b[39;00m = \u001b[38;5;28;01mNone\u001b[39;00m,\n\u001b[32m   1292\u001b[39m ) -> ResponseT | _StreamT:\n\u001b[32m   1293\u001b[39m     opts = FinalRequestOptions.construct(\n\u001b[32m   1294\u001b[39m         method=\u001b[33m\"\u001b[39m\u001b[33mpost\u001b[39m\u001b[33m\"\u001b[39m, url=path, json_data=body, files=to_httpx_files(files), **options\n\u001b[32m   1295\u001b[39m     )\n\u001b[32m-> \u001b[39m\u001b[32m1296\u001b[39m     \u001b[38;5;28;01mreturn\u001b[39;00m cast(ResponseT, \u001b[38;5;28;43mself\u001b[39;49m\u001b[43m.\u001b[49m\u001b[43mrequest\u001b[49m\u001b[43m(\u001b[49m\u001b[43mcast_to\u001b[49m\u001b[43m,\u001b[49m\u001b[43m \u001b[49m\u001b[43mopts\u001b[49m\u001b[43m,\u001b[49m\u001b[43m \u001b[49m\u001b[43mstream\u001b[49m\u001b[43m=\u001b[49m\u001b[43mstream\u001b[49m\u001b[43m,\u001b[49m\u001b[43m \u001b[49m\u001b[43mstream_cls\u001b[49m\u001b[43m=\u001b[49m\u001b[43mstream_cls\u001b[49m\u001b[43m)\u001b[49m)\n",
            "\u001b[36mFile \u001b[39m\u001b[32m~/Documents/GitHub/opex-apis/opex/lib/python3.11/site-packages/openai/_base_client.py:973\u001b[39m, in \u001b[36mSyncAPIClient.request\u001b[39m\u001b[34m(self, cast_to, options, remaining_retries, stream, stream_cls)\u001b[39m\n\u001b[32m    970\u001b[39m \u001b[38;5;28;01melse\u001b[39;00m:\n\u001b[32m    971\u001b[39m     retries_taken = \u001b[32m0\u001b[39m\n\u001b[32m--> \u001b[39m\u001b[32m973\u001b[39m \u001b[38;5;28;01mreturn\u001b[39;00m \u001b[38;5;28;43mself\u001b[39;49m\u001b[43m.\u001b[49m\u001b[43m_request\u001b[49m\u001b[43m(\u001b[49m\n\u001b[32m    974\u001b[39m \u001b[43m    \u001b[49m\u001b[43mcast_to\u001b[49m\u001b[43m=\u001b[49m\u001b[43mcast_to\u001b[49m\u001b[43m,\u001b[49m\n\u001b[32m    975\u001b[39m \u001b[43m    \u001b[49m\u001b[43moptions\u001b[49m\u001b[43m=\u001b[49m\u001b[43moptions\u001b[49m\u001b[43m,\u001b[49m\n\u001b[32m    976\u001b[39m \u001b[43m    \u001b[49m\u001b[43mstream\u001b[49m\u001b[43m=\u001b[49m\u001b[43mstream\u001b[49m\u001b[43m,\u001b[49m\n\u001b[32m    977\u001b[39m \u001b[43m    \u001b[49m\u001b[43mstream_cls\u001b[49m\u001b[43m=\u001b[49m\u001b[43mstream_cls\u001b[49m\u001b[43m,\u001b[49m\n\u001b[32m    978\u001b[39m \u001b[43m    \u001b[49m\u001b[43mretries_taken\u001b[49m\u001b[43m=\u001b[49m\u001b[43mretries_taken\u001b[49m\u001b[43m,\u001b[49m\n\u001b[32m    979\u001b[39m \u001b[43m\u001b[49m\u001b[43m)\u001b[49m\n",
            "\u001b[36mFile \u001b[39m\u001b[32m~/Documents/GitHub/opex-apis/opex/lib/python3.11/site-packages/openai/_base_client.py:1062\u001b[39m, in \u001b[36mSyncAPIClient._request\u001b[39m\u001b[34m(self, cast_to, options, retries_taken, stream, stream_cls)\u001b[39m\n\u001b[32m   1060\u001b[39m \u001b[38;5;28;01mif\u001b[39;00m remaining_retries > \u001b[32m0\u001b[39m \u001b[38;5;129;01mand\u001b[39;00m \u001b[38;5;28mself\u001b[39m._should_retry(err.response):\n\u001b[32m   1061\u001b[39m     err.response.close()\n\u001b[32m-> \u001b[39m\u001b[32m1062\u001b[39m     \u001b[38;5;28;01mreturn\u001b[39;00m \u001b[38;5;28;43mself\u001b[39;49m\u001b[43m.\u001b[49m\u001b[43m_retry_request\u001b[49m\u001b[43m(\u001b[49m\n\u001b[32m   1063\u001b[39m \u001b[43m        \u001b[49m\u001b[43minput_options\u001b[49m\u001b[43m,\u001b[49m\n\u001b[32m   1064\u001b[39m \u001b[43m        \u001b[49m\u001b[43mcast_to\u001b[49m\u001b[43m,\u001b[49m\n\u001b[32m   1065\u001b[39m \u001b[43m        \u001b[49m\u001b[43mretries_taken\u001b[49m\u001b[43m=\u001b[49m\u001b[43mretries_taken\u001b[49m\u001b[43m,\u001b[49m\n\u001b[32m   1066\u001b[39m \u001b[43m        \u001b[49m\u001b[43mresponse_headers\u001b[49m\u001b[43m=\u001b[49m\u001b[43merr\u001b[49m\u001b[43m.\u001b[49m\u001b[43mresponse\u001b[49m\u001b[43m.\u001b[49m\u001b[43mheaders\u001b[49m\u001b[43m,\u001b[49m\n\u001b[32m   1067\u001b[39m \u001b[43m        \u001b[49m\u001b[43mstream\u001b[49m\u001b[43m=\u001b[49m\u001b[43mstream\u001b[49m\u001b[43m,\u001b[49m\n\u001b[32m   1068\u001b[39m \u001b[43m        \u001b[49m\u001b[43mstream_cls\u001b[49m\u001b[43m=\u001b[49m\u001b[43mstream_cls\u001b[49m\u001b[43m,\u001b[49m\n\u001b[32m   1069\u001b[39m \u001b[43m    \u001b[49m\u001b[43m)\u001b[49m\n\u001b[32m   1071\u001b[39m \u001b[38;5;66;03m# If the response is streamed then we need to explicitly read the response\u001b[39;00m\n\u001b[32m   1072\u001b[39m \u001b[38;5;66;03m# to completion before attempting to access the response text.\u001b[39;00m\n\u001b[32m   1073\u001b[39m \u001b[38;5;28;01mif\u001b[39;00m \u001b[38;5;129;01mnot\u001b[39;00m err.response.is_closed:\n",
            "\u001b[36mFile \u001b[39m\u001b[32m~/Documents/GitHub/opex-apis/opex/lib/python3.11/site-packages/openai/_base_client.py:1111\u001b[39m, in \u001b[36mSyncAPIClient._retry_request\u001b[39m\u001b[34m(self, options, cast_to, retries_taken, response_headers, stream, stream_cls)\u001b[39m\n\u001b[32m   1107\u001b[39m \u001b[38;5;66;03m# In a synchronous context we are blocking the entire thread. Up to the library user to run the client in a\u001b[39;00m\n\u001b[32m   1108\u001b[39m \u001b[38;5;66;03m# different thread if necessary.\u001b[39;00m\n\u001b[32m   1109\u001b[39m time.sleep(timeout)\n\u001b[32m-> \u001b[39m\u001b[32m1111\u001b[39m \u001b[38;5;28;01mreturn\u001b[39;00m \u001b[38;5;28;43mself\u001b[39;49m\u001b[43m.\u001b[49m\u001b[43m_request\u001b[49m\u001b[43m(\u001b[49m\n\u001b[32m   1112\u001b[39m \u001b[43m    \u001b[49m\u001b[43moptions\u001b[49m\u001b[43m=\u001b[49m\u001b[43moptions\u001b[49m\u001b[43m,\u001b[49m\n\u001b[32m   1113\u001b[39m \u001b[43m    \u001b[49m\u001b[43mcast_to\u001b[49m\u001b[43m=\u001b[49m\u001b[43mcast_to\u001b[49m\u001b[43m,\u001b[49m\n\u001b[32m   1114\u001b[39m \u001b[43m    \u001b[49m\u001b[43mretries_taken\u001b[49m\u001b[43m=\u001b[49m\u001b[43mretries_taken\u001b[49m\u001b[43m \u001b[49m\u001b[43m+\u001b[49m\u001b[43m \u001b[49m\u001b[32;43m1\u001b[39;49m\u001b[43m,\u001b[49m\n\u001b[32m   1115\u001b[39m \u001b[43m    \u001b[49m\u001b[43mstream\u001b[49m\u001b[43m=\u001b[49m\u001b[43mstream\u001b[49m\u001b[43m,\u001b[49m\n\u001b[32m   1116\u001b[39m \u001b[43m    \u001b[49m\u001b[43mstream_cls\u001b[49m\u001b[43m=\u001b[49m\u001b[43mstream_cls\u001b[49m\u001b[43m,\u001b[49m\n\u001b[32m   1117\u001b[39m \u001b[43m\u001b[49m\u001b[43m)\u001b[49m\n",
            "\u001b[36mFile \u001b[39m\u001b[32m~/Documents/GitHub/opex-apis/opex/lib/python3.11/site-packages/openai/_base_client.py:1062\u001b[39m, in \u001b[36mSyncAPIClient._request\u001b[39m\u001b[34m(self, cast_to, options, retries_taken, stream, stream_cls)\u001b[39m\n\u001b[32m   1060\u001b[39m \u001b[38;5;28;01mif\u001b[39;00m remaining_retries > \u001b[32m0\u001b[39m \u001b[38;5;129;01mand\u001b[39;00m \u001b[38;5;28mself\u001b[39m._should_retry(err.response):\n\u001b[32m   1061\u001b[39m     err.response.close()\n\u001b[32m-> \u001b[39m\u001b[32m1062\u001b[39m     \u001b[38;5;28;01mreturn\u001b[39;00m \u001b[38;5;28;43mself\u001b[39;49m\u001b[43m.\u001b[49m\u001b[43m_retry_request\u001b[49m\u001b[43m(\u001b[49m\n\u001b[32m   1063\u001b[39m \u001b[43m        \u001b[49m\u001b[43minput_options\u001b[49m\u001b[43m,\u001b[49m\n\u001b[32m   1064\u001b[39m \u001b[43m        \u001b[49m\u001b[43mcast_to\u001b[49m\u001b[43m,\u001b[49m\n\u001b[32m   1065\u001b[39m \u001b[43m        \u001b[49m\u001b[43mretries_taken\u001b[49m\u001b[43m=\u001b[49m\u001b[43mretries_taken\u001b[49m\u001b[43m,\u001b[49m\n\u001b[32m   1066\u001b[39m \u001b[43m        \u001b[49m\u001b[43mresponse_headers\u001b[49m\u001b[43m=\u001b[49m\u001b[43merr\u001b[49m\u001b[43m.\u001b[49m\u001b[43mresponse\u001b[49m\u001b[43m.\u001b[49m\u001b[43mheaders\u001b[49m\u001b[43m,\u001b[49m\n\u001b[32m   1067\u001b[39m \u001b[43m        \u001b[49m\u001b[43mstream\u001b[49m\u001b[43m=\u001b[49m\u001b[43mstream\u001b[49m\u001b[43m,\u001b[49m\n\u001b[32m   1068\u001b[39m \u001b[43m        \u001b[49m\u001b[43mstream_cls\u001b[49m\u001b[43m=\u001b[49m\u001b[43mstream_cls\u001b[49m\u001b[43m,\u001b[49m\n\u001b[32m   1069\u001b[39m \u001b[43m    \u001b[49m\u001b[43m)\u001b[49m\n\u001b[32m   1071\u001b[39m \u001b[38;5;66;03m# If the response is streamed then we need to explicitly read the response\u001b[39;00m\n\u001b[32m   1072\u001b[39m \u001b[38;5;66;03m# to completion before attempting to access the response text.\u001b[39;00m\n\u001b[32m   1073\u001b[39m \u001b[38;5;28;01mif\u001b[39;00m \u001b[38;5;129;01mnot\u001b[39;00m err.response.is_closed:\n",
            "\u001b[36mFile \u001b[39m\u001b[32m~/Documents/GitHub/opex-apis/opex/lib/python3.11/site-packages/openai/_base_client.py:1111\u001b[39m, in \u001b[36mSyncAPIClient._retry_request\u001b[39m\u001b[34m(self, options, cast_to, retries_taken, response_headers, stream, stream_cls)\u001b[39m\n\u001b[32m   1107\u001b[39m \u001b[38;5;66;03m# In a synchronous context we are blocking the entire thread. Up to the library user to run the client in a\u001b[39;00m\n\u001b[32m   1108\u001b[39m \u001b[38;5;66;03m# different thread if necessary.\u001b[39;00m\n\u001b[32m   1109\u001b[39m time.sleep(timeout)\n\u001b[32m-> \u001b[39m\u001b[32m1111\u001b[39m \u001b[38;5;28;01mreturn\u001b[39;00m \u001b[38;5;28;43mself\u001b[39;49m\u001b[43m.\u001b[49m\u001b[43m_request\u001b[49m\u001b[43m(\u001b[49m\n\u001b[32m   1112\u001b[39m \u001b[43m    \u001b[49m\u001b[43moptions\u001b[49m\u001b[43m=\u001b[49m\u001b[43moptions\u001b[49m\u001b[43m,\u001b[49m\n\u001b[32m   1113\u001b[39m \u001b[43m    \u001b[49m\u001b[43mcast_to\u001b[49m\u001b[43m=\u001b[49m\u001b[43mcast_to\u001b[49m\u001b[43m,\u001b[49m\n\u001b[32m   1114\u001b[39m \u001b[43m    \u001b[49m\u001b[43mretries_taken\u001b[49m\u001b[43m=\u001b[49m\u001b[43mretries_taken\u001b[49m\u001b[43m \u001b[49m\u001b[43m+\u001b[49m\u001b[43m \u001b[49m\u001b[32;43m1\u001b[39;49m\u001b[43m,\u001b[49m\n\u001b[32m   1115\u001b[39m \u001b[43m    \u001b[49m\u001b[43mstream\u001b[49m\u001b[43m=\u001b[49m\u001b[43mstream\u001b[49m\u001b[43m,\u001b[49m\n\u001b[32m   1116\u001b[39m \u001b[43m    \u001b[49m\u001b[43mstream_cls\u001b[49m\u001b[43m=\u001b[49m\u001b[43mstream_cls\u001b[49m\u001b[43m,\u001b[49m\n\u001b[32m   1117\u001b[39m \u001b[43m\u001b[49m\u001b[43m)\u001b[49m\n",
            "\u001b[36mFile \u001b[39m\u001b[32m~/Documents/GitHub/opex-apis/opex/lib/python3.11/site-packages/openai/_base_client.py:1077\u001b[39m, in \u001b[36mSyncAPIClient._request\u001b[39m\u001b[34m(self, cast_to, options, retries_taken, stream, stream_cls)\u001b[39m\n\u001b[32m   1074\u001b[39m         err.response.read()\n\u001b[32m   1076\u001b[39m     log.debug(\u001b[33m\"\u001b[39m\u001b[33mRe-raising status error\u001b[39m\u001b[33m\"\u001b[39m)\n\u001b[32m-> \u001b[39m\u001b[32m1077\u001b[39m     \u001b[38;5;28;01mraise\u001b[39;00m \u001b[38;5;28mself\u001b[39m._make_status_error_from_response(err.response) \u001b[38;5;28;01mfrom\u001b[39;00m\u001b[38;5;250m \u001b[39m\u001b[38;5;28;01mNone\u001b[39;00m\n\u001b[32m   1079\u001b[39m \u001b[38;5;28;01mreturn\u001b[39;00m \u001b[38;5;28mself\u001b[39m._process_response(\n\u001b[32m   1080\u001b[39m     cast_to=cast_to,\n\u001b[32m   1081\u001b[39m     options=options,\n\u001b[32m   (...)\u001b[39m\u001b[32m   1085\u001b[39m     retries_taken=retries_taken,\n\u001b[32m   1086\u001b[39m )\n",
            "\u001b[31mRateLimitError\u001b[39m: Error code: 429 - {'error': {'message': 'You exceeded your current quota, please check your plan and billing details. For more information on this error, read the docs: https://platform.openai.com/docs/guides/error-codes/api-errors.', 'type': 'insufficient_quota', 'param': None, 'code': 'insufficient_quota'}}"
          ]
        }
      ],
      "source": [
        "print(llm.invoke(prompt1))"
      ]
    },
    {
      "cell_type": "code",
      "execution_count": 18,
      "metadata": {
        "id": "r48DZAmjwA3l"
      },
      "outputs": [],
      "source": [
        "query2=\"What are IBM’s top-performing geographic regions in terms of revenue?\"\n",
        "documents2=retreiver(query2)"
      ]
    },
    {
      "cell_type": "code",
      "execution_count": 19,
      "metadata": {
        "id": "EdhCApjKwA7f"
      },
      "outputs": [],
      "source": [
        "prompt2=prompt_template.format(question=query2, context=documents2)"
      ]
    },
    {
      "cell_type": "code",
      "execution_count": 20,
      "metadata": {
        "colab": {
          "base_uri": "https://localhost:8080/"
        },
        "id": "SSpvfvOgwBA2",
        "outputId": "d59cc65d-58ed-4592-ddd1-62c2e9f7753f"
      },
      "outputs": [
        {
          "name": "stdout",
          "output_type": "stream",
          "text": [
            "\n",
            "        The United States is IBM's top-performing geographic region in terms of revenue.\n"
          ]
        }
      ],
      "source": [
        "print(llm.invoke(prompt2))"
      ]
    },
    {
      "cell_type": "code",
      "execution_count": 21,
      "metadata": {
        "id": "zp2NZswzwBD0"
      },
      "outputs": [],
      "source": [
        "query3=\"How is IBM reducing its carbon footprint?\"\n",
        "documents3=retreiver(query3)"
      ]
    },
    {
      "cell_type": "code",
      "execution_count": 22,
      "metadata": {
        "id": "Ttz8vJDcwBGa"
      },
      "outputs": [],
      "source": [
        "prompt3=prompt_template.format(question=query3, context=documents3)"
      ]
    },
    {
      "cell_type": "code",
      "execution_count": 23,
      "metadata": {
        "colab": {
          "base_uri": "https://localhost:8080/"
        },
        "id": "z_ab496R_x6f",
        "outputId": "334e7a4f-88bc-49db-f14d-65617cb99150"
      },
      "outputs": [
        {
          "name": "stdout",
          "output_type": "stream",
          "text": [
            "\n",
            "        IBM is reducing its carbon footprint by achieving a 63% reduction in greenhouse gas emissions against the base year 2010.\n"
          ]
        }
      ],
      "source": [
        "print(llm.invoke(prompt3))"
      ]
    }
  ],
  "metadata": {
    "colab": {
      "provenance": []
    },
    "kernelspec": {
      "display_name": "Python 3",
      "name": "python3"
    },
    "language_info": {
      "codemirror_mode": {
        "name": "ipython",
        "version": 3
      },
      "file_extension": ".py",
      "mimetype": "text/x-python",
      "name": "python",
      "nbconvert_exporter": "python",
      "pygments_lexer": "ipython3",
      "version": "3.11.9"
    }
  },
  "nbformat": 4,
  "nbformat_minor": 0
}
